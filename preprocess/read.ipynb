{
 "cells": [
  {
   "cell_type": "code",
   "execution_count": 1,
   "outputs": [],
   "source": [
    "import pickle\n",
    "import pandas as pd\n",
    "import numpy as np"
   ],
   "metadata": {
    "collapsed": false
   }
  },
  {
   "cell_type": "code",
   "execution_count": 2,
   "outputs": [],
   "source": [
    "with open(\"../data/dataset5/training_56/data_props.pkl\", \"rb\") as f:\n",
    "    df: pd.DataFrame = pickle.load(f, encoding='latin1')"
   ],
   "metadata": {
    "collapsed": false
   }
  },
  {
   "cell_type": "code",
   "execution_count": 24,
   "outputs": [
    {
     "name": "stdout",
     "output_type": "stream",
     "text": [
      "                             image  height  width  word2id_len  bin_len  \\\n",
      "0        23be72ded29e9b4_basic.png      78    738          112      151   \n",
      "1        8c904c5d9c7bd63_basic.png      94    962          129      151   \n",
      "2        1f111caa1be3516_basic.png      87    291           51       56   \n",
      "4        7483d06c1e14dcb_basic.png      60    521           61       65   \n",
      "8        1d7098797009973_basic.png      80    817          114      151   \n",
      "...                            ...     ...    ...          ...      ...   \n",
      "154938   f5bb0558641902f_basic.png     120    469          107      151   \n",
      "154939   bdf0210244a0cd3_basic.png      83   1010           95      106   \n",
      "154943   d5be0c635f85b9c_basic.png      77    883          112      151   \n",
      "1063144  5250df4a7a70a32_basic.png      36    530           46       49   \n",
      "1064383  6b20b9e220a6b11_basic.png      40    602           45       49   \n",
      "\n",
      "                                                   word2id  \\\n",
      "0        [163, 305, 334, 11, 145, 336, 304, 334, 162, 3...   \n",
      "1        [311, 326, 304, 334, 17, 336, 28, 6, 16, 11, 3...   \n",
      "2        [296, 151, 305, 334, 195, 334, 315, 322, 323, ...   \n",
      "4        [48, 305, 334, 326, 327, 307, 327, 336, 28, 17...   \n",
      "8        [334, 150, 334, 224, 304, 334, 227, 227, 336, ...   \n",
      "...                                                    ...   \n",
      "154938   [48, 305, 334, 206, 336, 28, 176, 101, 334, 30...   \n",
      "154939   [33, 305, 334, 314, 336, 304, 334, 314, 336, 6...   \n",
      "154943   [32, 305, 334, 315, 304, 334, 15, 336, 327, 30...   \n",
      "1063144  [260, 334, 11, 314, 336, 60, 334, 120, 41, 336...   \n",
      "1064383  [53, 28, 53, 305, 334, 15, 336, 312, 304, 334,...   \n",
      "\n",
      "                                               latex_ascii  \\\n",
      "0        \\int _ { - \\epsilon } ^ { \\infty } d l \\: \\mat...   \n",
      "1        d s ^ { 2 } = ( 1 - { \\frac { q c o s \\theta }...   \n",
      "2        \\widetilde \\gamma _ { \\mathrm { h o p f } } \\s...   \n",
      "4        S _ { s t a t } = 2 \\pi \\sqrt { N _ { 5 } ^ { ...   \n",
      "8        { \\frac { \\phi ^ { \\prime \\prime } } { A } } +...   \n",
      "...                                                    ...   \n",
      "154938   S _ { \\nu } = \\left( \\begin{array} { c c c } {...   \n",
      "154939   D _ { g } ^ { g } ( \\xi , Y ) | _ { D L } = \\b...   \n",
      "154943   C _ { h ^ { 0 } t c } = \\frac { 1 } { \\sqrt { ...   \n",
      "1063144  \\sqrt { - g } \\, { \\cal L } _ { g r a v } = - ...   \n",
      "1064383  X = X _ { 0 } e ^ { 0 } + X _ { i } e ^ { i } ...   \n",
      "\n",
      "                                                padded_seq  padded_seq_len  \\\n",
      "0        [163, 305, 334, 11, 145, 336, 304, 334, 162, 3...             151   \n",
      "1        [311, 326, 304, 334, 17, 336, 28, 6, 16, 11, 3...             151   \n",
      "2        [296, 151, 305, 334, 195, 334, 315, 322, 323, ...              56   \n",
      "4        [48, 305, 334, 326, 327, 307, 327, 336, 28, 17...              65   \n",
      "8        [334, 150, 334, 224, 304, 334, 227, 227, 336, ...             151   \n",
      "...                                                    ...             ...   \n",
      "154938   [48, 305, 334, 206, 336, 28, 176, 101, 334, 30...             151   \n",
      "154939   [33, 305, 334, 314, 336, 304, 334, 314, 336, 6...             106   \n",
      "154943   [32, 305, 334, 315, 304, 334, 15, 336, 327, 30...             151   \n",
      "1063144  [260, 334, 11, 314, 336, 60, 334, 120, 41, 336...              49   \n",
      "1064383  [53, 28, 53, 305, 334, 15, 336, 312, 304, 334,...              49   \n",
      "\n",
      "         seq_len  squashed_len  \\\n",
      "0            113           113   \n",
      "1            130           130   \n",
      "2             52            52   \n",
      "4             62            62   \n",
      "8            115           115   \n",
      "...          ...           ...   \n",
      "154938       108           108   \n",
      "154939        96            96   \n",
      "154943       113           113   \n",
      "1063144       47            47   \n",
      "1064383       46            46   \n",
      "\n",
      "                                              squashed_seq  \n",
      "0        [163, 305, 334, 11, 145, 336, 304, 334, 162, 3...  \n",
      "1        [311, 326, 304, 334, 17, 336, 28, 6, 16, 11, 3...  \n",
      "2        [296, 151, 305, 334, 195, 334, 315, 322, 323, ...  \n",
      "4        [48, 305, 334, 326, 327, 307, 327, 336, 28, 17...  \n",
      "8        [334, 150, 334, 224, 304, 334, 227, 227, 336, ...  \n",
      "...                                                    ...  \n",
      "154938   [48, 305, 334, 206, 336, 28, 176, 101, 334, 30...  \n",
      "154939   [33, 305, 334, 314, 336, 304, 334, 314, 336, 6...  \n",
      "154943   [32, 305, 334, 315, 304, 334, 15, 336, 327, 30...  \n",
      "1063144  [260, 334, 11, 314, 336, 60, 334, 120, 41, 336...  \n",
      "1064383  [53, 28, 53, 305, 334, 15, 336, 312, 304, 334,...  \n",
      "\n",
      "[114408 rows x 12 columns]\n"
     ]
    }
   ],
   "source": [
    "print(df)"
   ],
   "metadata": {
    "collapsed": false
   }
  },
  {
   "cell_type": "code",
   "execution_count": 25,
   "outputs": [
    {
     "name": "stdout",
     "output_type": "stream",
     "text": [
      "{0: '\\\\eos', 1: '\\\\bos', 2: '!', 3: '\"', 4: '&', 5: \"'\", 6: '(', 7: ')', 8: '*', 9: '+', 10: ',', 11: '-', 12: '--', 13: '.', 14: '/', 15: '0', 16: '1', 17: '2', 18: '3', 19: '4', 20: '5', 21: '6', 22: '7', 23: '8', 24: '9', 25: ':', 26: ';', 27: '<', 28: '=', 29: '>', 30: 'A', 31: 'B', 32: 'C', 33: 'D', 34: 'E', 35: 'F', 36: 'G', 37: 'H', 38: 'I', 39: 'J', 40: 'K', 41: 'L', 42: 'M', 43: 'N', 44: 'O', 45: 'P', 46: 'Q', 47: 'R', 48: 'S', 49: 'T', 50: 'U', 51: 'V', 52: 'W', 53: 'X', 54: 'Y', 55: 'Z', 56: '[', 57: '\\\\', 58: '\\\\!', 59: '\\\\#', 60: '\\\\,', 61: '\\\\/', 62: '\\\\:', 63: '\\\\;', 64: '\\\\Big', 65: '\\\\Bigg', 66: '\\\\Biggl', 67: '\\\\Biggr', 68: '\\\\Bigl', 69: '\\\\Bigr', 70: '\\\\Delta', 71: '\\\\Gamma', 72: '\\\\Im', 73: '\\\\L', 74: '\\\\Lambda', 75: '\\\\Large', 76: '\\\\Leftrightarrow', 77: '\\\\Longleftrightarrow', 78: '\\\\Longrightarrow', 79: '\\\\O', 80: '\\\\Omega', 81: '\\\\P', 82: '\\\\Phi', 83: '\\\\Pi', 84: '\\\\Psi', 85: '\\\\Re', 86: '\\\\Rightarrow', 87: '\\\\S', 88: '\\\\Sigma', 89: '\\\\Theta', 90: '\\\\Upsilon', 91: '\\\\Vert', 92: '\\\\Xi', 93: '\\\\\\\\', 94: '\\\\_', 95: '\\\\acute', 96: '\\\\alpha', 97: '\\\\approx', 98: '\\\\ast', 99: '\\\\atop', 100: '\\\\bar', 101: '\\\\begin{array}', 102: '\\\\begin{cases}', 103: '\\\\begin{matrix}', 104: '\\\\beta', 105: '\\\\bf', 106: '\\\\big', 107: '\\\\bigg', 108: '\\\\biggl', 109: '\\\\biggr', 110: '\\\\bigl', 111: '\\\\bigoplus', 112: '\\\\bigotimes', 113: '\\\\bigr', 114: '\\\\bigtriangleup', 115: '\\\\binom', 116: '\\\\boldmath', 117: '\\\\bot', 118: '\\\\breve', 119: '\\\\bullet', 120: '\\\\cal', 121: '\\\\cap', 122: '\\\\cdot', 123: '\\\\cdots', 124: '\\\\check', 125: '\\\\chi', 126: '\\\\circ', 127: '\\\\cong', 128: '\\\\cup', 129: '\\\\d', 130: '\\\\dag', 131: '\\\\dagger', 132: '\\\\ddot', 133: '\\\\ddots', 134: '\\\\delta', 135: '\\\\displaystyle', 136: '\\\\dot', 137: '\\\\doteq', 138: '\\\\dots', 139: '\\\\downarrow', 140: '\\\\ell', 141: '\\\\end{array}', 142: '\\\\end{cases}', 143: '\\\\end{matrix}', 144: '\\\\enspace', 145: '\\\\epsilon', 146: '\\\\equiv', 147: '\\\\eta', 148: '\\\\footnotesize', 149: '\\\\forall', 150: '\\\\frac', 151: '\\\\gamma', 152: '\\\\ge', 153: '\\\\geq', 154: '\\\\gg', 155: '\\\\hat', 156: '\\\\hbar', 157: '\\\\hfill', 158: '\\\\hline', 159: '\\\\i', 160: '\\\\imath', 161: '\\\\in', 162: '\\\\infty', 163: '\\\\int', 164: '\\\\iota', 165: '\\\\it', 166: '\\\\jmath', 167: '\\\\kappa', 168: '\\\\l', 169: '\\\\lambda', 170: '\\\\langle', 171: '\\\\large', 172: '\\\\lbrace', 173: '\\\\lbrack', 174: '\\\\ldots', 175: '\\\\le', 176: '\\\\left(', 177: '\\\\left.', 178: '\\\\left<', 179: '\\\\left[', 180: '\\\\left\\\\langle', 181: '\\\\left\\\\vert', 182: '\\\\left\\\\{', 183: '\\\\leftarrow', 184: '\\\\leftrightarrow', 185: '\\\\left|', 186: '\\\\leq', 187: '\\\\ll', 188: '\\\\longleftrightarrow', 189: '\\\\longrightarrow', 190: '\\\\mapsto', 191: '\\\\mathbf', 192: '\\\\mathcal', 193: '\\\\mathit', 194: '\\\\mathop', 195: '\\\\mathrm', 196: '\\\\mathsf', 197: '\\\\mid', 198: '\\\\mit', 199: '\\\\mp', 200: '\\\\mu', 201: '\\\\nabla', 202: '\\\\ne', 203: '\\\\neq', 204: '\\\\nonumber', 205: '\\\\not', 206: '\\\\nu', 207: '\\\\null', 208: '\\\\o', 209: '\\\\odot', 210: '\\\\oint', 211: '\\\\omega', 212: '\\\\operatorname', 213: '\\\\operatorname*', 214: '\\\\oplus', 215: '\\\\otimes', 216: '\\\\overbrace', 217: '\\\\overleftarrow', 218: '\\\\overline', 219: '\\\\overrightarrow', 220: '\\\\parallel', 221: '\\\\partial', 222: '\\\\perp', 223: '\\\\phantom', 224: '\\\\phi', 225: '\\\\pi', 226: '\\\\pm', 227: '\\\\prime', 228: '\\\\prod', 229: '\\\\propto', 230: '\\\\protect', 231: '\\\\psi', 232: '\\\\qquad', 233: '\\\\quad', 234: '\\\\rangle', 235: '\\\\rbrace', 236: '\\\\rbrack', 237: '\\\\rho', 238: '\\\\right)', 239: '\\\\right.', 240: '\\\\right>', 241: '\\\\right\\\\rangle', 242: '\\\\right\\\\vert', 243: '\\\\right\\\\}', 244: '\\\\right]', 245: '\\\\rightarrow', 246: '\\\\rightharpoonup', 247: '\\\\right|', 248: '\\\\sb', 249: '\\\\scriptscriptstyle', 250: '\\\\scriptsize', 251: '\\\\scriptstyle', 252: '\\\\sf', 253: '\\\\sigma', 254: '\\\\sim', 255: '\\\\simeq', 256: '\\\\sl', 257: '\\\\slash', 258: '\\\\small', 259: '\\\\sp', 260: '\\\\sqrt', 261: '\\\\stackrel', 262: '\\\\star', 263: '\\\\strut', 264: '\\\\subset', 265: '\\\\sum', 266: '\\\\supset', 267: '\\\\tau', 268: '\\\\textbf', 269: '\\\\textrm', 270: '\\\\textstyle', 271: '\\\\theta', 272: '\\\\tilde', 273: '\\\\times', 274: '\\\\tiny', 275: '\\\\to', 276: '\\\\triangle', 277: '\\\\tt', 278: '\\\\underbrace', 279: '\\\\underline', 280: '\\\\uparrow', 281: '\\\\upsilon', 282: '\\\\varDelta', 283: '\\\\varepsilon', 284: '\\\\varphi', 285: '\\\\varpi', 286: '\\\\varrho', 287: '\\\\varsigma', 288: '\\\\vartheta', 289: '\\\\vdots', 290: '\\\\vec', 291: '\\\\vee', 292: '\\\\vert', 293: '\\\\vphantom', 294: '\\\\wedge', 295: '\\\\widehat', 296: '\\\\widetilde', 297: '\\\\wp', 298: '\\\\xi', 299: '\\\\zeta', 300: '\\\\{', 301: '\\\\|', 302: '\\\\}', 303: ']', 304: '^', 305: '_', 306: '`', 307: 'a', 308: 'b', 309: 'c', 310: 'cm', 311: 'd', 312: 'e', 313: 'f', 314: 'g', 315: 'h', 316: 'i', 317: 'j', 318: 'k', 319: 'l', 320: 'm', 321: 'n', 322: 'o', 323: 'p', 324: 'q', 325: 'r', 326: 's', 327: 't', 328: 'u', 329: 'v', 330: 'w', 331: 'x', 332: 'y', 333: 'z', 334: '{', 335: '|', 336: '}', 337: '~'}\n",
      "{'freq': {'\\\\equiv': 7256, '\\\\big': 1672, '\\\\geq': 1160, '\\\\quad': 11845, 'V': 21706, '\\\\perp': 3300, '\\\\right]': 13792, '\\\\leq': 2011, '\\\\right\\\\}': 3256, '\\\\rbrack': 139, 'X': 13663, '|': 35675, '{': 1819361, '\\\\widehat': 1699, '\\\\zeta': 4667, '\\\\cdot': 9343, '\\\\left|': 2590, '\\\\mathbf': 2136, '\\\\dag': 1189, '\\\\in': 2096, 'Z': 11065, '\\\\infty': 10641, '(': 276055, '\\\\ll': 466, '\\\\:': 4353, '\\\\;': 46758, '\\\\xi': 12855, '0': 116887, '\\\\mathsf': 113, '\\\\vartheta': 1190, '\\\\Re': 192, '4': 47279, '\\\\!': 9555, '\\\\left[': 13761, '\\\\Im': 282, '\\\\,': 85148, '^': 485778, '<': 6135, '\\\\bar': 27681, '\\\\vert': 3017, '\\\\bos': 154384, '\\\\pm': 10112, '\\\\sqrt': 21157, '\\\\varpi': 139, '\\\\S': 103, '\\\\P': 79, '\\\\oplus': 651, 'H': 20035, '\\\\\\\\': 33217, '\\\\left(': 45207, '\\\\longrightarrow': 890, 'L': 27920, 'p': 56259, '\\\\sb': 117, 'P': 20643, '\\\\textbf': 60, 'b': 34903, 'T': 28723, '\\\\Xi': 682, '\\\\right\\\\vert': 119, '\\\\O': 72, '\\\\L': 182, '\\\\Sigma': 4856, '\\\\scriptstyle': 186, '\\\\': 35653, '\\\\left<': 423, '\\\\tilde': 17988, '\\\\Gamma': 14010, '\\\\omega': 15538, 'd': 77160, '\\\\star': 1314, '--': 528, '\\\\textrm': 327, '\\\\|': 429, '\\\\}': 6548, '\\\\{': 6514, '\\\\vec': 15018, '\\\\sim': 4368, '\\\\hat': 17936, '\\\\vee': 142, '\\\\d': 254, '\\\\rbrace': 113, 'q': 37874, 'h': 21198, '\\\\o': 161, '\\\\l': 312, '\\\\Leftrightarrow': 84, '\\\\prod': 2741, '\\\\ge': 465, '\\\\strut': 56, '\\\\gamma': 24413, 'r': 47584, 'j': 37603, '\\\\right|': 2989, '\\\\lbrace': 112, '\\\\bf': 15727, '\\\\lbrack': 289, '\\\\supset': 131, '\\\\boldmath': 1123, 'l': 41104, '\\\\Psi': 6239, '\\\\left\\\\vert': 96, '\\\\oint': 728, '\\\\left\\\\langle': 803, '\\\\bot': 639, '\\\\hline': 267, '\\\\sl': 67, '\\\\Omega': 7002, '\\\\underline': 1851, '\\\\begin{matrix}': 1774, '\\\\end{matrix}': 1774, '\\\\cal': 27548, \"'\": 987, '\\\\mathit': 86, 'z': 30474, '\\\\triangle': 420, '+': 151305, '\\\\Longrightarrow': 127, '\\\\footnotesize': 116, '/': 25093, '\\\\leftrightarrow': 515, '\\\\psi': 17493, '3': 58433, '\\\\not': 1157, 'x': 85612, '7': 5845, '\\\\overbrace': 61, '\\\\cap': 113, '\\\\hfill': 51, ';': 9074, '\\\\int': 25756, '\\\\ldots': 3922, '\\\\varsigma': 96, '\\\\prime': 39193, '\\\\it': 345, '\\\\times': 4052, 'C': 18947, '\\\\propto': 798, 'G': 18614, '\\\\right>': 518, '\\\\slash': 185, 'K': 13237, '\\\\simeq': 3172, 'O': 6229, '\\\\nonumber': 666, '\\\\right)': 45216, '\\\\protect': 55, 'S': 25276, '\\\\bullet': 180, '\\\\vdots': 381, '\\\\uparrow': 453, 'W': 12642, '\\\\right.': 1673, '\\\\leftarrow': 87, '[': 22701, '\\\\varphi': 8246, '\\\\otimes': 2941, '\\\\mathrm': 39689, '\\\\rightarrow': 6726, '\\\\textstyle': 907, '\\\\bigoplus': 135, 'c': 60763, '\\\\sigma': 23409, '\\\\cdots': 4274, '\\\\jmath': 265, '\\\\downarrow': 344, '\\\\Rightarrow': 314, 'o': 20784, '\\\\gg': 366, '\\\\tiny': 307, '\\\\cong': 294, '\\\\mp': 1174, '\\\\operatorname*': 2669, 'w': 8481, '\\\\large': 88, '\\\\breve': 153, '\\\\end{array}': 10681, 's': 58383, '\\\\i': 77, '\\\\underbrace': 168, '\\\\odot': 125, '\\\\begin{array}': 10681, '\\\\Delta': 13105, '\\\\widetilde': 3070, '\\\\varepsilon': 5062, 'cm': 62, '\\\\frac': 160645, '\\\\dot': 7812, '\\\\le': 656, ',': 168783, '\\\\eta': 13955, '\\\\atop': 219, '\\\\eos': 154384, '\\\\neq': 925, '\\\\theta': 20408, '\\\\rho': 18542, '\\\\Upsilon': 330, '\\\\forall': 296, '\\\\alpha': 45411, '\\\\delta': 26110, '\\\\right\\\\rangle': 1122, '\\\\mathcal': 3521, '\"': 127, '\\\\circ': 940, '\\\\sp': 324, '&': 47450, '*': 10711, '\\\\dots': 1719, '.': 79444, '\\\\mathop': 51, '2': 328261, 'g': 39223, '_': 593759, '6': 13563, '\\\\rightharpoonup': 82, '\\\\upsilon': 177, ':': 3757, '\\\\lambda': 28698, '>': 5914, 'B': 25931, '\\\\operatorname': 29440, '\\\\Bigr': 1240, 'F': 23732, '\\\\parallel': 446, '\\\\chi': 9344, '\\\\Biggr': 378, '\\\\to': 4525, '\\\\doteq': 62, 'N': 28824, '\\\\Bigg': 637, '\\\\tt': 68, 'R': 27575, '8': 10849, '\\\\wedge': 2326, '\\\\/': 55, '\\\\sf': 270, '\\\\Bigl': 1211, '\\\\null': 74, '\\\\approx': 2831, '\\\\overrightarrow': 349, '\\\\overline': 7874, '\\\\overleftarrow': 66, '\\\\qquad': 7215, 'f': 33942, '\\\\biggr': 1305, 't': 52037, '\\\\binom': 265, 'n': 80644, 'i': 110775, '\\\\ddots': 200, '\\\\kappa': 7428, '\\\\biggl': 1273, 'v': 16852, '}': 1819361, '\\\\enspace': 70, '\\\\ast': 2075, '\\\\Lambda': 10536, '~': 47217, '\\\\Phi': 11635, '\\\\cup': 101, '\\\\acute': 89, '\\\\ne': 218, '\\\\dagger': 5942, '\\\\epsilon': 15441, '\\\\left\\\\{': 4399, '\\\\scriptscriptstyle': 460, '\\\\Theta': 2430, '\\\\partial': 36174, '\\\\iota': 301, '\\\\stackrel': 1576, '\\\\longleftrightarrow': 87, '\\\\nu': 37516, '\\\\wp': 184, '\\\\begin{cases}': 135, '\\\\pi': 41379, '\\\\end{cases}': 135, 'k': 57655, 'D': 25504, '!': 3111, '\\\\phi': 28342, '\\\\Longleftrightarrow': 61, '\\\\mid': 2469, '\\\\Pi': 3587, ')': 275817, '\\\\vphantom': 103, '-': 197544, '\\\\#': 116, '\\\\langle': 8398, '\\\\small': 148, '1': 224635, '5': 15199, '\\\\mapsto': 235, '\\\\mit': 168, '\\\\_': 70, '9': 5384, '\\\\tau': 16652, '\\\\varrho': 517, '=': 186207, '\\\\bigotimes': 64, 'A': 41799, '\\\\Vert': 66, '\\\\check': 373, 'J': 12982, 'E': 17721, '\\\\imath': 444, '\\\\beta': 25476, 'I': 15052, '\\\\scriptsize': 463, '\\\\phantom': 292, 'M': 34573, '\\\\left.': 1413, 'Q': 20247, '\\\\displaystyle': 2994, 'U': 11828, '\\\\ell': 4840, '\\\\Large': 75, 'Y': 5645, '\\\\nabla': 3738, ']': 22807, '\\\\mu': 69295, '\\\\hbar': 2496, 'a': 69081, '\\\\Big': 3201, '\\\\bigtriangleup': 74, 'e': 61282, '\\\\bigr': 765, '`': 91, '\\\\ddot': 686, '\\\\sum': 18207, 'm': 66059, '\\\\bigg': 1592, 'u': 22054, 'y': 22458, '\\\\bigl': 761, '\\\\rangle': 11438, '\\\\subset': 253, '\\\\varDelta': 55, '\\\\Biggl': 393}, 'id': {'\\\\equiv': 146, '\\\\big': 106, '\\\\geq': 153, '\\\\quad': 233, 'V': 51, '\\\\perp': 222, '\\\\right]': 244, '\\\\leq': 186, '\\\\right\\\\}': 243, '\\\\rbrack': 236, 'X': 53, '|': 335, '{': 334, '\\\\widehat': 295, '\\\\zeta': 299, '\\\\cdot': 122, '\\\\left|': 185, '\\\\mathbf': 191, '\\\\dag': 130, '\\\\in': 161, 'Z': 55, '\\\\infty': 162, '(': 6, '\\\\ll': 187, '\\\\:': 62, '\\\\;': 63, '\\\\xi': 298, '0': 15, '\\\\mathsf': 196, '\\\\vartheta': 288, '\\\\Re': 85, '4': 19, '\\\\!': 58, '\\\\left[': 179, '\\\\Im': 72, '\\\\,': 60, '^': 304, '<': 27, '\\\\bar': 100, '\\\\vert': 292, '\\\\bos': 1, '\\\\pm': 226, '\\\\sqrt': 260, '\\\\varpi': 285, '\\\\S': 87, '\\\\P': 81, '\\\\oplus': 214, 'H': 37, '\\\\\\\\': 93, '\\\\left(': 176, '\\\\longrightarrow': 189, 'L': 41, 'p': 323, '\\\\sb': 248, 'P': 45, '\\\\textbf': 268, 'b': 308, 'T': 49, '\\\\Xi': 92, '\\\\right\\\\vert': 242, '\\\\O': 79, '\\\\L': 73, '\\\\Sigma': 88, '\\\\scriptstyle': 251, '\\\\': 57, '\\\\left<': 178, '\\\\tilde': 272, '\\\\Gamma': 71, '\\\\omega': 211, 'd': 311, '\\\\star': 262, '--': 12, '\\\\textrm': 269, '\\\\|': 301, '\\\\}': 302, '\\\\{': 300, '\\\\vec': 290, '\\\\sim': 254, '\\\\hat': 155, '\\\\vee': 291, '\\\\d': 129, '\\\\rbrace': 235, 'q': 324, 'h': 315, '\\\\o': 208, '\\\\l': 168, '\\\\Leftrightarrow': 76, '\\\\prod': 228, '\\\\ge': 152, '\\\\strut': 263, '\\\\gamma': 151, 'r': 325, 'j': 317, '\\\\right|': 247, '\\\\lbrace': 172, '\\\\bf': 105, '\\\\lbrack': 173, '\\\\supset': 266, '\\\\boldmath': 116, 'l': 319, '\\\\Psi': 84, '\\\\left\\\\vert': 181, '\\\\oint': 210, '\\\\left\\\\langle': 180, '\\\\bot': 117, '\\\\hline': 158, '\\\\sl': 256, '\\\\Omega': 80, '\\\\underline': 279, '\\\\begin{matrix}': 103, '\\\\end{matrix}': 143, '\\\\cal': 120, \"'\": 5, '\\\\mathit': 193, 'z': 333, '\\\\triangle': 276, '+': 9, '\\\\Longrightarrow': 78, '\\\\footnotesize': 148, '/': 14, '\\\\leftrightarrow': 184, '\\\\psi': 231, '3': 18, '\\\\not': 205, 'x': 331, '7': 22, '\\\\overbrace': 216, '\\\\cap': 121, '\\\\hfill': 157, ';': 26, '\\\\int': 163, '\\\\ldots': 174, '\\\\varsigma': 287, '\\\\prime': 227, '\\\\it': 165, '\\\\times': 273, 'C': 32, '\\\\propto': 229, 'G': 36, '\\\\right>': 240, '\\\\slash': 257, 'K': 40, '\\\\simeq': 255, 'O': 44, '\\\\nonumber': 204, '\\\\right)': 238, '\\\\protect': 230, 'S': 48, '\\\\bullet': 119, '\\\\vdots': 289, '\\\\uparrow': 280, 'W': 52, '\\\\right.': 239, '\\\\leftarrow': 183, '[': 56, '\\\\varphi': 284, '\\\\otimes': 215, '\\\\mathrm': 195, '\\\\rightarrow': 245, '\\\\textstyle': 270, '\\\\bigoplus': 111, 'c': 309, '\\\\sigma': 253, '\\\\cdots': 123, '\\\\jmath': 166, '\\\\downarrow': 139, '\\\\Rightarrow': 86, 'o': 322, '\\\\gg': 154, '\\\\tiny': 274, '\\\\cong': 127, '\\\\mp': 199, '\\\\operatorname*': 213, 'w': 330, '\\\\large': 171, '\\\\breve': 118, '\\\\end{array}': 141, 's': 326, '\\\\i': 159, '\\\\underbrace': 278, '\\\\odot': 209, '\\\\begin{array}': 101, '\\\\Delta': 70, '\\\\widetilde': 296, '\\\\varepsilon': 283, 'cm': 310, '\\\\frac': 150, '\\\\dot': 136, '\\\\le': 175, ',': 10, '\\\\eta': 147, '\\\\atop': 99, '\\\\eos': 0, '\\\\neq': 203, '\\\\theta': 271, '\\\\rho': 237, '\\\\Upsilon': 90, '\\\\forall': 149, '\\\\alpha': 96, '\\\\delta': 134, '\\\\right\\\\rangle': 241, '\\\\mathcal': 192, '\"': 3, '\\\\circ': 126, '\\\\sp': 259, '&': 4, '*': 8, '\\\\dots': 138, '.': 13, '\\\\mathop': 194, '2': 17, 'g': 314, '_': 305, '6': 21, '\\\\rightharpoonup': 246, '\\\\upsilon': 281, ':': 25, '\\\\lambda': 169, '>': 29, 'B': 31, '\\\\operatorname': 212, '\\\\Bigr': 69, 'F': 35, '\\\\parallel': 220, '\\\\chi': 125, '\\\\Biggr': 67, '\\\\to': 275, '\\\\doteq': 137, 'N': 43, '\\\\Bigg': 65, '\\\\tt': 277, 'R': 47, '8': 23, '\\\\wedge': 294, '\\\\/': 61, '\\\\sf': 252, '\\\\Bigl': 68, '\\\\null': 207, '\\\\approx': 97, '\\\\overrightarrow': 219, '\\\\overline': 218, '\\\\overleftarrow': 217, '\\\\qquad': 232, 'f': 313, '\\\\biggr': 109, 't': 327, '\\\\binom': 115, 'n': 321, 'i': 316, '\\\\ddots': 133, '\\\\kappa': 167, '\\\\biggl': 108, 'v': 329, '}': 336, '\\\\enspace': 144, '\\\\ast': 98, '\\\\Lambda': 74, '~': 337, '\\\\Phi': 82, '\\\\cup': 128, '\\\\acute': 95, '\\\\ne': 202, '\\\\dagger': 131, '\\\\epsilon': 145, '\\\\left\\\\{': 182, '\\\\scriptscriptstyle': 249, '\\\\Theta': 89, '\\\\partial': 221, '\\\\iota': 164, '\\\\stackrel': 261, '\\\\longleftrightarrow': 188, '\\\\nu': 206, '\\\\wp': 297, '\\\\begin{cases}': 102, '\\\\pi': 225, '\\\\end{cases}': 142, 'k': 318, 'D': 33, '!': 2, '\\\\phi': 224, '\\\\Longleftrightarrow': 77, '\\\\mid': 197, '\\\\Pi': 83, ')': 7, '\\\\vphantom': 293, '-': 11, '\\\\#': 59, '\\\\langle': 170, '\\\\small': 258, '1': 16, '5': 20, '\\\\mapsto': 190, '\\\\mit': 198, '\\\\_': 94, '9': 24, '\\\\tau': 267, '\\\\varrho': 286, '=': 28, '\\\\bigotimes': 112, 'A': 30, '\\\\Vert': 91, '\\\\check': 124, 'J': 39, 'E': 34, '\\\\imath': 160, '\\\\beta': 104, 'I': 38, '\\\\scriptsize': 250, '\\\\phantom': 223, 'M': 42, '\\\\left.': 177, 'Q': 46, '\\\\displaystyle': 135, 'U': 50, '\\\\ell': 140, '\\\\Large': 75, 'Y': 54, '\\\\nabla': 201, ']': 303, '\\\\mu': 200, '\\\\hbar': 156, 'a': 307, '\\\\Big': 64, '\\\\bigtriangleup': 114, 'e': 312, '\\\\bigr': 113, '`': 306, '\\\\ddot': 132, '\\\\sum': 265, 'm': 320, '\\\\bigg': 107, 'u': 328, 'y': 332, '\\\\bigl': 110, '\\\\rangle': 234, '\\\\subset': 264, '\\\\varDelta': 282, '\\\\Biggl': 66}}\n"
     ]
    }
   ],
   "source": [
    "with open(\"../data/dataset5/step2/dict_id2word.pkl\", \"rb\") as f:\n",
    "    id2word: dict[int, str] = pickle.load(f, encoding=\"latin1\")\n",
    "\n",
    "with open(\"../data/dataset5/step2/dict_vocab.pkl\", \"rb\") as f:\n",
    "    word2id: dict[str, int] = pickle.load(f, encoding=\"latin1\")\n",
    "\n",
    "print(id2word)\n",
    "print(word2id)"
   ],
   "metadata": {
    "collapsed": false
   }
  },
  {
   "cell_type": "code",
   "execution_count": 26,
   "outputs": [
    {
     "name": "stdout",
     "output_type": "stream",
     "text": [
      "Index(['image', 'height', 'width', 'word2id_len', 'bin_len', 'word2id',\n",
      "       'latex_ascii', 'padded_seq', 'padded_seq_len', 'seq_len',\n",
      "       'squashed_len', 'squashed_seq'],\n",
      "      dtype='object')\n"
     ]
    }
   ],
   "source": [
    "print(df.columns)\n",
    "tmp = df.iloc[0, 5]\n",
    "out = \"\"\n",
    "for i in tmp:\n",
    "    out += id2word[i] + \" \""
   ],
   "metadata": {
    "collapsed": false
   }
  },
  {
   "cell_type": "code",
   "execution_count": 27,
   "outputs": [
    {
     "name": "stdout",
     "output_type": "stream",
     "text": [
      "image                                     ebf76c96dda24fb_basic.png\n",
      "height                                                           75\n",
      "width                                                           697\n",
      "word2id_len                                                      83\n",
      "bin_len                                                          89\n",
      "word2id           [34, 305, 334, 30, 33, 42, 336, 28, 150, 334, ...\n",
      "latex_ascii       E _ { A D M } = \\frac { 1 } { 1 6 \\pi G _ { 1 ...\n",
      "padded_seq        [34, 305, 334, 30, 33, 42, 336, 28, 150, 334, ...\n",
      "padded_seq_len                                                   89\n",
      "seq_len                                                          84\n",
      "squashed_len                                                     84\n",
      "squashed_seq      [34, 305, 334, 30, 33, 42, 336, 28, 150, 334, ...\n",
      "Name: 10, dtype: object\n"
     ]
    }
   ],
   "source": [
    "print(df.iloc[6])"
   ],
   "metadata": {
    "collapsed": false
   }
  },
  {
   "cell_type": "code",
   "execution_count": null,
   "outputs": [],
   "source": [],
   "metadata": {
    "collapsed": false
   }
  }
 ],
 "metadata": {
  "kernelspec": {
   "display_name": "Python 3",
   "language": "python",
   "name": "python3"
  },
  "language_info": {
   "codemirror_mode": {
    "name": "ipython",
    "version": 2
   },
   "file_extension": ".py",
   "mimetype": "text/x-python",
   "name": "python",
   "nbconvert_exporter": "python",
   "pygments_lexer": "ipython2",
   "version": "2.7.6"
  }
 },
 "nbformat": 4,
 "nbformat_minor": 0
}
