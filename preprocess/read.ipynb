{
 "cells": [
  {
   "cell_type": "code",
   "execution_count": 1,
   "outputs": [],
   "source": [
    "import pickle\n",
    "import pandas as pd\n",
    "import numpy as np"
   ],
   "metadata": {
    "collapsed": false
   }
  },
  {
   "cell_type": "code",
   "execution_count": 2,
   "outputs": [],
   "source": [
    "with open(\"../data/dataset5/training_56/data_props.pkl\", \"rb\") as f:\n",
    "    df: pd.DataFrame = pickle.load(f, encoding='latin1')"
   ],
   "metadata": {
    "collapsed": false
   }
  },
  {
   "cell_type": "code",
   "execution_count": 3,
   "outputs": [
    {
     "name": "stdout",
     "output_type": "stream",
     "text": [
      "{'NullTokenID': 0, 'padded_image_dim': {'width': 1088, 'height': 128}, 'StartTokenID': 1, 'K': 338, 'id2word': {0: '\\\\eos', 1: '\\\\bos', 2: '!', 3: '\"', 4: '&', 5: \"'\", 6: '(', 7: ')', 8: '*', 9: '+', 10: ',', 11: '-', 12: '--', 13: '.', 14: '/', 15: '0', 16: '1', 17: '2', 18: '3', 19: '4', 20: '5', 21: '6', 22: '7', 23: '8', 24: '9', 25: ':', 26: ';', 27: '<', 28: '=', 29: '>', 30: 'A', 31: 'B', 32: 'C', 33: 'D', 34: 'E', 35: 'F', 36: 'G', 37: 'H', 38: 'I', 39: 'J', 40: 'K', 41: 'L', 42: 'M', 43: 'N', 44: 'O', 45: 'P', 46: 'Q', 47: 'R', 48: 'S', 49: 'T', 50: 'U', 51: 'V', 52: 'W', 53: 'X', 54: 'Y', 55: 'Z', 56: '[', 57: '\\\\', 58: '\\\\!', 59: '\\\\#', 60: '\\\\,', 61: '\\\\/', 62: '\\\\:', 63: '\\\\;', 64: '\\\\Big', 65: '\\\\Bigg', 66: '\\\\Biggl', 67: '\\\\Biggr', 68: '\\\\Bigl', 69: '\\\\Bigr', 70: '\\\\Delta', 71: '\\\\Gamma', 72: '\\\\Im', 73: '\\\\L', 74: '\\\\Lambda', 75: '\\\\Large', 76: '\\\\Leftrightarrow', 77: '\\\\Longleftrightarrow', 78: '\\\\Longrightarrow', 79: '\\\\O', 80: '\\\\Omega', 81: '\\\\P', 82: '\\\\Phi', 83: '\\\\Pi', 84: '\\\\Psi', 85: '\\\\Re', 86: '\\\\Rightarrow', 87: '\\\\S', 88: '\\\\Sigma', 89: '\\\\Theta', 90: '\\\\Upsilon', 91: '\\\\Vert', 92: '\\\\Xi', 93: '\\\\\\\\', 94: '\\\\_', 95: '\\\\acute', 96: '\\\\alpha', 97: '\\\\approx', 98: '\\\\ast', 99: '\\\\atop', 100: '\\\\bar', 101: '\\\\begin{array}', 102: '\\\\begin{cases}', 103: '\\\\begin{matrix}', 104: '\\\\beta', 105: '\\\\bf', 106: '\\\\big', 107: '\\\\bigg', 108: '\\\\biggl', 109: '\\\\biggr', 110: '\\\\bigl', 111: '\\\\bigoplus', 112: '\\\\bigotimes', 113: '\\\\bigr', 114: '\\\\bigtriangleup', 115: '\\\\binom', 116: '\\\\boldmath', 117: '\\\\bot', 118: '\\\\breve', 119: '\\\\bullet', 120: '\\\\cal', 121: '\\\\cap', 122: '\\\\cdot', 123: '\\\\cdots', 124: '\\\\check', 125: '\\\\chi', 126: '\\\\circ', 127: '\\\\cong', 128: '\\\\cup', 129: '\\\\d', 130: '\\\\dag', 131: '\\\\dagger', 132: '\\\\ddot', 133: '\\\\ddots', 134: '\\\\delta', 135: '\\\\displaystyle', 136: '\\\\dot', 137: '\\\\doteq', 138: '\\\\dots', 139: '\\\\downarrow', 140: '\\\\ell', 141: '\\\\end{array}', 142: '\\\\end{cases}', 143: '\\\\end{matrix}', 144: '\\\\enspace', 145: '\\\\epsilon', 146: '\\\\equiv', 147: '\\\\eta', 148: '\\\\footnotesize', 149: '\\\\forall', 150: '\\\\frac', 151: '\\\\gamma', 152: '\\\\ge', 153: '\\\\geq', 154: '\\\\gg', 155: '\\\\hat', 156: '\\\\hbar', 157: '\\\\hfill', 158: '\\\\hline', 159: '\\\\i', 160: '\\\\imath', 161: '\\\\in', 162: '\\\\infty', 163: '\\\\int', 164: '\\\\iota', 165: '\\\\it', 166: '\\\\jmath', 167: '\\\\kappa', 168: '\\\\l', 169: '\\\\lambda', 170: '\\\\langle', 171: '\\\\large', 172: '\\\\lbrace', 173: '\\\\lbrack', 174: '\\\\ldots', 175: '\\\\le', 176: '\\\\left(', 177: '\\\\left.', 178: '\\\\left<', 179: '\\\\left[', 180: '\\\\left\\\\langle', 181: '\\\\left\\\\vert', 182: '\\\\left\\\\{', 183: '\\\\leftarrow', 184: '\\\\leftrightarrow', 185: '\\\\left|', 186: '\\\\leq', 187: '\\\\ll', 188: '\\\\longleftrightarrow', 189: '\\\\longrightarrow', 190: '\\\\mapsto', 191: '\\\\mathbf', 192: '\\\\mathcal', 193: '\\\\mathit', 194: '\\\\mathop', 195: '\\\\mathrm', 196: '\\\\mathsf', 197: '\\\\mid', 198: '\\\\mit', 199: '\\\\mp', 200: '\\\\mu', 201: '\\\\nabla', 202: '\\\\ne', 203: '\\\\neq', 204: '\\\\nonumber', 205: '\\\\not', 206: '\\\\nu', 207: '\\\\null', 208: '\\\\o', 209: '\\\\odot', 210: '\\\\oint', 211: '\\\\omega', 212: '\\\\operatorname', 213: '\\\\operatorname*', 214: '\\\\oplus', 215: '\\\\otimes', 216: '\\\\overbrace', 217: '\\\\overleftarrow', 218: '\\\\overline', 219: '\\\\overrightarrow', 220: '\\\\parallel', 221: '\\\\partial', 222: '\\\\perp', 223: '\\\\phantom', 224: '\\\\phi', 225: '\\\\pi', 226: '\\\\pm', 227: '\\\\prime', 228: '\\\\prod', 229: '\\\\propto', 230: '\\\\protect', 231: '\\\\psi', 232: '\\\\qquad', 233: '\\\\quad', 234: '\\\\rangle', 235: '\\\\rbrace', 236: '\\\\rbrack', 237: '\\\\rho', 238: '\\\\right)', 239: '\\\\right.', 240: '\\\\right>', 241: '\\\\right\\\\rangle', 242: '\\\\right\\\\vert', 243: '\\\\right\\\\}', 244: '\\\\right]', 245: '\\\\rightarrow', 246: '\\\\rightharpoonup', 247: '\\\\right|', 248: '\\\\sb', 249: '\\\\scriptscriptstyle', 250: '\\\\scriptsize', 251: '\\\\scriptstyle', 252: '\\\\sf', 253: '\\\\sigma', 254: '\\\\sim', 255: '\\\\simeq', 256: '\\\\sl', 257: '\\\\slash', 258: '\\\\small', 259: '\\\\sp', 260: '\\\\sqrt', 261: '\\\\stackrel', 262: '\\\\star', 263: '\\\\strut', 264: '\\\\subset', 265: '\\\\sum', 266: '\\\\supset', 267: '\\\\tau', 268: '\\\\textbf', 269: '\\\\textrm', 270: '\\\\textstyle', 271: '\\\\theta', 272: '\\\\tilde', 273: '\\\\times', 274: '\\\\tiny', 275: '\\\\to', 276: '\\\\triangle', 277: '\\\\tt', 278: '\\\\underbrace', 279: '\\\\underline', 280: '\\\\uparrow', 281: '\\\\upsilon', 282: '\\\\varDelta', 283: '\\\\varepsilon', 284: '\\\\varphi', 285: '\\\\varpi', 286: '\\\\varrho', 287: '\\\\varsigma', 288: '\\\\vartheta', 289: '\\\\vdots', 290: '\\\\vec', 291: '\\\\vee', 292: '\\\\vert', 293: '\\\\vphantom', 294: '\\\\wedge', 295: '\\\\widehat', 296: '\\\\widetilde', 297: '\\\\wp', 298: '\\\\xi', 299: '\\\\zeta', 300: '\\\\{', 301: '\\\\|', 302: '\\\\}', 303: ']', 304: '^', 305: '_', 306: '`', 307: 'a', 308: 'b', 309: 'c', 310: 'cm', 311: 'd', 312: 'e', 313: 'f', 314: 'g', 315: 'h', 316: 'i', 317: 'j', 318: 'k', 319: 'l', 320: 'm', 321: 'n', 322: 'o', 323: 'p', 324: 'q', 325: 'r', 326: 's', 327: 't', 328: 'u', 329: 'v', 330: 'w', 331: 'x', 332: 'y', 333: 'z', 334: '{', 335: '|', 336: '}', 337: '~'}, 'SpaceTokenID': None, 'MaxSeqLen': 151, 'word2id': {'\\\\Phi': 82, '\\\\geq': 153, '\\\\big': 106, '5': 20, '\\\\epsilon': 145, '-': 11, '\\\\sqrt': 260, '\\\\Pi': 83, '\\\\perp': 222, '\\\\leq': 186, '\\\\right\\\\}': 243, '\\\\theta': 271, 'X': 53, '\\\\small': 258, '\\\\left|': 185, '\\\\overleftarrow': 217, '\\\\rangle': 234, '\\\\Bigl': 68, '\\\\/': 61, '\\\\infty': 162, '(': 6, '\\\\:': 62, '\\\\;': 63, '\\\\xi': 298, '0': 15, '\\\\mathsf': 196, '\\\\atop': 99, '\\\\Re': 85, '\\\\cdot': 122, '\\\\!': 58, '\\\\left[': 179, '\\\\Im': 72, '\\\\,': 60, '\\\\approx': 97, '<': 27, '\\\\bar': 100, '\\\\vert': 292, '\\\\Big': 64, '\\\\pm': 226, '\\\\S': 87, '\\\\P': 81, '3': 18, 'H': 37, '\\\\\\\\': 93, '\\\\left(': 176, '\\\\longrightarrow': 189, 'L': 41, 'P': 45, '\\\\textbf': 268, 'T': 49, '\\\\Large': 75, '\\\\right\\\\vert': 242, '\\\\O': 79, '\\\\L': 73, '\\\\Sigma': 88, '\\\\scriptstyle': 251, '\\\\': 57, 'J': 39, '\\\\left<': 178, '\\\\tilde': 272, '\\\\Gamma': 71, '\\\\int': 163, '\\\\bigg': 107, 'd': 311, '\\\\vee': 291, '\\\\textrm': 269, '\\\\|': 301, '\\\\}': 302, '\\\\{': 300, '\\\\vec': 290, '\\\\hat': 155, '--': 12, '\\\\d': 129, '\\\\rbrace': 235, 't': 327, 'h': 315, '\\\\o': 208, '\\\\l': 168, '|': 335, '\\\\prod': 228, '\\\\ge': 152, '\\\\strut': 263, '\\\\gamma': 151, '\\\\forall': 149, '\\\\eos': 0, 'Y': 54, '\\\\right|': 247, '\\\\lbrace': 172, '\\\\bf': 105, '\\\\lbrack': 173, '\\\\supset': 266, 'C': 32, 'l': 319, '\\\\bos': 1, '\\\\left\\\\vert': 181, '\\\\widehat': 295, '\\\\bot': 117, 'E': 34, '\\\\sl': 256, '\\\\Omega': 80, '\\\\Upsilon': 90, '\\\\imath': 160, '\\\\begin{matrix}': 103, '\\\\end{matrix}': 143, '\\\\right]': 244, 'u': 328, \"'\": 5, 'p': 323, '\\\\triangle': 276, '+': 9, '\\\\Longrightarrow': 78, '\\\\ddots': 133, '/': 14, '\\\\leftrightarrow': 184, '\\\\psi': 231, 'I': 38, '\\\\mathit': 193, '\\\\not': 205, '7': 22, '\\\\overbrace': 216, '\\\\cap': 121, '\\\\hfill': 157, ';': 26, '\\\\omega': 211, '\\\\sim': 254, '\\\\prime': 227, '\\\\it': 165, '\\\\delta': 134, '\\\\boldmath': 116, '\\\\propto': 229, 'G': 36, '\\\\right>': 240, '\\\\slash': 257, '\\\\ldots': 174, 'O': 44, '\\\\right)': 238, '\\\\protect': 230, 'S': 48, '\\\\bullet': 119, '\\\\uparrow': 280, 'W': 52, 'x': 331, '\\\\leftarrow': 183, '\\\\in': 161, '\\\\varphi': 284, '\\\\otimes': 215, '\\\\mathrm': 195, '\\\\Delta': 70, '\\\\bigoplus': 111, 'c': 309, '\\\\sigma': 253, '\\\\varsigma': 287, '\\\\jmath': 166, '\\\\downarrow': 139, '\\\\Rightarrow': 86, 'o': 322, '\\\\Leftrightarrow': 76, '\\\\bigr': 113, '\\\\cong': 127, '\\\\mp': 199, '\\\\varepsilon': 283, 'w': 330, '\\\\large': 171, '\\\\breve': 118, '\\\\end{array}': 141, '{': 334, '\\\\i': 159, '\\\\underbrace': 278, '\\\\#': 59, '\\\\begin{array}': 101, '\\\\equiv': 146, '\\\\widetilde': 296, 'cm': 310, '\\\\ll': 187, '\\\\overrightarrow': 219, '\\\\right.': 239, '\\\\dot': 136, '\\\\le': 175, '\\\\zeta': 299, '\\\\eta': 147, '\\\\star': 262, '\\\\neq': 203, '\\\\underline': 279, '\\\\oplus': 214, '\\\\alpha': 96, '\\\\gg': 154, '\\\\times': 273, '\\\\mathop': 194, '\\\\mathcal': 192, '\"': 3, '\\\\circ': 126, '\\\\sp': 259, '&': 4, '\\\\kappa': 167, '*': 8, '\\\\nabla': 201, '\\\\dots': 138, '.': 13, '\\\\right\\\\rangle': 241, '2': 17, 'g': 314, '_': 305, '6': 21, '\\\\rightharpoonup': 246, '\\\\mu': 200, '\\\\upsilon': 281, ':': 25, '\\\\lambda': 169, '4': 19, 'B': 31, '\\\\operatorname': 212, '\\\\Bigr': 69, 'F': 35, '\\\\parallel': 220, '\\\\chi': 125, '\\\\Biggr': 67, '\\\\to': 275, '\\\\doteq': 137, 'N': 43, '\\\\Bigg': 65, '\\\\tt': 277, '\\\\tiny': 274, '\\\\Vert': 91, '8': 23, '\\\\wedge': 294, 'V': 51, 'Z': 55, ',': 10, '\\\\null': 207, '^': 304, '\\\\Psi': 84, 'b': 308, '\\\\rho': 237, '\\\\qquad': 232, 'f': 313, 'j': 317, '\\\\binom': 115, 'n': 321, '\\\\ddot': 132, '\\\\footnotesize': 148, 'r': 325, '\\\\biggl': 108, '\\\\Theta': 89, 'v': 329, '\\\\sb': 248, 'z': 333, '\\\\left.': 177, '\\\\Lambda': 74, '\\\\frac': 150, '~': 337, '\\\\mathbf': 191, '\\\\left\\\\langle': 180, '\\\\cup': 128, '\\\\acute': 95, '\\\\ne': 202, '\\\\dagger': 131, '\\\\rightarrow': 245, '\\\\left\\\\{': 182, '\\\\scriptscriptstyle': 249, '\\\\Xi': 92, '\\\\enspace': 144, '\\\\iota': 164, '\\\\nu': 206, '\\\\longleftrightarrow': 188, '\\\\biggr': 109, '\\\\stackrel': 261, 'R': 47, '\\\\nonumber': 204, '\\\\begin{cases}': 102, '\\\\wp': 297, '>': 29, 'D': 33, '\\\\vartheta': 288, '\\\\phi': 224, '\\\\operatorname*': 213, '\\\\pi': 225, '\\\\mid': 197, ')': 7, '\\\\vphantom': 293, '\\\\quad': 233, 's': 326, '\\\\rbrack': 236, '\\\\end{cases}': 142, '\\\\dag': 130, '1': 16, '\\\\ast': 98, '\\\\mapsto': 190, '\\\\mit': 198, '\\\\_': 94, '\\\\sf': 252, '\\\\tau': 267, '\\\\varrho': 286, '=': 28, '\\\\bigotimes': 112, 'A': 30, '\\\\varpi': 285, '\\\\check': 124, '\\\\oint': 210, '\\\\hline': 158, 'k': 318, '\\\\beta': 104, '\\\\odot': 209, '\\\\scriptsize': 250, '\\\\phantom': 223, 'M': 42, '\\\\overline': 218, 'Q': 46, '\\\\displaystyle': 135, '\\\\partial': 221, '\\\\Longleftrightarrow': 77, 'U': 50, '\\\\ell': 140, '\\\\langle': 170, '\\\\vdots': 289, '\\\\cal': 120, ']': 303, '\\\\simeq': 255, '\\\\hbar': 156, '\\\\bigtriangleup': 114, 'a': 307, '9': 24, '\\\\cdots': 123, 'e': 312, '\\\\textstyle': 270, '`': 306, 'i': 316, '\\\\sum': 265, 'K': 40, 'm': 320, 'q': 324, '[': 56, '!': 2, 'y': 332, '\\\\bigl': 110, '}': 336, '\\\\subset': 264, '\\\\varDelta': 282, '\\\\Biggl': 66}}\n"
     ]
    }
   ],
   "source": [
    "print(df)"
   ],
   "metadata": {
    "collapsed": false
   }
  },
  {
   "cell_type": "code",
   "execution_count": 4,
   "outputs": [
    {
     "name": "stdout",
     "output_type": "stream",
     "text": [
      "338\n"
     ]
    }
   ],
   "source": [
    "with open(\"../data/dataset5/step2/dict_id2word.pkl\", \"rb\") as f:\n",
    "    id2word: dict[int, str] = pickle.load(f, encoding=\"latin1\")\n",
    "\n",
    "with open(\"../data/dataset5/step2/dict_vocab.pkl\", \"rb\") as f:\n",
    "    word2id: dict[str, int] = pickle.load(f, encoding=\"latin1\")\n",
    "\n",
    "print(len(id2word))\n",
    "\n",
    "# print(word2id)"
   ],
   "metadata": {
    "collapsed": false
   }
  },
  {
   "cell_type": "code",
   "execution_count": 5,
   "outputs": [
    {
     "ename": "AttributeError",
     "evalue": "'dict' object has no attribute 'columns'",
     "output_type": "error",
     "traceback": [
      "\u001B[1;31m---------------------------------------------------------------------------\u001B[0m",
      "\u001B[1;31mAttributeError\u001B[0m                            Traceback (most recent call last)",
      "\u001B[1;32m~\\AppData\\Local\\Temp/ipykernel_8272/3959318276.py\u001B[0m in \u001B[0;36m<module>\u001B[1;34m\u001B[0m\n\u001B[1;32m----> 1\u001B[1;33m \u001B[0mprint\u001B[0m\u001B[1;33m(\u001B[0m\u001B[0mdf\u001B[0m\u001B[1;33m.\u001B[0m\u001B[0mcolumns\u001B[0m\u001B[1;33m)\u001B[0m\u001B[1;33m\u001B[0m\u001B[1;33m\u001B[0m\u001B[0m\n\u001B[0m\u001B[0;32m      2\u001B[0m \u001B[0mtmp\u001B[0m \u001B[1;33m=\u001B[0m \u001B[0mdf\u001B[0m\u001B[1;33m.\u001B[0m\u001B[0miloc\u001B[0m\u001B[1;33m[\u001B[0m\u001B[1;36m0\u001B[0m\u001B[1;33m,\u001B[0m \u001B[1;36m5\u001B[0m\u001B[1;33m]\u001B[0m\u001B[1;33m\u001B[0m\u001B[1;33m\u001B[0m\u001B[0m\n\u001B[0;32m      3\u001B[0m \u001B[0mout\u001B[0m \u001B[1;33m=\u001B[0m \u001B[1;34m\"\"\u001B[0m\u001B[1;33m\u001B[0m\u001B[1;33m\u001B[0m\u001B[0m\n\u001B[0;32m      4\u001B[0m \u001B[1;32mfor\u001B[0m \u001B[0mi\u001B[0m \u001B[1;32min\u001B[0m \u001B[0mtmp\u001B[0m\u001B[1;33m:\u001B[0m\u001B[1;33m\u001B[0m\u001B[1;33m\u001B[0m\u001B[0m\n\u001B[0;32m      5\u001B[0m     \u001B[0mout\u001B[0m \u001B[1;33m+=\u001B[0m \u001B[0mid2word\u001B[0m\u001B[1;33m[\u001B[0m\u001B[0mi\u001B[0m\u001B[1;33m]\u001B[0m \u001B[1;33m+\u001B[0m \u001B[1;34m\" \"\u001B[0m\u001B[1;33m\u001B[0m\u001B[1;33m\u001B[0m\u001B[0m\n",
      "\u001B[1;31mAttributeError\u001B[0m: 'dict' object has no attribute 'columns'"
     ]
    }
   ],
   "source": [
    "print(df.columns)\n",
    "tmp = df.iloc[0, 5]\n",
    "out = \"\"\n",
    "for i in tmp:\n",
    "    out += id2word[i] + \" \""
   ],
   "metadata": {
    "collapsed": false
   }
  },
  {
   "cell_type": "code",
   "execution_count": null,
   "outputs": [],
   "source": [
    "print(df.iloc[6])"
   ],
   "metadata": {
    "collapsed": false
   }
  },
  {
   "cell_type": "code",
   "execution_count": null,
   "outputs": [],
   "source": [],
   "metadata": {
    "collapsed": false
   }
  }
 ],
 "metadata": {
  "kernelspec": {
   "display_name": "Python 3",
   "language": "python",
   "name": "python3"
  },
  "language_info": {
   "codemirror_mode": {
    "name": "ipython",
    "version": 2
   },
   "file_extension": ".py",
   "mimetype": "text/x-python",
   "name": "python",
   "nbconvert_exporter": "python",
   "pygments_lexer": "ipython2",
   "version": "2.7.6"
  }
 },
 "nbformat": 4,
 "nbformat_minor": 0
}
