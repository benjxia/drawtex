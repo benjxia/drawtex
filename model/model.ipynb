{
 "cells": [
  {
   "cell_type": "code",
   "execution_count": 1,
   "metadata": {
    "collapsed": false
   },
   "outputs": [],
   "source": [
    "import numpy as np\n",
    "import matplotlib.pyplot as plt\n",
    "import torch\n",
    "from torch import nn\n",
    "from torch.utils.data import Dataset, DataLoader\n",
    "import torchvision.transforms as transforms\n",
    "from DrawtexDataset import DrawtexDataset"
   ]
  },
  {
   "cell_type": "markdown",
   "metadata": {
    "collapsed": false
   },
   "source": [
    "#### Hyperparameters"
   ]
  },
  {
   "cell_type": "code",
   "execution_count": 2,
   "metadata": {
    "collapsed": false
   },
   "outputs": [
    {
     "name": "stdout",
     "output_type": "stream",
     "text": [
      "Using cpu device\n"
     ]
    }
   ],
   "source": [
    "TRAIN_BATCH_SZ = 128\n",
    "TEST_BATCH_SZ = 1000\n",
    "EPOCHS = 1\n",
    "LEARN_RATE = 0.01\n",
    "CLASS_CNT = 78\n",
    "\n",
    "device: str = \"cuda\" if torch.cuda.is_available() else \"cpu\"\n",
    "print(f\"Using {device} device\")"
   ]
  },
  {
   "cell_type": "markdown",
   "source": [
    "#### Model definition"
   ],
   "metadata": {
    "collapsed": false
   }
  },
  {
   "cell_type": "code",
   "execution_count": 3,
   "outputs": [],
   "source": [
    "class DrawtexModel(nn.Module):\n",
    "    def __init__(self):\n",
    "        super().__init__()\n",
    "        self.relu = nn.ReLU()\n",
    "        self.conv1 = nn.Conv2d(1, 150, 9, bias=False)  # 45x45 -> 37x37\n",
    "        self.conv1_bn = nn.BatchNorm2d(150)\n",
    "        self.conv2 = nn.Conv2d(150, 200, 9, bias=False)  # 37x37 -> 29x29\n",
    "        self.conv2_bn = nn.BatchNorm2d(200)\n",
    "        self.conv3 = nn.Conv2d(200, 300, 9, bias=False)  # 29x29 -> 21x21\n",
    "        self.conv3_bn = nn.BatchNorm2d(300)\n",
    "        self.conv4 = nn.Conv2d(300, 500, 9, bias=False)  # 21x21 -> 13x13\n",
    "        self.conv4_bn = nn.BatchNorm2d(500)\n",
    "        self.conv5 = nn.Conv2d(500, 800, 9, bias=False)  # 13x13 -> 5x5\n",
    "        self.conv5_bn = nn.BatchNorm2d(800)\n",
    "        self.lin1 = nn.Linear(20000, 78, bias=False)\n",
    "        self.lin1_bn = nn.BatchNorm1d(78)\n",
    "\n",
    "    def forward(self, x: torch.Tensor):\n",
    "        x: torch.Tensor = self.relu(self.conv1_bn(self.conv1(x)))\n",
    "        x: torch.Tensor = self.relu(self.conv2_bn(self.conv2(x)))\n",
    "        x: torch.Tensor = self.relu(self.conv3_bn(self.conv3(x)))\n",
    "        x: torch.Tensor = self.relu(self.conv4_bn(self.conv4(x)))\n",
    "        x: torch.Tensor = self.relu(self.conv5_bn(self.conv5(x)))\n",
    "        x = torch.flatten(x.permute(0, 2, 3, 1), 1)\n",
    "        x = self.lin1_bn(self.lin1(x))\n",
    "        return x"
   ],
   "metadata": {
    "collapsed": false
   }
  },
  {
   "cell_type": "markdown",
   "metadata": {
    "collapsed": false
   },
   "source": [
    "#### Dataloader setup"
   ]
  },
  {
   "cell_type": "code",
   "execution_count": 4,
   "metadata": {
    "collapsed": false
   },
   "outputs": [
    {
     "name": "stdout",
     "output_type": "stream",
     "text": [
      "DrawtexModel(\n",
      "  (relu): ReLU()\n",
      "  (conv1): Conv2d(1, 150, kernel_size=(9, 9), stride=(1, 1), bias=False)\n",
      "  (conv1_bn): BatchNorm2d(150, eps=1e-05, momentum=0.1, affine=True, track_running_stats=True)\n",
      "  (conv2): Conv2d(150, 200, kernel_size=(9, 9), stride=(1, 1), bias=False)\n",
      "  (conv2_bn): BatchNorm2d(200, eps=1e-05, momentum=0.1, affine=True, track_running_stats=True)\n",
      "  (conv3): Conv2d(200, 300, kernel_size=(9, 9), stride=(1, 1), bias=False)\n",
      "  (conv3_bn): BatchNorm2d(300, eps=1e-05, momentum=0.1, affine=True, track_running_stats=True)\n",
      "  (conv4): Conv2d(300, 500, kernel_size=(9, 9), stride=(1, 1), bias=False)\n",
      "  (conv4_bn): BatchNorm2d(500, eps=1e-05, momentum=0.1, affine=True, track_running_stats=True)\n",
      "  (conv5): Conv2d(500, 800, kernel_size=(9, 9), stride=(1, 1), bias=False)\n",
      "  (conv5_bn): BatchNorm2d(800, eps=1e-05, momentum=0.1, affine=True, track_running_stats=True)\n",
      "  (lin1): Linear(in_features=20000, out_features=326, bias=False)\n",
      "  (lin1_bn): BatchNorm1d(326, eps=1e-05, momentum=0.1, affine=True, track_running_stats=True)\n",
      ")\n"
     ]
    }
   ],
   "source": [
    "data_set = DrawtexDataset(transforms.ToTensor())\n",
    "TRAIN_SIZE = int(0.8 * len(data_set))\n",
    "TEST_SIZE = len(data_set) - TRAIN_SIZE\n",
    "train_set, test_set = torch.utils.data.random_split(data_set, [TRAIN_SIZE, TEST_SIZE])\n",
    "\n",
    "train_loader = DataLoader(\n",
    "    dataset=train_set,\n",
    "    batch_size=TRAIN_BATCH_SZ,\n",
    "    shuffle=True,\n",
    "    num_workers=4\n",
    ")\n",
    "\n",
    "test_loader = DataLoader(\n",
    "    dataset=test_set,\n",
    "    batch_size=TEST_BATCH_SZ,\n",
    "    shuffle=False,\n",
    "    num_workers=4\n",
    ")\n",
    "\n",
    "model = DrawtexModel().to(device)\n",
    "print(model)"
   ]
  },
  {
   "cell_type": "code",
   "execution_count": 5,
   "metadata": {
    "collapsed": false
   },
   "outputs": [
    {
     "name": "stdout",
     "output_type": "stream",
     "text": [
      "tensor([[ 0.9885,  0.9768, -0.9998,  0.9991,  1.0000,  1.0000,  0.9999,  1.0000,\n",
      "         -0.9887, -0.9999, -0.9997, -0.9999, -0.9999, -0.9999, -0.9996, -0.9997,\n",
      "          0.9999, -0.9999, -0.9999,  0.9999, -1.0000,  0.9999, -0.9939,  0.9945,\n",
      "         -0.9997,  0.9994, -0.9993,  0.9998,  0.9932, -1.0000,  0.9995, -0.9998,\n",
      "          1.0000, -0.9998, -0.9995, -0.9992,  0.9994,  0.9929,  0.9999,  0.9966,\n",
      "         -0.9987,  0.9994,  1.0000, -0.9078,  0.9990,  0.9954,  0.9998, -0.9999,\n",
      "         -0.9998, -1.0000, -0.9998, -0.9960,  0.9993,  0.9998, -0.9998, -0.9980,\n",
      "          0.9999,  0.9999, -1.0000, -0.9999, -0.9998,  0.9984, -0.9999,  0.9986,\n",
      "         -1.0000,  0.9989,  0.9977,  1.0000,  0.9329,  0.9987,  0.9988, -0.9998,\n",
      "         -0.9815,  0.9999, -0.9993, -0.9996,  0.9986,  0.9999, -0.9989, -0.9988,\n",
      "         -0.9999,  0.9999, -0.9999, -0.9947, -0.9999,  0.9968,  1.0000, -0.9999,\n",
      "         -0.9999,  0.9997,  0.9638,  0.9983,  0.9901,  0.9963,  0.9994,  1.0000,\n",
      "         -0.9908, -0.9997, -0.9998,  0.9999, -0.9994,  1.0000,  0.9998, -0.9995,\n",
      "          0.9996, -0.9998, -0.9999,  0.9998,  0.9998,  0.9999, -0.9998,  1.0000,\n",
      "          0.9996, -0.9997,  0.9999, -0.9998,  0.9983, -0.9986,  0.9999,  0.7739,\n",
      "          0.9998, -0.9999, -0.9999,  0.9999, -0.9999, -0.9999,  1.0000, -1.0000,\n",
      "          0.9982, -0.9999,  0.9987, -1.0000,  0.9998,  0.9999,  0.9999, -0.9997,\n",
      "          0.9951,  0.9997,  0.9977,  0.9997, -0.9994,  0.9999, -0.9982,  0.9999,\n",
      "          0.9979,  0.9999, -0.9988, -0.9982,  0.9999,  0.9987, -1.0000, -0.9836,\n",
      "          0.9999, -0.9998,  1.0000, -0.9999,  0.9999,  0.9984,  0.9997,  1.0000,\n",
      "          0.9997,  0.8982,  0.9998,  0.9999, -0.9871,  1.0000,  0.9998,  0.9998,\n",
      "          0.9998, -0.9996,  0.9999, -0.9984,  0.9996, -0.9703,  0.9999,  1.0000,\n",
      "          0.9922, -0.9999, -0.9999,  0.9998,  0.9999,  0.9997, -0.9892, -0.9584,\n",
      "         -0.9722,  0.9996,  0.9997, -1.0000, -0.9999, -0.9997, -0.9991, -1.0000,\n",
      "         -0.9999,  0.9994, -0.9999,  0.9924, -0.9995,  1.0000, -0.9994, -1.0000,\n",
      "          0.9969, -0.9994, -0.9999,  0.9993, -0.9999, -0.9998,  0.9990,  1.0000,\n",
      "          0.9988, -0.9999,  0.9987,  0.9991,  0.9852, -0.9999, -1.0000, -0.9999,\n",
      "          0.9999, -1.0000,  0.9999, -0.9988, -0.9906, -0.9999, -0.9998, -0.9997,\n",
      "          0.9999, -0.9995, -0.9962,  1.0000, -0.9562,  1.0000, -0.9998, -0.9904,\n",
      "          0.9947,  0.9997,  0.9998,  0.9291, -0.9998, -0.9999,  0.9953,  0.9999,\n",
      "         -0.9998, -0.9718, -0.9998,  0.9997, -0.9718,  0.9985, -0.9998,  0.9999,\n",
      "          0.9977,  0.9981, -0.9999,  0.9999, -0.9989,  0.9998,  1.0000, -0.9997,\n",
      "          0.9984,  0.9964, -0.9992,  0.9954,  0.9995,  0.9954,  0.9993, -0.9934,\n",
      "         -0.9999, -0.9996,  0.9903,  0.9995, -0.9997,  0.9997,  0.8273, -0.9998,\n",
      "          0.9998,  0.9999,  0.9996, -0.9980,  0.9998,  0.9999, -0.9971, -0.9999,\n",
      "          1.0000,  0.9934,  0.9999, -0.9989,  0.9996, -0.9999, -0.9998, -0.9996,\n",
      "          1.0000, -0.9999,  0.9998, -0.9999, -0.9998, -0.9999, -0.9999, -0.9999,\n",
      "          0.8730, -0.9998, -0.9983,  0.9987, -0.9999, -0.9999,  1.0000,  0.9998,\n",
      "         -0.9970, -0.9999,  0.9999,  0.9972, -0.9994,  0.9999, -0.9999, -0.9999,\n",
      "         -0.9772,  0.9998, -0.9997, -0.9995, -0.9994,  0.9998,  0.9968, -0.9991,\n",
      "         -0.9971, -0.9993,  1.0000, -1.0000,  0.9999, -0.9913],\n",
      "        [-0.9885, -0.9768,  0.9998, -0.9991, -1.0000, -1.0000, -0.9999, -1.0000,\n",
      "          0.9887,  0.9999,  0.9997,  0.9999,  0.9999,  0.9999,  0.9996,  0.9997,\n",
      "         -0.9999,  0.9999,  0.9999, -0.9999,  1.0000, -0.9999,  0.9939, -0.9945,\n",
      "          0.9997, -0.9994,  0.9993, -0.9998, -0.9932,  1.0000, -0.9995,  0.9998,\n",
      "         -1.0000,  0.9998,  0.9995,  0.9992, -0.9994, -0.9929, -0.9999, -0.9966,\n",
      "          0.9987, -0.9994, -1.0000,  0.9078, -0.9990, -0.9954, -0.9998,  0.9999,\n",
      "          0.9998,  1.0000,  0.9998,  0.9960, -0.9993, -0.9998,  0.9998,  0.9980,\n",
      "         -0.9999, -0.9999,  1.0000,  0.9999,  0.9998, -0.9984,  0.9999, -0.9986,\n",
      "          1.0000, -0.9989, -0.9977, -1.0000, -0.9329, -0.9987, -0.9988,  0.9998,\n",
      "          0.9815, -0.9999,  0.9993,  0.9996, -0.9986, -0.9999,  0.9989,  0.9988,\n",
      "          0.9999, -0.9999,  0.9999,  0.9947,  0.9999, -0.9968, -1.0000,  0.9999,\n",
      "          0.9999, -0.9997, -0.9638, -0.9983, -0.9901, -0.9963, -0.9994, -1.0000,\n",
      "          0.9908,  0.9997,  0.9998, -0.9999,  0.9994, -1.0000, -0.9998,  0.9995,\n",
      "         -0.9996,  0.9998,  0.9999, -0.9998, -0.9998, -0.9999,  0.9998, -1.0000,\n",
      "         -0.9996,  0.9997, -0.9999,  0.9998, -0.9983,  0.9986, -0.9999, -0.7739,\n",
      "         -0.9998,  0.9999,  0.9999, -0.9999,  0.9999,  0.9999, -1.0000,  1.0000,\n",
      "         -0.9982,  0.9999, -0.9987,  1.0000, -0.9998, -0.9999, -0.9999,  0.9997,\n",
      "         -0.9951, -0.9997, -0.9977, -0.9997,  0.9994, -0.9999,  0.9982, -0.9999,\n",
      "         -0.9979, -0.9999,  0.9988,  0.9982, -0.9999, -0.9987,  1.0000,  0.9836,\n",
      "         -0.9999,  0.9998, -1.0000,  0.9999, -0.9999, -0.9984, -0.9997, -1.0000,\n",
      "         -0.9997, -0.8982, -0.9998, -0.9999,  0.9871, -1.0000, -0.9998, -0.9998,\n",
      "         -0.9998,  0.9996, -0.9999,  0.9984, -0.9996,  0.9703, -0.9999, -1.0000,\n",
      "         -0.9922,  0.9999,  0.9999, -0.9998, -0.9999, -0.9997,  0.9892,  0.9584,\n",
      "          0.9722, -0.9996, -0.9997,  1.0000,  0.9999,  0.9997,  0.9991,  1.0000,\n",
      "          0.9999, -0.9994,  0.9999, -0.9924,  0.9995, -1.0000,  0.9994,  1.0000,\n",
      "         -0.9969,  0.9994,  0.9999, -0.9993,  0.9999,  0.9998, -0.9990, -1.0000,\n",
      "         -0.9988,  0.9999, -0.9987, -0.9991, -0.9852,  0.9999,  1.0000,  0.9999,\n",
      "         -0.9999,  1.0000, -0.9999,  0.9988,  0.9906,  0.9999,  0.9998,  0.9997,\n",
      "         -0.9999,  0.9995,  0.9962, -1.0000,  0.9562, -1.0000,  0.9998,  0.9904,\n",
      "         -0.9947, -0.9997, -0.9998, -0.9291,  0.9998,  0.9999, -0.9953, -0.9999,\n",
      "          0.9998,  0.9718,  0.9998, -0.9997,  0.9718, -0.9985,  0.9998, -0.9999,\n",
      "         -0.9977, -0.9981,  0.9999, -0.9999,  0.9989, -0.9998, -1.0000,  0.9997,\n",
      "         -0.9984, -0.9964,  0.9992, -0.9954, -0.9995, -0.9954, -0.9993,  0.9934,\n",
      "          0.9999,  0.9996, -0.9903, -0.9995,  0.9997, -0.9997, -0.8273,  0.9998,\n",
      "         -0.9998, -0.9999, -0.9996,  0.9980, -0.9998, -0.9999,  0.9970,  0.9999,\n",
      "         -1.0000, -0.9934, -0.9999,  0.9989, -0.9996,  0.9999,  0.9998,  0.9996,\n",
      "         -1.0000,  0.9999, -0.9998,  0.9999,  0.9998,  0.9999,  0.9999,  0.9999,\n",
      "         -0.8730,  0.9998,  0.9983, -0.9987,  0.9999,  0.9999, -1.0000, -0.9998,\n",
      "          0.9970,  0.9999, -0.9999, -0.9972,  0.9994, -0.9999,  0.9999,  0.9999,\n",
      "          0.9772, -0.9998,  0.9997,  0.9995,  0.9994, -0.9998, -0.9968,  0.9991,\n",
      "          0.9971,  0.9993, -1.0000,  1.0000, -0.9999,  0.9913]],\n",
      "       grad_fn=<NativeBatchNormBackward0>)\n"
     ]
    }
   ],
   "source": [
    "tens = torch.rand((2, 1, 45, 45)).to(device)\n",
    "\n",
    "output1 = model(tens)\n",
    "\n",
    "print(output1)"
   ]
  },
  {
   "cell_type": "markdown",
   "source": [
    "#### Training"
   ],
   "metadata": {
    "collapsed": false
   }
  },
  {
   "cell_type": "code",
   "execution_count": 6,
   "metadata": {
    "collapsed": false
   },
   "outputs": [
    {
     "name": "stdout",
     "output_type": "stream",
     "text": [
      "Epoch 1/1, Batch 1/1208, Loss 6.2406\n"
     ]
    },
    {
     "name": "stderr",
     "output_type": "stream",
     "text": [
      "ERROR:root:Internal Python error in the inspect module.\n",
      "Below is the traceback from this internal error.\n",
      "\n"
     ]
    },
    {
     "name": "stdout",
     "output_type": "stream",
     "text": [
      "Traceback (most recent call last):\n",
      "  File \"C:\\Users\\benjx\\AppData\\Roaming\\Python\\Python39\\site-packages\\IPython\\core\\interactiveshell.py\", line 3444, in run_code\n",
      "    exec(code_obj, self.user_global_ns, self.user_ns)\n",
      "  File \"C:\\Users\\benjx\\AppData\\Local\\Temp/ipykernel_16504/3428228553.py\", line 22, in <module>\n",
      "    train()\n",
      "  File \"C:\\Users\\benjx\\AppData\\Local\\Temp/ipykernel_16504/3428228553.py\", line 13, in train\n",
      "    loss.backward()\n",
      "  File \"c:\\program files\\python39\\lib\\site-packages\\torch\\_tensor.py\", line 363, in backward\n",
      "    torch.autograd.backward(self, gradient, retain_graph, create_graph, inputs=inputs)\n",
      "  File \"c:\\program files\\python39\\lib\\site-packages\\torch\\autograd\\__init__.py\", line 173, in backward\n",
      "    Variable._execution_engine.run_backward(  # Calls into the C++ engine to run the backward pass\n",
      "KeyboardInterrupt\n",
      "\n",
      "During handling of the above exception, another exception occurred:\n",
      "\n",
      "Traceback (most recent call last):\n",
      "  File \"C:\\Users\\benjx\\AppData\\Roaming\\Python\\Python39\\site-packages\\IPython\\core\\interactiveshell.py\", line 2064, in showtraceback\n",
      "    stb = value._render_traceback_()\n",
      "AttributeError: 'KeyboardInterrupt' object has no attribute '_render_traceback_'\n",
      "\n",
      "During handling of the above exception, another exception occurred:\n",
      "\n",
      "Traceback (most recent call last):\n",
      "  File \"C:\\Users\\benjx\\AppData\\Roaming\\Python\\Python39\\site-packages\\IPython\\core\\ultratb.py\", line 1101, in get_records\n",
      "    return _fixed_getinnerframes(etb, number_of_lines_of_context, tb_offset)\n",
      "  File \"C:\\Users\\benjx\\AppData\\Roaming\\Python\\Python39\\site-packages\\IPython\\core\\ultratb.py\", line 248, in wrapped\n",
      "    return f(*args, **kwargs)\n",
      "  File \"C:\\Users\\benjx\\AppData\\Roaming\\Python\\Python39\\site-packages\\IPython\\core\\ultratb.py\", line 281, in _fixed_getinnerframes\n",
      "    records = fix_frame_records_filenames(inspect.getinnerframes(etb, context))\n",
      "  File \"c:\\program files\\python39\\lib\\inspect.py\", line 1541, in getinnerframes\n",
      "    frameinfo = (tb.tb_frame,) + getframeinfo(tb, context)\n",
      "  File \"c:\\program files\\python39\\lib\\inspect.py\", line 1499, in getframeinfo\n",
      "    filename = getsourcefile(frame) or getfile(frame)\n",
      "  File \"c:\\program files\\python39\\lib\\inspect.py\", line 709, in getsourcefile\n",
      "    if getattr(getmodule(object, filename), '__loader__', None) is not None:\n",
      "  File \"c:\\program files\\python39\\lib\\inspect.py\", line 752, in getmodule\n",
      "    f = getabsfile(module)\n",
      "  File \"c:\\program files\\python39\\lib\\inspect.py\", line 721, in getabsfile\n",
      "    _filename = getsourcefile(object) or getfile(object)\n",
      "  File \"c:\\program files\\python39\\lib\\inspect.py\", line 706, in getsourcefile\n",
      "    if os.path.exists(filename):\n",
      "  File \"c:\\program files\\python39\\lib\\genericpath.py\", line 19, in exists\n",
      "    os.stat(path)\n",
      "KeyboardInterrupt\n"
     ]
    },
    {
     "ename": "TypeError",
     "evalue": "object of type 'NoneType' has no len()",
     "output_type": "error",
     "traceback": [
      "\u001B[1;31m---------------------------------------------------------------------------\u001B[0m",
      "\u001B[1;31mKeyboardInterrupt\u001B[0m                         Traceback (most recent call last)",
      "    \u001B[1;31m[... skipping hidden 1 frame]\u001B[0m\n",
      "\u001B[1;32m~\\AppData\\Local\\Temp/ipykernel_16504/3428228553.py\u001B[0m in \u001B[0;36m<module>\u001B[1;34m\u001B[0m\n\u001B[0;32m     21\u001B[0m \u001B[1;33m\u001B[0m\u001B[0m\n\u001B[1;32m---> 22\u001B[1;33m \u001B[0mtrain\u001B[0m\u001B[1;33m(\u001B[0m\u001B[1;33m)\u001B[0m\u001B[1;33m\u001B[0m\u001B[1;33m\u001B[0m\u001B[0m\n\u001B[0m\u001B[0;32m     23\u001B[0m \u001B[1;33m\u001B[0m\u001B[0m\n",
      "\u001B[1;32m~\\AppData\\Local\\Temp/ipykernel_16504/3428228553.py\u001B[0m in \u001B[0;36mtrain\u001B[1;34m()\u001B[0m\n\u001B[0;32m     12\u001B[0m             \u001B[0moptimizer\u001B[0m\u001B[1;33m.\u001B[0m\u001B[0mzero_grad\u001B[0m\u001B[1;33m(\u001B[0m\u001B[1;33m)\u001B[0m\u001B[1;33m\u001B[0m\u001B[1;33m\u001B[0m\u001B[0m\n\u001B[1;32m---> 13\u001B[1;33m             \u001B[0mloss\u001B[0m\u001B[1;33m.\u001B[0m\u001B[0mbackward\u001B[0m\u001B[1;33m(\u001B[0m\u001B[1;33m)\u001B[0m\u001B[1;33m\u001B[0m\u001B[1;33m\u001B[0m\u001B[0m\n\u001B[0m\u001B[0;32m     14\u001B[0m             \u001B[0moptimizer\u001B[0m\u001B[1;33m.\u001B[0m\u001B[0mstep\u001B[0m\u001B[1;33m(\u001B[0m\u001B[1;33m)\u001B[0m\u001B[1;33m\u001B[0m\u001B[1;33m\u001B[0m\u001B[0m\n",
      "\u001B[1;32mc:\\program files\\python39\\lib\\site-packages\\torch\\_tensor.py\u001B[0m in \u001B[0;36mbackward\u001B[1;34m(self, gradient, retain_graph, create_graph, inputs)\u001B[0m\n\u001B[0;32m    362\u001B[0m                 inputs=inputs)\n\u001B[1;32m--> 363\u001B[1;33m         \u001B[0mtorch\u001B[0m\u001B[1;33m.\u001B[0m\u001B[0mautograd\u001B[0m\u001B[1;33m.\u001B[0m\u001B[0mbackward\u001B[0m\u001B[1;33m(\u001B[0m\u001B[0mself\u001B[0m\u001B[1;33m,\u001B[0m \u001B[0mgradient\u001B[0m\u001B[1;33m,\u001B[0m \u001B[0mretain_graph\u001B[0m\u001B[1;33m,\u001B[0m \u001B[0mcreate_graph\u001B[0m\u001B[1;33m,\u001B[0m \u001B[0minputs\u001B[0m\u001B[1;33m=\u001B[0m\u001B[0minputs\u001B[0m\u001B[1;33m)\u001B[0m\u001B[1;33m\u001B[0m\u001B[1;33m\u001B[0m\u001B[0m\n\u001B[0m\u001B[0;32m    364\u001B[0m \u001B[1;33m\u001B[0m\u001B[0m\n",
      "\u001B[1;32mc:\\program files\\python39\\lib\\site-packages\\torch\\autograd\\__init__.py\u001B[0m in \u001B[0;36mbackward\u001B[1;34m(tensors, grad_tensors, retain_graph, create_graph, grad_variables, inputs)\u001B[0m\n\u001B[0;32m    172\u001B[0m     \u001B[1;31m# calls in the traceback and some print out the last line\u001B[0m\u001B[1;33m\u001B[0m\u001B[1;33m\u001B[0m\u001B[0m\n\u001B[1;32m--> 173\u001B[1;33m     Variable._execution_engine.run_backward(  # Calls into the C++ engine to run the backward pass\n\u001B[0m\u001B[0;32m    174\u001B[0m         \u001B[0mtensors\u001B[0m\u001B[1;33m,\u001B[0m \u001B[0mgrad_tensors_\u001B[0m\u001B[1;33m,\u001B[0m \u001B[0mretain_graph\u001B[0m\u001B[1;33m,\u001B[0m \u001B[0mcreate_graph\u001B[0m\u001B[1;33m,\u001B[0m \u001B[0minputs\u001B[0m\u001B[1;33m,\u001B[0m\u001B[1;33m\u001B[0m\u001B[1;33m\u001B[0m\u001B[0m\n",
      "\u001B[1;31mKeyboardInterrupt\u001B[0m: ",
      "\nDuring handling of the above exception, another exception occurred:\n",
      "\u001B[1;31mAttributeError\u001B[0m                            Traceback (most recent call last)",
      "\u001B[1;32m~\\AppData\\Roaming\\Python\\Python39\\site-packages\\IPython\\core\\interactiveshell.py\u001B[0m in \u001B[0;36mshowtraceback\u001B[1;34m(self, exc_tuple, filename, tb_offset, exception_only, running_compiled_code)\u001B[0m\n\u001B[0;32m   2063\u001B[0m                         \u001B[1;31m# in the engines. This should return a list of strings.\u001B[0m\u001B[1;33m\u001B[0m\u001B[1;33m\u001B[0m\u001B[0m\n\u001B[1;32m-> 2064\u001B[1;33m                         \u001B[0mstb\u001B[0m \u001B[1;33m=\u001B[0m \u001B[0mvalue\u001B[0m\u001B[1;33m.\u001B[0m\u001B[0m_render_traceback_\u001B[0m\u001B[1;33m(\u001B[0m\u001B[1;33m)\u001B[0m\u001B[1;33m\u001B[0m\u001B[1;33m\u001B[0m\u001B[0m\n\u001B[0m\u001B[0;32m   2065\u001B[0m                     \u001B[1;32mexcept\u001B[0m \u001B[0mException\u001B[0m\u001B[1;33m:\u001B[0m\u001B[1;33m\u001B[0m\u001B[1;33m\u001B[0m\u001B[0m\n",
      "\u001B[1;31mAttributeError\u001B[0m: 'KeyboardInterrupt' object has no attribute '_render_traceback_'",
      "\nDuring handling of the above exception, another exception occurred:\n",
      "\u001B[1;31mTypeError\u001B[0m                                 Traceback (most recent call last)",
      "    \u001B[1;31m[... skipping hidden 1 frame]\u001B[0m\n",
      "\u001B[1;32m~\\AppData\\Roaming\\Python\\Python39\\site-packages\\IPython\\core\\interactiveshell.py\u001B[0m in \u001B[0;36mshowtraceback\u001B[1;34m(self, exc_tuple, filename, tb_offset, exception_only, running_compiled_code)\u001B[0m\n\u001B[0;32m   2064\u001B[0m                         \u001B[0mstb\u001B[0m \u001B[1;33m=\u001B[0m \u001B[0mvalue\u001B[0m\u001B[1;33m.\u001B[0m\u001B[0m_render_traceback_\u001B[0m\u001B[1;33m(\u001B[0m\u001B[1;33m)\u001B[0m\u001B[1;33m\u001B[0m\u001B[1;33m\u001B[0m\u001B[0m\n\u001B[0;32m   2065\u001B[0m                     \u001B[1;32mexcept\u001B[0m \u001B[0mException\u001B[0m\u001B[1;33m:\u001B[0m\u001B[1;33m\u001B[0m\u001B[1;33m\u001B[0m\u001B[0m\n\u001B[1;32m-> 2066\u001B[1;33m                         stb = self.InteractiveTB.structured_traceback(etype,\n\u001B[0m\u001B[0;32m   2067\u001B[0m                                             value, tb, tb_offset=tb_offset)\n\u001B[0;32m   2068\u001B[0m \u001B[1;33m\u001B[0m\u001B[0m\n",
      "\u001B[1;32m~\\AppData\\Roaming\\Python\\Python39\\site-packages\\IPython\\core\\ultratb.py\u001B[0m in \u001B[0;36mstructured_traceback\u001B[1;34m(self, etype, value, tb, tb_offset, number_of_lines_of_context)\u001B[0m\n\u001B[0;32m   1365\u001B[0m         \u001B[1;32melse\u001B[0m\u001B[1;33m:\u001B[0m\u001B[1;33m\u001B[0m\u001B[1;33m\u001B[0m\u001B[0m\n\u001B[0;32m   1366\u001B[0m             \u001B[0mself\u001B[0m\u001B[1;33m.\u001B[0m\u001B[0mtb\u001B[0m \u001B[1;33m=\u001B[0m \u001B[0mtb\u001B[0m\u001B[1;33m\u001B[0m\u001B[1;33m\u001B[0m\u001B[0m\n\u001B[1;32m-> 1367\u001B[1;33m         return FormattedTB.structured_traceback(\n\u001B[0m\u001B[0;32m   1368\u001B[0m             self, etype, value, tb, tb_offset, number_of_lines_of_context)\n\u001B[0;32m   1369\u001B[0m \u001B[1;33m\u001B[0m\u001B[0m\n",
      "\u001B[1;32m~\\AppData\\Roaming\\Python\\Python39\\site-packages\\IPython\\core\\ultratb.py\u001B[0m in \u001B[0;36mstructured_traceback\u001B[1;34m(self, etype, value, tb, tb_offset, number_of_lines_of_context)\u001B[0m\n\u001B[0;32m   1265\u001B[0m         \u001B[1;32mif\u001B[0m \u001B[0mmode\u001B[0m \u001B[1;32min\u001B[0m \u001B[0mself\u001B[0m\u001B[1;33m.\u001B[0m\u001B[0mverbose_modes\u001B[0m\u001B[1;33m:\u001B[0m\u001B[1;33m\u001B[0m\u001B[1;33m\u001B[0m\u001B[0m\n\u001B[0;32m   1266\u001B[0m             \u001B[1;31m# Verbose modes need a full traceback\u001B[0m\u001B[1;33m\u001B[0m\u001B[1;33m\u001B[0m\u001B[0m\n\u001B[1;32m-> 1267\u001B[1;33m             return VerboseTB.structured_traceback(\n\u001B[0m\u001B[0;32m   1268\u001B[0m                 \u001B[0mself\u001B[0m\u001B[1;33m,\u001B[0m \u001B[0metype\u001B[0m\u001B[1;33m,\u001B[0m \u001B[0mvalue\u001B[0m\u001B[1;33m,\u001B[0m \u001B[0mtb\u001B[0m\u001B[1;33m,\u001B[0m \u001B[0mtb_offset\u001B[0m\u001B[1;33m,\u001B[0m \u001B[0mnumber_of_lines_of_context\u001B[0m\u001B[1;33m\u001B[0m\u001B[1;33m\u001B[0m\u001B[0m\n\u001B[0;32m   1269\u001B[0m             )\n",
      "\u001B[1;32m~\\AppData\\Roaming\\Python\\Python39\\site-packages\\IPython\\core\\ultratb.py\u001B[0m in \u001B[0;36mstructured_traceback\u001B[1;34m(self, etype, evalue, etb, tb_offset, number_of_lines_of_context)\u001B[0m\n\u001B[0;32m   1122\u001B[0m         \u001B[1;34m\"\"\"Return a nice text document describing the traceback.\"\"\"\u001B[0m\u001B[1;33m\u001B[0m\u001B[1;33m\u001B[0m\u001B[0m\n\u001B[0;32m   1123\u001B[0m \u001B[1;33m\u001B[0m\u001B[0m\n\u001B[1;32m-> 1124\u001B[1;33m         formatted_exception = self.format_exception_as_a_whole(etype, evalue, etb, number_of_lines_of_context,\n\u001B[0m\u001B[0;32m   1125\u001B[0m                                                                tb_offset)\n\u001B[0;32m   1126\u001B[0m \u001B[1;33m\u001B[0m\u001B[0m\n",
      "\u001B[1;32m~\\AppData\\Roaming\\Python\\Python39\\site-packages\\IPython\\core\\ultratb.py\u001B[0m in \u001B[0;36mformat_exception_as_a_whole\u001B[1;34m(self, etype, evalue, etb, number_of_lines_of_context, tb_offset)\u001B[0m\n\u001B[0;32m   1080\u001B[0m \u001B[1;33m\u001B[0m\u001B[0m\n\u001B[0;32m   1081\u001B[0m \u001B[1;33m\u001B[0m\u001B[0m\n\u001B[1;32m-> 1082\u001B[1;33m         \u001B[0mlast_unique\u001B[0m\u001B[1;33m,\u001B[0m \u001B[0mrecursion_repeat\u001B[0m \u001B[1;33m=\u001B[0m \u001B[0mfind_recursion\u001B[0m\u001B[1;33m(\u001B[0m\u001B[0morig_etype\u001B[0m\u001B[1;33m,\u001B[0m \u001B[0mevalue\u001B[0m\u001B[1;33m,\u001B[0m \u001B[0mrecords\u001B[0m\u001B[1;33m)\u001B[0m\u001B[1;33m\u001B[0m\u001B[1;33m\u001B[0m\u001B[0m\n\u001B[0m\u001B[0;32m   1083\u001B[0m \u001B[1;33m\u001B[0m\u001B[0m\n\u001B[0;32m   1084\u001B[0m         \u001B[0mframes\u001B[0m \u001B[1;33m=\u001B[0m \u001B[0mself\u001B[0m\u001B[1;33m.\u001B[0m\u001B[0mformat_records\u001B[0m\u001B[1;33m(\u001B[0m\u001B[0mrecords\u001B[0m\u001B[1;33m,\u001B[0m \u001B[0mlast_unique\u001B[0m\u001B[1;33m,\u001B[0m \u001B[0mrecursion_repeat\u001B[0m\u001B[1;33m)\u001B[0m\u001B[1;33m\u001B[0m\u001B[1;33m\u001B[0m\u001B[0m\n",
      "\u001B[1;32m~\\AppData\\Roaming\\Python\\Python39\\site-packages\\IPython\\core\\ultratb.py\u001B[0m in \u001B[0;36mfind_recursion\u001B[1;34m(etype, value, records)\u001B[0m\n\u001B[0;32m    380\u001B[0m     \u001B[1;31m# first frame (from in to out) that looks different.\u001B[0m\u001B[1;33m\u001B[0m\u001B[1;33m\u001B[0m\u001B[0m\n\u001B[0;32m    381\u001B[0m     \u001B[1;32mif\u001B[0m \u001B[1;32mnot\u001B[0m \u001B[0mis_recursion_error\u001B[0m\u001B[1;33m(\u001B[0m\u001B[0metype\u001B[0m\u001B[1;33m,\u001B[0m \u001B[0mvalue\u001B[0m\u001B[1;33m,\u001B[0m \u001B[0mrecords\u001B[0m\u001B[1;33m)\u001B[0m\u001B[1;33m:\u001B[0m\u001B[1;33m\u001B[0m\u001B[1;33m\u001B[0m\u001B[0m\n\u001B[1;32m--> 382\u001B[1;33m         \u001B[1;32mreturn\u001B[0m \u001B[0mlen\u001B[0m\u001B[1;33m(\u001B[0m\u001B[0mrecords\u001B[0m\u001B[1;33m)\u001B[0m\u001B[1;33m,\u001B[0m \u001B[1;36m0\u001B[0m\u001B[1;33m\u001B[0m\u001B[1;33m\u001B[0m\u001B[0m\n\u001B[0m\u001B[0;32m    383\u001B[0m \u001B[1;33m\u001B[0m\u001B[0m\n\u001B[0;32m    384\u001B[0m     \u001B[1;31m# Select filename, lineno, func_name to track frames with\u001B[0m\u001B[1;33m\u001B[0m\u001B[1;33m\u001B[0m\u001B[0m\n",
      "\u001B[1;31mTypeError\u001B[0m: object of type 'NoneType' has no len()"
     ]
    }
   ],
   "source": [
    "def train():\n",
    "    criterion = nn.CrossEntropyLoss()\n",
    "    optimizer = torch.optim.SGD(model.parameters(), lr=LEARN_RATE)\n",
    "    steps = len(train_loader)\n",
    "    for epoch in range(EPOCHS):\n",
    "        for i, (img, label) in enumerate(train_loader):\n",
    "            img: torch.Tensor = img.to(device, non_blocking=True)\n",
    "            label: torch.Tensor = label.to(device, non_blocking=True)\n",
    "            output = model(img).to(device)\n",
    "            loss: torch.Tensor = criterion(output, label).to(device)\n",
    "\n",
    "            optimizer.zero_grad()\n",
    "            loss.backward()\n",
    "            optimizer.step()\n",
    "\n",
    "            if i % 10 == 0:\n",
    "                print(f\"Epoch {epoch + 1}/{EPOCHS}, Batch {i + 1}/{steps}, Loss {loss.item():.4f}\")\n",
    "\n",
    "    torch.save(model.state_dict(), \"./DrawtexModel.pth\")\n",
    "    torch.save(optimizer.state_dict(), \"./Optimizer.pth\")\n",
    "\n",
    "train()\n"
   ]
  },
  {
   "cell_type": "markdown",
   "source": [
    "#### Testing"
   ],
   "metadata": {
    "collapsed": false
   }
  },
  {
   "cell_type": "code",
   "execution_count": null,
   "metadata": {
    "collapsed": false
   },
   "outputs": [],
   "source": [
    "with torch.no_grad():\n",
    "    correct = 0\n",
    "    total = 0\n",
    "    for img, labels in test_loader:\n",
    "        img = img.to(device, non_blocking= True)\n",
    "        labels = labels.to(device, non_blocking= True)\n",
    "\n",
    "        output = model(img)\n",
    "        _, prediction = torch.max(output, 1)\n",
    "        total += labels.size(0)\n",
    "        correct += (prediction == labels).sum().item()\n",
    "\n",
    "    acc = 100.0 * correct / total\n",
    "    print(f\"Accuracy: {acc}%\")\n"
   ]
  }
 ],
 "metadata": {
  "kernelspec": {
   "display_name": "Python 3",
   "language": "python",
   "name": "python3"
  },
  "language_info": {
   "codemirror_mode": {
    "name": "ipython",
    "version": 3
   },
   "file_extension": ".py",
   "mimetype": "text/x-python",
   "name": "python",
   "nbconvert_exporter": "python",
   "pygments_lexer": "ipython3",
   "version": "3.9.0"
  },
  "vscode": {
   "interpreter": {
    "hash": "cc82db2dc128658da88fa564359fe123ee9c6914f8c7963941acb47815200485"
   }
  }
 },
 "nbformat": 4,
 "nbformat_minor": 0
}
