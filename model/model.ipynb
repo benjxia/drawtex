{
 "cells": [
  {
   "cell_type": "code",
   "execution_count": 1,
   "metadata": {
    "collapsed": false
   },
   "outputs": [],
   "source": [
    "import numpy as np\n",
    "import matplotlib.pyplot as plt\n",
    "import torch\n",
    "from torch import nn\n",
    "from torch.utils.data import Dataset, DataLoader\n",
    "import torchvision.transforms as transforms\n",
    "from DrawtexDataset import DrawtexDataset"
   ]
  },
  {
   "cell_type": "markdown",
   "metadata": {
    "collapsed": false
   },
   "source": [
    "#### Hyperparameters"
   ]
  },
  {
   "cell_type": "code",
   "execution_count": 18,
   "metadata": {
    "collapsed": false
   },
   "outputs": [
    {
     "name": "stdout",
     "output_type": "stream",
     "text": [
      "Using cuda device\n"
     ]
    }
   ],
   "source": [
    "TRAIN_BATCH_SZ = 128\n",
    "TEST_BATCH_SZ = 1000\n",
    "EPOCHS = 1\n",
    "LEARN_RATE = 0.001\n",
    "CLASS_CNT = 78\n",
    "\n",
    "device: str = \"cuda\" if torch.cuda.is_available() else \"cpu\"\n",
    "print(f\"Using {device} device\")"
   ]
  },
  {
   "cell_type": "markdown",
   "metadata": {
    "collapsed": false
   },
   "source": [
    "#### Model definition"
   ]
  },
  {
   "cell_type": "code",
   "execution_count": 3,
   "metadata": {
    "collapsed": false
   },
   "outputs": [],
   "source": [
    "class DrawtexModel(nn.Module):\n",
    "    def __init__(self):\n",
    "        super().__init__()\n",
    "        self.relu = nn.ReLU()\n",
    "        self.conv1 = nn.Conv2d(1, 150, 9, bias=False)  # 45x45 -> 37x37\n",
    "        self.conv1_bn = nn.BatchNorm2d(150)\n",
    "        self.conv2 = nn.Conv2d(150, 200, 9, bias=False)  # 37x37 -> 29x29\n",
    "        self.conv2_bn = nn.BatchNorm2d(200)\n",
    "        self.conv3 = nn.Conv2d(200, 300, 9, bias=False)  # 29x29 -> 21x21\n",
    "        self.conv3_bn = nn.BatchNorm2d(300)\n",
    "        self.conv4 = nn.Conv2d(300, 500, 9, bias=False)  # 21x21 -> 13x13\n",
    "        self.conv4_bn = nn.BatchNorm2d(500)\n",
    "        self.conv5 = nn.Conv2d(500, 800, 9, bias=False)  # 13x13 -> 5x5\n",
    "        self.conv5_bn = nn.BatchNorm2d(800)\n",
    "        self.lin1 = nn.Linear(20000, 326, bias=False)\n",
    "        self.lin1_bn = nn.BatchNorm1d(326)\n",
    "\n",
    "    def forward(self, x: torch.Tensor):\n",
    "        x: torch.Tensor = self.relu(self.conv1_bn(self.conv1(x)))\n",
    "        x: torch.Tensor = self.relu(self.conv2_bn(self.conv2(x)))\n",
    "        x: torch.Tensor = self.relu(self.conv3_bn(self.conv3(x)))\n",
    "        x: torch.Tensor = self.relu(self.conv4_bn(self.conv4(x)))\n",
    "        x: torch.Tensor = self.relu(self.conv5_bn(self.conv5(x)))\n",
    "        x = torch.flatten(x.permute(0, 2, 3, 1), 1)\n",
    "        x = self.lin1_bn(self.lin1(x))\n",
    "        return x\n"
   ]
  },
  {
   "cell_type": "markdown",
   "metadata": {
    "collapsed": false
   },
   "source": [
    "#### Dataloader setup"
   ]
  },
  {
   "cell_type": "code",
   "execution_count": 4,
   "metadata": {
    "collapsed": false
   },
   "outputs": [
    {
     "name": "stdout",
     "output_type": "stream",
     "text": [
      "DrawtexModel(\n",
      "  (relu): ReLU()\n",
      "  (conv1): Conv2d(1, 150, kernel_size=(9, 9), stride=(1, 1), bias=False)\n",
      "  (conv1_bn): BatchNorm2d(150, eps=1e-05, momentum=0.1, affine=True, track_running_stats=True)\n",
      "  (conv2): Conv2d(150, 200, kernel_size=(9, 9), stride=(1, 1), bias=False)\n",
      "  (conv2_bn): BatchNorm2d(200, eps=1e-05, momentum=0.1, affine=True, track_running_stats=True)\n",
      "  (conv3): Conv2d(200, 300, kernel_size=(9, 9), stride=(1, 1), bias=False)\n",
      "  (conv3_bn): BatchNorm2d(300, eps=1e-05, momentum=0.1, affine=True, track_running_stats=True)\n",
      "  (conv4): Conv2d(300, 500, kernel_size=(9, 9), stride=(1, 1), bias=False)\n",
      "  (conv4_bn): BatchNorm2d(500, eps=1e-05, momentum=0.1, affine=True, track_running_stats=True)\n",
      "  (conv5): Conv2d(500, 800, kernel_size=(9, 9), stride=(1, 1), bias=False)\n",
      "  (conv5_bn): BatchNorm2d(800, eps=1e-05, momentum=0.1, affine=True, track_running_stats=True)\n",
      "  (lin1): Linear(in_features=20000, out_features=326, bias=False)\n",
      "  (lin1_bn): BatchNorm1d(326, eps=1e-05, momentum=0.1, affine=True, track_running_stats=True)\n",
      ")\n"
     ]
    }
   ],
   "source": [
    "data_set = DrawtexDataset(transforms.ToTensor())\n",
    "TRAIN_SIZE = int(0.8 * len(data_set))\n",
    "TEST_SIZE = len(data_set) - TRAIN_SIZE\n",
    "train_set, test_set = torch.utils.data.random_split(data_set, [TRAIN_SIZE, TEST_SIZE])\n",
    "\n",
    "train_loader = DataLoader(\n",
    "    dataset=train_set,\n",
    "    batch_size=TRAIN_BATCH_SZ,\n",
    "    shuffle=True,\n",
    "    num_workers=4\n",
    ")\n",
    "\n",
    "test_loader = DataLoader(\n",
    "    dataset=test_set,\n",
    "    batch_size=TEST_BATCH_SZ,\n",
    "    shuffle=False,\n",
    "    num_workers=4\n",
    ")\n",
    "\n",
    "model = DrawtexModel().to(device)\n",
    "print(model)"
   ]
  },
  {
   "cell_type": "code",
   "execution_count": 5,
   "metadata": {
    "collapsed": false
   },
   "outputs": [
    {
     "name": "stdout",
     "output_type": "stream",
     "text": [
      "tensor([[ 0.9985,  0.9999, -0.9998,  0.9994,  1.0000,  0.9997,  0.9998, -0.9998,\n",
      "         -0.9999,  0.9998, -0.9998, -0.9995, -0.9997, -0.9999,  0.9996,  1.0000,\n",
      "         -1.0000, -1.0000,  0.9998,  0.9999,  0.9999,  0.9986,  0.9996, -0.9998,\n",
      "          0.9998, -0.8984,  1.0000, -0.9999, -0.9975, -0.9991,  0.9999,  1.0000,\n",
      "         -0.6946,  0.9986, -0.9923,  0.9999, -0.9999,  0.9999, -0.9999,  0.9999,\n",
      "         -1.0000,  0.9997, -0.9992, -0.9989, -0.9999, -0.9994,  0.9941, -0.9998,\n",
      "          0.9999,  0.9970,  0.9999, -0.9999, -0.9949, -0.9994, -0.9720, -0.9999,\n",
      "          0.9999, -0.9612, -0.9999, -1.0000,  0.9999, -0.9999, -0.9943,  0.9948,\n",
      "         -0.9997, -0.9876,  0.9999, -0.9993,  0.9999, -0.9975, -0.9999, -0.9998,\n",
      "         -0.9982, -0.9993,  0.9995,  0.9940,  0.9995,  0.9984,  0.9991,  0.9998,\n",
      "          0.9991, -0.9999, -0.9930,  0.9989, -0.9996,  0.9944,  0.9998, -0.9998,\n",
      "         -0.9999,  1.0000, -0.9986, -0.9999,  0.9997,  0.9999,  0.9986,  0.9999,\n",
      "          0.9999, -0.9998,  0.9996, -0.9977, -0.9999,  0.9986, -0.9991, -0.9990,\n",
      "         -0.9998,  1.0000,  0.9995, -0.9999,  0.9989, -1.0000,  1.0000, -0.9999,\n",
      "          0.9974,  0.9974,  0.9991,  0.9747,  1.0000, -1.0000, -0.9998,  0.9986,\n",
      "         -0.9997,  0.9999,  0.9983,  0.9943, -0.9965, -0.9999, -0.9999,  1.0000,\n",
      "          0.9993, -0.9998, -0.9979, -0.9997,  0.9999,  1.0000, -1.0000, -0.9999,\n",
      "         -0.9999, -0.9998, -1.0000,  0.9998,  0.9982,  1.0000,  0.9999,  0.9992,\n",
      "          1.0000,  0.9998,  0.9995, -0.9999, -0.9999, -0.9999, -0.9999,  0.9991,\n",
      "         -0.9948, -0.9657, -0.9979,  0.9999,  0.9991, -0.9990,  0.9996, -0.9994,\n",
      "         -0.9999,  0.9997,  1.0000,  0.3290,  1.0000,  0.9996, -1.0000, -0.9998,\n",
      "          0.9832,  1.0000, -0.7585, -1.0000,  0.9990,  0.8732,  1.0000,  0.9999,\n",
      "          1.0000,  0.9995, -1.0000,  0.9997, -0.9999,  1.0000, -0.9998, -0.9786,\n",
      "          0.9998, -0.9991, -1.0000, -0.9702,  0.9999,  0.9895, -0.9997,  0.9998,\n",
      "          0.9999, -0.9999, -0.9999,  0.9999, -0.9978,  1.0000,  0.9997, -1.0000,\n",
      "          0.9999, -0.9999,  1.0000, -0.9999, -0.9999,  0.9999,  0.9998, -0.9999,\n",
      "          0.9997, -0.9415,  0.9987, -0.9996,  0.9979,  0.9994,  0.9979, -1.0000,\n",
      "         -0.9999, -0.9944,  0.9972, -1.0000, -0.9999, -1.0000,  0.9982,  0.9999,\n",
      "         -0.9993, -0.9987,  0.9995,  0.9999,  0.9994,  0.9983,  0.9998, -0.9999,\n",
      "         -0.9999, -0.9999,  0.9980,  0.9995, -0.9999, -0.9999,  0.9999, -0.9999,\n",
      "          1.0000,  0.9999,  0.9983,  1.0000,  0.9998, -0.9968,  0.9999, -0.9980,\n",
      "         -0.7820, -1.0000, -0.9997,  0.9999,  0.9989,  0.9997, -0.9621,  0.9988,\n",
      "          0.9957,  0.9999,  0.9997,  0.9993,  1.0000, -0.9998,  1.0000, -0.9999,\n",
      "         -0.9998,  0.9998, -1.0000, -0.9998, -1.0000,  0.9997,  1.0000, -0.9945,\n",
      "         -0.9999,  0.9998,  0.9991,  0.9997, -1.0000, -0.9417, -0.9999, -0.9999,\n",
      "          0.9999,  1.0000, -0.9580, -1.0000, -1.0000,  0.9999,  0.9999, -0.9993,\n",
      "          0.9980, -0.9977, -0.9999, -0.9999, -0.9999,  0.9990, -0.9999, -1.0000,\n",
      "         -0.9999,  0.9988,  0.9997,  0.9998, -0.9772, -0.9995,  0.9997,  0.9979,\n",
      "          1.0000,  0.9996,  0.9983,  1.0000, -1.0000,  0.9873, -0.9722, -1.0000,\n",
      "          0.9952,  0.9999,  1.0000,  0.9997,  1.0000,  0.9999,  0.9942,  0.9998,\n",
      "         -0.9998,  0.9999, -0.9999,  1.0000, -0.9997,  0.9998],\n",
      "        [-0.9985, -0.9999,  0.9998, -0.9994, -1.0000, -0.9997, -0.9998,  0.9998,\n",
      "          0.9999, -0.9998,  0.9998,  0.9995,  0.9997,  0.9999, -0.9996, -1.0000,\n",
      "          1.0000,  1.0000, -0.9998, -0.9999, -0.9999, -0.9986, -0.9996,  0.9998,\n",
      "         -0.9998,  0.8984, -1.0000,  0.9999,  0.9975,  0.9991, -0.9999, -1.0000,\n",
      "          0.6946, -0.9986,  0.9923, -0.9999,  0.9999, -0.9999,  0.9999, -0.9999,\n",
      "          1.0000, -0.9997,  0.9992,  0.9989,  0.9999,  0.9994, -0.9941,  0.9998,\n",
      "         -0.9999, -0.9970, -0.9999,  0.9999,  0.9949,  0.9994,  0.9720,  0.9999,\n",
      "         -0.9999,  0.9612,  0.9999,  1.0000, -0.9999,  0.9999,  0.9943, -0.9948,\n",
      "          0.9997,  0.9876, -0.9999,  0.9993, -0.9999,  0.9975,  0.9999,  0.9998,\n",
      "          0.9982,  0.9993, -0.9995, -0.9940, -0.9995, -0.9984, -0.9991, -0.9998,\n",
      "         -0.9991,  0.9999,  0.9930, -0.9989,  0.9996, -0.9944, -0.9998,  0.9998,\n",
      "          0.9999, -1.0000,  0.9986,  0.9999, -0.9997, -0.9999, -0.9986, -0.9999,\n",
      "         -0.9999,  0.9998, -0.9996,  0.9977,  0.9999, -0.9986,  0.9991,  0.9990,\n",
      "          0.9998, -1.0000, -0.9995,  0.9999, -0.9989,  1.0000, -1.0000,  0.9999,\n",
      "         -0.9974, -0.9974, -0.9991, -0.9747, -1.0000,  1.0000,  0.9998, -0.9986,\n",
      "          0.9997, -0.9999, -0.9983, -0.9943,  0.9965,  0.9999,  0.9999, -1.0000,\n",
      "         -0.9993,  0.9998,  0.9979,  0.9997, -0.9999, -1.0000,  1.0000,  0.9999,\n",
      "          0.9999,  0.9998,  1.0000, -0.9998, -0.9982, -1.0000, -0.9999, -0.9992,\n",
      "         -1.0000, -0.9998, -0.9995,  0.9999,  0.9999,  0.9999,  0.9999, -0.9991,\n",
      "          0.9948,  0.9657,  0.9979, -0.9999, -0.9991,  0.9990, -0.9996,  0.9994,\n",
      "          0.9999, -0.9997, -1.0000, -0.3290, -1.0000, -0.9996,  1.0000,  0.9998,\n",
      "         -0.9832, -1.0000,  0.7585,  1.0000, -0.9990, -0.8732, -1.0000, -0.9999,\n",
      "         -1.0000, -0.9995,  1.0000, -0.9997,  0.9999, -1.0000,  0.9998,  0.9786,\n",
      "         -0.9998,  0.9991,  1.0000,  0.9702, -0.9999, -0.9895,  0.9997, -0.9998,\n",
      "         -0.9999,  0.9999,  0.9999, -0.9999,  0.9978, -1.0000, -0.9997,  1.0000,\n",
      "         -0.9999,  0.9999, -1.0000,  0.9999,  0.9999, -0.9999, -0.9998,  0.9999,\n",
      "         -0.9997,  0.9415, -0.9987,  0.9996, -0.9979, -0.9994, -0.9979,  1.0000,\n",
      "          0.9999,  0.9944, -0.9972,  1.0000,  0.9999,  1.0000, -0.9982, -0.9999,\n",
      "          0.9993,  0.9987, -0.9995, -0.9999, -0.9994, -0.9983, -0.9998,  0.9999,\n",
      "          0.9999,  0.9999, -0.9980, -0.9995,  0.9999,  0.9999, -0.9999,  0.9999,\n",
      "         -1.0000, -0.9999, -0.9983, -1.0000, -0.9998,  0.9968, -0.9999,  0.9980,\n",
      "          0.7820,  1.0000,  0.9997, -0.9999, -0.9989, -0.9997,  0.9621, -0.9988,\n",
      "         -0.9957, -0.9999, -0.9997, -0.9993, -1.0000,  0.9998, -1.0000,  0.9999,\n",
      "          0.9998, -0.9998,  1.0000,  0.9998,  1.0000, -0.9997, -1.0000,  0.9945,\n",
      "          0.9999, -0.9998, -0.9991, -0.9997,  1.0000,  0.9417,  0.9999,  0.9999,\n",
      "         -0.9999, -1.0000,  0.9580,  1.0000,  1.0000, -0.9999, -0.9999,  0.9993,\n",
      "         -0.9980,  0.9977,  0.9999,  0.9999,  0.9999, -0.9990,  0.9999,  1.0000,\n",
      "          0.9999, -0.9988, -0.9997, -0.9998,  0.9772,  0.9995, -0.9997, -0.9979,\n",
      "         -1.0000, -0.9996, -0.9983, -1.0000,  1.0000, -0.9873,  0.9722,  1.0000,\n",
      "         -0.9952, -0.9999, -1.0000, -0.9997, -1.0000, -0.9999, -0.9942, -0.9998,\n",
      "          0.9998, -0.9999,  0.9999, -1.0000,  0.9997, -0.9998]],\n",
      "       device='cuda:0', grad_fn=<NativeBatchNormBackward0>)\n"
     ]
    }
   ],
   "source": [
    "tens = torch.rand((2, 1, 45, 45)).to(device)\n",
    "\n",
    "output1 = model(tens)\n",
    "\n",
    "print(output1)"
   ]
  },
  {
   "cell_type": "markdown",
   "metadata": {
    "collapsed": false
   },
   "source": [
    "#### Training"
   ]
  },
  {
   "cell_type": "code",
   "execution_count": 19,
   "metadata": {
    "collapsed": false
   },
   "outputs": [
    {
     "name": "stdout",
     "output_type": "stream",
     "text": [
      "Epoch 1/1, Batch 1/1208, Loss 0.1733\n",
      "Epoch 1/1, Batch 11/1208, Loss 0.1393\n",
      "Epoch 1/1, Batch 21/1208, Loss 0.0932\n",
      "Epoch 1/1, Batch 31/1208, Loss 0.0875\n",
      "Epoch 1/1, Batch 41/1208, Loss 0.0636\n",
      "Epoch 1/1, Batch 51/1208, Loss 0.0972\n",
      "Epoch 1/1, Batch 61/1208, Loss 0.0608\n",
      "Epoch 1/1, Batch 71/1208, Loss 0.0731\n",
      "Epoch 1/1, Batch 81/1208, Loss 0.1190\n",
      "Epoch 1/1, Batch 91/1208, Loss 0.1458\n",
      "Epoch 1/1, Batch 101/1208, Loss 0.1191\n",
      "Epoch 1/1, Batch 111/1208, Loss 0.0668\n",
      "Epoch 1/1, Batch 121/1208, Loss 0.1130\n",
      "Epoch 1/1, Batch 131/1208, Loss 0.1027\n",
      "Epoch 1/1, Batch 141/1208, Loss 0.0812\n",
      "Epoch 1/1, Batch 151/1208, Loss 0.0778\n",
      "Epoch 1/1, Batch 161/1208, Loss 0.0591\n",
      "Epoch 1/1, Batch 171/1208, Loss 0.0553\n",
      "Epoch 1/1, Batch 181/1208, Loss 0.0795\n",
      "Epoch 1/1, Batch 191/1208, Loss 0.0743\n",
      "Epoch 1/1, Batch 201/1208, Loss 0.0824\n",
      "Epoch 1/1, Batch 211/1208, Loss 0.1407\n",
      "Epoch 1/1, Batch 221/1208, Loss 0.0791\n",
      "Epoch 1/1, Batch 231/1208, Loss 0.0441\n",
      "Epoch 1/1, Batch 241/1208, Loss 0.0379\n",
      "Epoch 1/1, Batch 251/1208, Loss 0.0456\n",
      "Epoch 1/1, Batch 261/1208, Loss 0.0543\n",
      "Epoch 1/1, Batch 271/1208, Loss 0.0443\n",
      "Epoch 1/1, Batch 281/1208, Loss 0.0759\n",
      "Epoch 1/1, Batch 291/1208, Loss 0.0918\n",
      "Epoch 1/1, Batch 301/1208, Loss 0.1036\n",
      "Epoch 1/1, Batch 311/1208, Loss 0.0532\n",
      "Epoch 1/1, Batch 321/1208, Loss 0.0572\n",
      "Epoch 1/1, Batch 331/1208, Loss 0.0718\n",
      "Epoch 1/1, Batch 341/1208, Loss 0.0883\n",
      "Epoch 1/1, Batch 351/1208, Loss 0.0670\n",
      "Epoch 1/1, Batch 361/1208, Loss 0.0775\n",
      "Epoch 1/1, Batch 371/1208, Loss 0.0837\n",
      "Epoch 1/1, Batch 381/1208, Loss 0.0552\n",
      "Epoch 1/1, Batch 391/1208, Loss 0.0896\n",
      "Epoch 1/1, Batch 401/1208, Loss 0.0820\n",
      "Epoch 1/1, Batch 411/1208, Loss 0.0862\n",
      "Epoch 1/1, Batch 421/1208, Loss 0.0783\n",
      "Epoch 1/1, Batch 431/1208, Loss 0.1093\n",
      "Epoch 1/1, Batch 441/1208, Loss 0.0782\n",
      "Epoch 1/1, Batch 451/1208, Loss 0.0987\n",
      "Epoch 1/1, Batch 461/1208, Loss 0.0853\n",
      "Epoch 1/1, Batch 471/1208, Loss 0.1077\n",
      "Epoch 1/1, Batch 481/1208, Loss 0.1390\n",
      "Epoch 1/1, Batch 491/1208, Loss 0.0918\n",
      "Epoch 1/1, Batch 501/1208, Loss 0.1029\n",
      "Epoch 1/1, Batch 511/1208, Loss 0.0792\n",
      "Epoch 1/1, Batch 521/1208, Loss 0.1056\n",
      "Epoch 1/1, Batch 531/1208, Loss 0.1050\n",
      "Epoch 1/1, Batch 541/1208, Loss 0.0669\n",
      "Epoch 1/1, Batch 551/1208, Loss 0.0501\n",
      "Epoch 1/1, Batch 561/1208, Loss 0.1260\n",
      "Epoch 1/1, Batch 571/1208, Loss 0.0737\n",
      "Epoch 1/1, Batch 581/1208, Loss 0.0824\n",
      "Epoch 1/1, Batch 591/1208, Loss 0.0646\n",
      "Epoch 1/1, Batch 601/1208, Loss 0.0396\n",
      "Epoch 1/1, Batch 611/1208, Loss 0.0587\n",
      "Epoch 1/1, Batch 621/1208, Loss 0.0607\n",
      "Epoch 1/1, Batch 631/1208, Loss 0.0759\n",
      "Epoch 1/1, Batch 641/1208, Loss 0.0526\n",
      "Epoch 1/1, Batch 651/1208, Loss 0.0585\n",
      "Epoch 1/1, Batch 661/1208, Loss 0.0948\n",
      "Epoch 1/1, Batch 671/1208, Loss 0.1277\n",
      "Epoch 1/1, Batch 681/1208, Loss 0.0675\n",
      "Epoch 1/1, Batch 691/1208, Loss 0.0763\n",
      "Epoch 1/1, Batch 701/1208, Loss 0.0684\n",
      "Epoch 1/1, Batch 711/1208, Loss 0.0546\n",
      "Epoch 1/1, Batch 721/1208, Loss 0.0933\n",
      "Epoch 1/1, Batch 731/1208, Loss 0.0866\n",
      "Epoch 1/1, Batch 741/1208, Loss 0.0598\n",
      "Epoch 1/1, Batch 751/1208, Loss 0.1115\n",
      "Epoch 1/1, Batch 761/1208, Loss 0.0730\n",
      "Epoch 1/1, Batch 771/1208, Loss 0.0755\n",
      "Epoch 1/1, Batch 781/1208, Loss 0.0378\n",
      "Epoch 1/1, Batch 791/1208, Loss 0.0789\n",
      "Epoch 1/1, Batch 801/1208, Loss 0.0362\n",
      "Epoch 1/1, Batch 811/1208, Loss 0.0792\n",
      "Epoch 1/1, Batch 821/1208, Loss 0.0630\n",
      "Epoch 1/1, Batch 831/1208, Loss 0.0677\n",
      "Epoch 1/1, Batch 841/1208, Loss 0.0674\n",
      "Epoch 1/1, Batch 851/1208, Loss 0.0446\n",
      "Epoch 1/1, Batch 861/1208, Loss 0.0929\n",
      "Epoch 1/1, Batch 871/1208, Loss 0.0501\n",
      "Epoch 1/1, Batch 881/1208, Loss 0.0805\n",
      "Epoch 1/1, Batch 891/1208, Loss 0.0756\n",
      "Epoch 1/1, Batch 901/1208, Loss 0.0978\n",
      "Epoch 1/1, Batch 911/1208, Loss 0.0475\n",
      "Epoch 1/1, Batch 921/1208, Loss 0.0769\n",
      "Epoch 1/1, Batch 931/1208, Loss 0.1082\n",
      "Epoch 1/1, Batch 941/1208, Loss 0.0484\n",
      "Epoch 1/1, Batch 951/1208, Loss 0.0515\n",
      "Epoch 1/1, Batch 961/1208, Loss 0.0553\n",
      "Epoch 1/1, Batch 971/1208, Loss 0.1025\n",
      "Epoch 1/1, Batch 981/1208, Loss 0.0805\n",
      "Epoch 1/1, Batch 991/1208, Loss 0.0887\n",
      "Epoch 1/1, Batch 1001/1208, Loss 0.0843\n",
      "Epoch 1/1, Batch 1011/1208, Loss 0.0473\n",
      "Epoch 1/1, Batch 1021/1208, Loss 0.0878\n",
      "Epoch 1/1, Batch 1031/1208, Loss 0.0483\n",
      "Epoch 1/1, Batch 1041/1208, Loss 0.0376\n",
      "Epoch 1/1, Batch 1051/1208, Loss 0.0642\n",
      "Epoch 1/1, Batch 1061/1208, Loss 0.0570\n",
      "Epoch 1/1, Batch 1071/1208, Loss 0.0397\n",
      "Epoch 1/1, Batch 1081/1208, Loss 0.0511\n",
      "Epoch 1/1, Batch 1091/1208, Loss 0.0869\n",
      "Epoch 1/1, Batch 1101/1208, Loss 0.1183\n",
      "Epoch 1/1, Batch 1111/1208, Loss 0.0603\n",
      "Epoch 1/1, Batch 1121/1208, Loss 0.0926\n",
      "Epoch 1/1, Batch 1131/1208, Loss 0.0748\n",
      "Epoch 1/1, Batch 1141/1208, Loss 0.1011\n",
      "Epoch 1/1, Batch 1151/1208, Loss 0.0420\n",
      "Epoch 1/1, Batch 1161/1208, Loss 0.0785\n",
      "Epoch 1/1, Batch 1171/1208, Loss 0.0626\n",
      "Epoch 1/1, Batch 1181/1208, Loss 0.0613\n",
      "Epoch 1/1, Batch 1191/1208, Loss 0.0645\n",
      "Epoch 1/1, Batch 1201/1208, Loss 0.0450\n"
     ]
    }
   ],
   "source": [
    "def train():\n",
    "    criterion = nn.CrossEntropyLoss()\n",
    "    optimizer = torch.optim.SGD(model.parameters(), lr=LEARN_RATE)\n",
    "    steps = len(train_loader)\n",
    "    for epoch in range(EPOCHS):\n",
    "        for i, (img, label) in enumerate(train_loader):\n",
    "            img: torch.Tensor = img.to(device, non_blocking=True)\n",
    "            label: torch.Tensor = label.to(device, non_blocking=True)\n",
    "            output = model(img).to(device)\n",
    "            loss: torch.Tensor = criterion(output, label).to(device)\n",
    "\n",
    "            optimizer.zero_grad()\n",
    "            loss.backward()\n",
    "            optimizer.step()\n",
    "\n",
    "            if i % 10 == 0:\n",
    "                print(f\"Epoch {epoch + 1}/{EPOCHS}, Batch {i + 1}/{steps}, Loss {loss.item():.4f}\")\n",
    "\n",
    "    torch.save(model.state_dict(), \"./DrawtexModel2.pth\")\n",
    "    torch.save(optimizer.state_dict(), \"./Optimizer2.pth\")\n",
    "\n",
    "train()\n"
   ]
  },
  {
   "cell_type": "markdown",
   "metadata": {
    "collapsed": false
   },
   "source": [
    "#### Testing"
   ]
  },
  {
   "cell_type": "code",
   "execution_count": 20,
   "metadata": {
    "collapsed": false
   },
   "outputs": [
    {
     "name": "stdout",
     "output_type": "stream",
     "text": [
      "Accuracy: 82.68509173718397%\n"
     ]
    }
   ],
   "source": [
    "with torch.no_grad():\n",
    "    correct = 0\n",
    "    total = 0\n",
    "    for img, labels in test_loader:\n",
    "        img = img.to(device, non_blocking= True)\n",
    "        labels = labels.to(device, non_blocking= True)\n",
    "\n",
    "        output = model(img)\n",
    "        _, prediction = torch.max(output, 1)\n",
    "        total += labels.size(0)\n",
    "        correct += (prediction == labels).sum().item()\n",
    "\n",
    "    acc = 100.0 * correct / total\n",
    "    print(f\"Accuracy: {acc}%\")\n"
   ]
  }
 ],
 "metadata": {
  "kernelspec": {
   "display_name": "Python 3",
   "language": "python",
   "name": "python3"
  },
  "language_info": {
   "codemirror_mode": {
    "name": "ipython",
    "version": 3
   },
   "file_extension": ".py",
   "mimetype": "text/x-python",
   "name": "python",
   "nbconvert_exporter": "python",
   "pygments_lexer": "ipython3",
   "version": "3.9.0"
  },
  "vscode": {
   "interpreter": {
    "hash": "cc82db2dc128658da88fa564359fe123ee9c6914f8c7963941acb47815200485"
   }
  }
 },
 "nbformat": 4,
 "nbformat_minor": 0
}
