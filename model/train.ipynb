{
 "cells": [
  {
   "cell_type": "code",
   "execution_count": null,
   "metadata": {
    "collapsed": false
   },
   "outputs": [],
   "source": [
    "import numpy as np\n",
    "import cv2\n",
    "import matplotlib.pyplot as plt\n",
    "import torch\n",
    "from torch import nn\n",
    "from torch.utils.data import Dataset, DataLoader\n",
    "import torchvision.transforms as transforms"
   ]
  },
  {
   "cell_type": "code",
   "execution_count": null,
   "outputs": [],
   "source": [
    "class DrawTexModel(nn.Module):\n",
    "    def __init__(self):\n",
    "        super().__init__()\n",
    "        self.relu = nn.ReLU()\n",
    "        self.conv1 = nn.Conv2d(1, 150, 9, bias=False)  # 45x45 -> 37x37\n",
    "        self.conv1_bn = nn.BatchNorm2d(150)\n",
    "        self.conv2 = nn.Conv2d(150, 200, 9, bias=False)  # 37x37 -> 29x29\n",
    "        self.conv2_bn = nn.BatchNorm2d(200)\n",
    "        self.conv3 = nn.Conv2d(200, 300, 9, bias=False)  # 29x29 -> 21x21\n",
    "        self.conv3_bn = nn.BatchNorm2d(300)\n",
    "        self.conv4 = nn.Conv2d(300, 500, 9, bias=False)  # 21x21 -> 13x13\n",
    "        self.conv4_bn = nn.BatchNorm2d(500)\n",
    "        self.conv5 = nn.Conv2d(500, 800, 9, bias=False)  # 13x13 -> 5x5\n",
    "        self.conv5_bn = nn.BatchNorm2d(800)\n",
    "        self.lin1 = nn.Linear(20000, 78, bias=False)\n",
    "        self.lin1_bn = nn.BatchNorm1d(78)\n",
    "\n",
    "    def forward(self, x: torch.Tensor):\n",
    "        x: torch.Tensor = self.relu(self.conv1_bn(self.conv1(x)))\n",
    "        x: torch.Tensor = self.relu(self.conv2_bn(self.conv2(x)))\n",
    "        x: torch.Tensor = self.relu(self.conv3_bn(self.conv3(x)))\n",
    "        x: torch.Tensor = self.relu(self.conv4_bn(self.conv4(x)))\n",
    "        x: torch.Tensor = self.relu(self.conv5_bn(self.conv5(x)))\n",
    "        x = torch.flatten(x.permute(0, 2, 3, 1), 1)\n",
    "        x = self.lin1_bn(self.lin1(x))\n",
    "        return x\n",
    "\n",
    "class DrawtexDataset(Dataset):\n",
    "    classes: list[str] = ['!', '(', ')', '+', '-', '0', '1', '2', '3', '4', '5', '6', '7', '8', '9', '=', 'A', 'alpha', 'b', 'beta', 'C', 'cos', 'd', 'Delta', 'div', 'e', 'exists', 'f', 'forall', 'forward_slash', 'G', 'gamma', 'geq', 'gt', 'H', 'i', 'in', 'infty', 'int', 'j', 'k', 'l', 'lambda', 'leq', 'lim', 'log', 'lt', 'M', 'mu', 'N', 'neq', 'o', 'p', 'phi', 'pi', 'pm', 'q', 'R', 'rightarrow', 'S', 'sigma', 'sin', 'sqrt', 'sum', 'T', 'tan', 'theta', 'times', 'u', 'v', 'w', 'X', 'y', 'z', '[', ']', '{', '}']\n",
    "\n",
    "    mapping: dict[str, int] = {'!': 0, '(': 1, ')': 2, '+': 3, '-': 4, '0': 5, '1': 6, '2': 7, '3': 8, '4': 9, '5': 10, '6': 11, '7': 12, '8': 13, '9': 14, '=': 15, 'A': 16, 'alpha': 17, 'b': 18, 'beta': 19, 'C': 20, 'cos': 21, 'd': 22, 'Delta': 23, 'div': 24, 'e': 25, 'exists': 26, 'f': 27, 'forall': 28, 'forward_slash': 29, 'G': 30, 'gamma': 31, 'geq': 32, 'gt': 33, 'H': 34, 'i': 35, 'in': 36, 'infty': 37, 'int': 38, 'j': 39, 'k': 40, 'l': 41, 'lambda': 42, 'leq': 43, 'lim': 44, 'log': 45, 'lt': 46, 'M': 47, 'mu': 48, 'N': 49, 'neq': 50, 'o': 51, 'p': 52, 'phi': 53, 'pi': 54, 'pm': 55, 'q': 56, 'R': 57, 'rightarrow': 58, 'S': 59, 'sigma': 60, 'sin': 61, 'sqrt': 62, 'sum': 63, 'T': 64, 'tan': 65, 'theta': 66, 'times': 67, 'u': 68, 'v': 69, 'w': 70, 'X': 71, 'y': 72, 'z': 73, '[': 74, ']': 75, '{': 76, '}': 77}\n",
    "\n",
    "    device: str = \"cuda\" if torch.cuda.is_available() else \"cpu\"\n",
    "\n",
    "    def __init__(self, transform=None):\n",
    "        self.data: np.ndarray = np.load(\"../data/data_matrix.npy\")\n",
    "        self.labels: np.ndarray = np.load(\"../data/label_matrix.npy\")\n",
    "        self.transform = transform\n",
    "\n",
    "    def __len__(self) -> int:\n",
    "        return len(self.data)\n",
    "\n",
    "    def __getitem__(self, item: any) -> tuple[torch.Tensor, torch.Tensor]:\n",
    "        img: np.ndarray = self.data[item]\n",
    "        label = self.labels[item]\n",
    "\n",
    "        if self.transform is not None:\n",
    "            img_tensor: torch.Tensor = self.transform(img).to(self.device)\n",
    "        else:\n",
    "            img_tensor: torch.Tensor = torch.from_numpy(img).to(self.device)\n",
    "\n",
    "        label_tensor: torch.Tensor = torch.tensor(label).to(self.device)\n",
    "        return img_tensor, label_tensor\n"
   ],
   "metadata": {
    "collapsed": false
   }
  },
  {
   "cell_type": "markdown",
   "metadata": {
    "collapsed": false
   },
   "source": [
    "#### Hyperparameters"
   ]
  },
  {
   "cell_type": "code",
   "execution_count": null,
   "metadata": {
    "collapsed": false
   },
   "outputs": [],
   "source": [
    "TRAIN_BATCH_SZ = 128\n",
    "TEST_BATCH_SZ = 1000\n",
    "EPOCHS = 1\n",
    "LEARN_RATE = 0.01\n",
    "CLASS_CNT = 78\n",
    "\n",
    "device: str = \"cuda\" if torch.cuda.is_available() else \"cpu\"\n",
    "print(f\"Using {device} device\")"
   ]
  },
  {
   "cell_type": "markdown",
   "metadata": {
    "collapsed": false
   },
   "source": [
    "#### Dataloader setup"
   ]
  },
  {
   "cell_type": "code",
   "execution_count": null,
   "metadata": {
    "collapsed": false
   },
   "outputs": [],
   "source": [
    "data_set = DrawtexDataset(transforms.ToTensor())\n",
    "TRAIN_SIZE = int(0.8 * len(data_set))\n",
    "TEST_SIZE = len(data_set) - TRAIN_SIZE\n",
    "train_set, test_set = torch.utils.data.random_split(data_set, [TRAIN_SIZE, TEST_SIZE])\n",
    "\n",
    "train_loader = DataLoader(\n",
    "    dataset=train_set,\n",
    "    batch_size=TRAIN_BATCH_SZ,\n",
    "    shuffle=True,\n",
    "    num_workers=4\n",
    ")\n",
    "\n",
    "test_loader = DataLoader(\n",
    "    dataset=test_set,\n",
    "    batch_size=TEST_BATCH_SZ,\n",
    "    shuffle=False,\n",
    "    num_workers=4\n",
    ")\n",
    "\n",
    "model = DrawTexModel().to(device)\n",
    "print(model)"
   ]
  },
  {
   "cell_type": "code",
   "execution_count": null,
   "metadata": {
    "collapsed": false
   },
   "outputs": [],
   "source": [
    "tens = torch.rand((2, 1, 45, 45)).to(device)\n",
    "\n",
    "output1 = model(tens)\n",
    "\n",
    "print(output1)"
   ]
  },
  {
   "cell_type": "code",
   "execution_count": null,
   "metadata": {
    "collapsed": false
   },
   "outputs": [],
   "source": [
    "def train():\n",
    "    criterion = nn.CrossEntropyLoss()\n",
    "    optimizer = torch.optim.SGD(model.parameters(), lr=LEARN_RATE)\n",
    "    steps = len(train_loader)\n",
    "    for epoch in range(EPOCHS):\n",
    "        for i, (img, label) in enumerate(train_loader):\n",
    "            img: torch.Tensor = img.to(device, non_blocking=True)\n",
    "            label: torch.Tensor = label.to(device, non_blocking=True)\n",
    "            output = model(img).to(device)\n",
    "            loss: torch.Tensor = criterion(output, label).to(device)\n",
    "\n",
    "            optimizer.zero_grad()\n",
    "            loss.backward()\n",
    "            optimizer.step()\n",
    "\n",
    "            if i % 10 == 0:\n",
    "                print(f\"Epoch {epoch + 1}/{EPOCHS}, Batch {i + 1}/{steps}, Loss {loss.item():.4f}\")\n",
    "\n",
    "train()\n",
    "torch.save(model.state_dict(), \"./DrawTexModel.pth\")\n"
   ]
  },
  {
   "cell_type": "code",
   "execution_count": null,
   "metadata": {
    "collapsed": false
   },
   "outputs": [],
   "source": [
    "with torch.no_grad():\n",
    "    correct = 0\n",
    "    total = 0\n",
    "    for img, labels in test_loader:\n",
    "        img = img.to(device, non_blocking= True)\n",
    "        labels = labels.to(device, non_blocking= True)\n",
    "\n",
    "        output = model(img)\n",
    "        _, prediction = torch.max(output, 1)\n",
    "        total += labels.size(0)\n",
    "        correct += (prediction == labels).sum().item()\n",
    "\n",
    "    acc = 100.0 * correct / total\n",
    "    print(f\"Accuracy: {acc}%\")"
   ]
  }
 ],
 "metadata": {
  "kernelspec": {
   "display_name": "Python 3",
   "language": "python",
   "name": "python3"
  },
  "language_info": {
   "codemirror_mode": {
    "name": "ipython",
    "version": 3
   },
   "file_extension": ".py",
   "mimetype": "text/x-python",
   "name": "python",
   "nbconvert_exporter": "python",
   "pygments_lexer": "ipython3",
   "version": "3.9.0"
  },
  "vscode": {
   "interpreter": {
    "hash": "cc82db2dc128658da88fa564359fe123ee9c6914f8c7963941acb47815200485"
   }
  }
 },
 "nbformat": 4,
 "nbformat_minor": 0
}
