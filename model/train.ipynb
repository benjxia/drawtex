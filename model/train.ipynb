{
 "cells": [
  {
   "cell_type": "code",
   "execution_count": 1,
   "metadata": {
    "collapsed": false
   },
   "outputs": [],
   "source": [
    "import numpy as np\n",
    "import cv2\n",
    "import matplotlib.pyplot as plt\n",
    "import torch\n",
    "from torch import nn\n",
    "from torch.utils.data import Dataset, DataLoader\n",
    "import torchvision.transforms as transforms\n",
    "from DrawtexModel import DrawTexModel\n",
    "from DrawtexDataset import DrawtexDataset"
   ]
  },
  {
   "cell_type": "markdown",
   "metadata": {
    "collapsed": false
   },
   "source": [
    "#### Hyperparameters"
   ]
  },
  {
   "cell_type": "code",
   "execution_count": 2,
   "metadata": {
    "collapsed": false
   },
   "outputs": [
    {
     "name": "stdout",
     "output_type": "stream",
     "text": [
      "Using cpu device\n"
     ]
    }
   ],
   "source": [
    "TRAIN_BATCH_SZ = 128\n",
    "TEST_BATCH_SZ = 1000\n",
    "EPOCHS = 10\n",
    "LEARN_RATE = 0.01\n",
    "CLASS_CNT = 82\n",
    "\n",
    "device: str = \"cuda\" if torch.cuda.is_available() else \"cpu\"\n",
    "print(f\"Using {device} device\")"
   ]
  },
  {
   "cell_type": "markdown",
   "metadata": {
    "collapsed": false
   },
   "source": [
    "#### Dataloader setup"
   ]
  },
  {
   "cell_type": "code",
   "execution_count": 3,
   "metadata": {
    "collapsed": false
   },
   "outputs": [
    {
     "name": "stdout",
     "output_type": "stream",
     "text": [
      "DrawTexModel(\n",
      "  (relu): ReLU()\n",
      "  (conv1): Conv2d(1, 200, kernel_size=(9, 9), stride=(1, 1), bias=False)\n",
      "  (conv1_bn): BatchNorm2d(200, eps=1e-05, momentum=0.1, affine=True, track_running_stats=True)\n",
      "  (conv2): Conv2d(200, 400, kernel_size=(9, 9), stride=(1, 1), bias=False)\n",
      "  (conv2_bn): BatchNorm2d(400, eps=1e-05, momentum=0.1, affine=True, track_running_stats=True)\n",
      "  (conv3): Conv2d(400, 800, kernel_size=(9, 9), stride=(1, 1), bias=False)\n",
      "  (conv3_bn): BatchNorm2d(800, eps=1e-05, momentum=0.1, affine=True, track_running_stats=True)\n",
      "  (conv4): Conv2d(800, 1200, kernel_size=(9, 9), stride=(1, 1), bias=False)\n",
      "  (conv4_bn): BatchNorm2d(1200, eps=1e-05, momentum=0.1, affine=True, track_running_stats=True)\n",
      "  (conv5): Conv2d(1200, 1800, kernel_size=(9, 9), stride=(1, 1), bias=False)\n",
      "  (conv5_bn): BatchNorm2d(1800, eps=1e-05, momentum=0.1, affine=True, track_running_stats=True)\n",
      "  (lin1): Linear(in_features=45000, out_features=82, bias=False)\n",
      ")\n"
     ]
    }
   ],
   "source": [
    "data_set = DrawtexDataset(transforms.ToTensor())\n",
    "TRAIN_SIZE = int(0.8 * len(data_set))\n",
    "TEST_SIZE = len(data_set) - TRAIN_SIZE\n",
    "train_set, test_set = torch.utils.data.random_split(data_set, [TRAIN_SIZE, TEST_SIZE])\n",
    "\n",
    "train_loader = DataLoader(\n",
    "    dataset=train_set,\n",
    "    batch_size=TRAIN_BATCH_SZ,\n",
    "    shuffle=True,\n",
    "    num_workers=4\n",
    ")\n",
    "\n",
    "test_loader = DataLoader(\n",
    "    dataset=test_set,\n",
    "    batch_size=TEST_BATCH_SZ,\n",
    "    shuffle=False,\n",
    "    num_workers=4\n",
    ")\n",
    "\n",
    "model = DrawTexModel().to(device)\n",
    "print(model)"
   ]
  },
  {
   "cell_type": "code",
   "execution_count": 6,
   "outputs": [
    {
     "name": "stdout",
     "output_type": "stream",
     "text": [
      "tensor([[ 0.2889, -0.2709, -0.2910,  0.9286, -0.4560,  0.1626,  0.1412,  0.0711,\n",
      "         -0.8352, -0.3151,  0.1168,  0.6586, -0.2296, -0.0791,  0.1228, -0.4435,\n",
      "          0.1972,  0.8277, -0.3313, -0.1240,  0.0929,  0.4867, -0.1740,  0.3238,\n",
      "         -0.1622, -0.4580, -0.5672, -0.3615,  0.4676, -0.5255, -0.1395, -0.7301,\n",
      "         -0.3844, -0.0973,  0.0235, -0.1049,  0.3879,  0.2073,  0.4850,  0.1556,\n",
      "         -0.2388,  0.1398,  0.2015, -0.5098,  0.3370, -0.0948,  0.3297, -0.1409,\n",
      "          0.4271,  0.2152, -1.0547,  0.2057, -0.4789,  0.2114,  0.3562,  0.2599,\n",
      "         -0.5566, -0.0972,  0.0118, -0.5643,  0.3202, -0.1525,  0.6448,  0.4264,\n",
      "         -0.4849,  0.3997,  0.1793,  0.2557, -0.5028,  0.1553, -0.7345,  0.0840,\n",
      "          0.9502,  0.5828,  0.2535,  0.1938, -0.0554, -0.4812,  0.0178, -0.0536,\n",
      "         -0.1998, -1.0176],\n",
      "        [ 0.2405, -0.0318, -0.1697,  0.4312, -0.3319, -0.4451,  0.5346, -0.0202,\n",
      "          0.3594, -0.2812, -0.0122, -0.4484,  0.0601,  0.0066,  0.1746,  0.0194,\n",
      "          0.1240, -0.4139, -0.7837, -0.8050,  0.1993,  0.5012, -0.6262,  0.1020,\n",
      "          0.4061,  0.3908, -0.1254,  0.3346,  0.0109, -0.9518,  0.8475, -0.4341,\n",
      "         -0.2190, -0.1788, -0.0614, -0.3537,  0.3019,  0.0455, -0.2701,  0.4617,\n",
      "          0.3568,  0.0759, -0.3524, -0.2307, -0.2443, -0.6360,  0.2464, -0.2053,\n",
      "         -0.2779,  0.3785, -0.3376,  0.7539,  0.2997,  0.4867,  0.1044, -0.7922,\n",
      "          0.0256,  0.0388, -0.3082,  0.2230, -0.0276,  0.2174,  0.2735, -0.0734,\n",
      "         -0.1120,  0.0571,  0.6361,  0.6939, -0.2888,  0.5067, -0.8452,  0.8102,\n",
      "          0.8208,  0.8360,  0.1666, -0.3686, -0.4363,  0.7101,  0.0193, -0.1257,\n",
      "         -0.4816, -0.6904]], grad_fn=<MmBackward0>)\n"
     ]
    }
   ],
   "source": [
    "tens = torch.rand((2, 1, 45, 45))\n",
    "\n",
    "output1 = model(tens)\n",
    "\n",
    "print(output1)"
   ],
   "metadata": {
    "collapsed": false
   }
  },
  {
   "cell_type": "code",
   "execution_count": null,
   "metadata": {
    "collapsed": false,
    "pycharm": {
     "is_executing": true
    }
   },
   "outputs": [],
   "source": [
    "def train():\n",
    "    criterion = nn.CrossEntropyLoss()\n",
    "    optimizer = torch.optim.SGD(model.parameters(), lr=LEARN_RATE)\n",
    "    steps = len(train_loader)\n",
    "    for epoch in range(EPOCHS):\n",
    "        for i, (img, label) in enumerate(train_loader):\n",
    "            img: torch.Tensor = img.to(device, non_blocking=True)\n",
    "            label: torch.Tensor = label.to(device, non_blocking=True)\n",
    "            output = model(img).to(device)\n",
    "            loss: torch.Tensor = criterion(output, label).to(device)\n",
    "\n",
    "            optimizer.zero_grad()\n",
    "            loss.backward()\n",
    "            optimizer.step()\n",
    "\n",
    "            if (i + 1) % TRAIN_BATCH_SZ == 0:\n",
    "                print(f\"Epoch {epoch + 1}/{EPOCHS}, Batch {i + 1}/{steps}, Loss {loss.item():.4f}\")\n",
    "\n",
    "train()\n",
    "torch.save(model.state_dict(), \"./DrawTexModel.pth\")\n"
   ]
  },
  {
   "cell_type": "code",
   "execution_count": null,
   "metadata": {
    "collapsed": false
   },
   "outputs": [],
   "source": [
    "with torch.no_grad():\n",
    "    correct = 0\n",
    "    total = 0\n",
    "    for img, labels in test_loader:\n",
    "        img = img.to(device, non_blocking= True)\n",
    "        labels = labels.to(device, non_blocking= True)\n",
    "\n",
    "        output = model(img)\n",
    "        _, prediction = torch.max(output, 1)\n",
    "        total += labels.size(0)\n",
    "        correct += (prediction == labels).sum().item()\n",
    "\n",
    "    acc = 100.0 * correct / total\n",
    "    print(f\"Accuracy: {acc}%\")"
   ]
  }
 ],
 "metadata": {
  "kernelspec": {
   "display_name": "Python 3",
   "language": "python",
   "name": "python3"
  },
  "language_info": {
   "codemirror_mode": {
    "name": "ipython",
    "version": 3
   },
   "file_extension": ".py",
   "mimetype": "text/x-python",
   "name": "python",
   "nbconvert_exporter": "python",
   "pygments_lexer": "ipython3",
   "version": "3.9.0"
  },
  "vscode": {
   "interpreter": {
    "hash": "cc82db2dc128658da88fa564359fe123ee9c6914f8c7963941acb47815200485"
   }
  }
 },
 "nbformat": 4,
 "nbformat_minor": 0
}
