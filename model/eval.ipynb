{
 "cells": [
  {
   "cell_type": "code",
   "execution_count": 25,
   "metadata": {
    "collapsed": true
   },
   "outputs": [],
   "source": [
    "import torch\n",
    "from torch.utils.data import Dataset, DataLoader\n",
    "import cv2\n",
    "import numpy as np\n",
    "import matplotlib.pyplot as plt\n",
    "import torchvision.transforms as transforms\n",
    "from DrawtexDataset import DrawtexDataset\n",
    "from DrawtexModel import DrawtexModel\n",
    "from skimage import morphology"
   ]
  },
  {
   "cell_type": "code",
   "execution_count": 29,
   "metadata": {},
   "outputs": [],
   "source": [
    "model = DrawtexModel()\n",
    "model.load_state_dict(torch.load(\"DrawtexModel2.pth\", map_location=torch.device(\"cpu\")))\n",
    "model.eval()\n",
    "\n",
    "ds: DrawtexDataset = DrawtexDataset(transforms.ToTensor())\n",
    "\n",
    "dl = DataLoader(\n",
    "    dataset=ds,\n",
    "    batch_size=1,\n",
    "    shuffle=True,\n",
    "    num_workers=1\n",
    ")\n"
   ]
  },
  {
   "cell_type": "code",
   "execution_count": 191,
   "metadata": {},
   "outputs": [
    {
     "name": "stdout",
     "output_type": "stream",
     "text": [
      "\\succ\n"
     ]
    },
    {
     "data": {
      "text/plain": "<Figure size 432x288 with 1 Axes>",
      "image/png": "[encoded data removed]"
     },
     "metadata": {
      "needs_background": "light"
     },
     "output_type": "display_data"
    }
   ],
   "source": [
    "iter = enumerate(dl)\n",
    "idx, (img, label) = next(iter)\n",
    "\n",
    "classes = ['\\\\Leftarrow', '\\\\theta', '\\\\mathcal{M}', '\\\\mathcal{L}', '\\\\chi', '\\\\heartsuit', '\\\\propto',\n",
    "           '\\\\diameter', '\\\\L', '\\\\dashv', '\\\\dag', 'B', '\\\\Vdash', '\\\\barwedge', '\\\\hbar', '\\\\ell', '\\\\o', '\\\\div',\n",
    "           '\\\\prec', '\\\\succeq', 'D', '\\\\iota', '\\\\AA', '\\\\odot', '\\\\varpi', '+', '\\\\mathds{Q}', '\\\\varsubsetneq',\n",
    "           '\\\\mathcal{O}', '\\\\lambda', '\\\\circlearrowright', '4', '\\\\sum', '\\\\ohm', '\\\\mathds{C}', '3', 'N',\n",
    "           '\\\\Leftrightarrow', '\\\\lceil', '\\\\diamondsuit', '\\\\alpha', '\\\\Phi', '\\\\mathds{P}', '\\\\aleph', '\\\\mu',\n",
    "           '\\\\geq', '\\\\nmid', '\\\\geqslant', '\\\\vdots', '\\\\epsilon', '\\\\flat', '\\\\mathcal{S}', '\\\\downarrow', '\\\\ae',\n",
    "           '\\\\simeq', '\\\\rangle', '\\\\nRightarrow', '\\\\bot', '\\\\#', '\\\\backsim', '\\\\rightrightarrows', '\\\\aa',\n",
    "           '\\\\astrosun', '5', '\\\\ss', 'A', '\\\\rightsquigarrow', '\\\\bowtie', 'E', 'T', '\\\\{', '<', '\\\\exists',\n",
    "           '\\\\mathcal{D}', '\\\\parr', '\\\\pitchfork', '\\\\rightleftharpoons', '\\\\AE', '\\\\gamma', '\\\\mathcal{T}',\n",
    "           '\\\\wp', '\\\\sphericalangle', '\\\\because', '\\\\ominus', 'X', '\\\\llbracket', '\\\\Re', '\\\\Omega', '\\\\models',\n",
    "           '\\\\Longleftrightarrow', '\\\\int', 'R', '\\\\mathfrak{M}', '\\\\mathbb{H}', '\\\\neq', '\\\\circledast',\n",
    "           '\\\\varphi', '\\\\mathscr{P}', 'S', '\\\\pi', '\\\\S', '\\\\triangleq', '\\\\preceq', '\\\\mathscr{F}',\n",
    "           '\\\\mathscr{C}', '\\\\triangleright', '\\\\varkappa', 'V', '\\\\mathcal{B}', '\\\\circlearrowleft', '\\\\Delta',\n",
    "           '\\\\mathscr{D}', 'H', '\\\\nvDash', '\\\\nu', '\\\\rfloor', '\\\\cdot', '\\\\mathcal{C}', '\\\\coprod',\n",
    "           '\\\\mathcal{H}', '\\\\vdash', '\\\\uparrow', '\\\\leftrightarrow', '\\\\gtrsim', 'C', '\\\\Sigma', '\\\\backslash',\n",
    "           '\\\\pounds', '\\\\mathbb{1}', '\\\\bullet', '\\\\Lambda', '\\\\pm', '\\\\lightning', '\\\\nexists', '\\\\cong',\n",
    "           '\\\\mathcal{P}', '\\\\male', '\\\\vDash', '\\\\boxtimes', '\\\\mathscr{E}', '\\\\mathcal{N}', '\\\\leftmoon',\n",
    "           '\\\\rrbracket', '\\\\between', '\\\\Rightarrow', 'Z', '\\\\ddots', '\\\\lhd', '\\\\subset', '\\\\subseteq',\n",
    "           '\\\\rightarrow', '\\\\sun', '\\\\infty', '\\\\mathscr{A}', '\\\\celsius', '\\\\omega', '\\\\nsubseteq', '\\\\mathds{1}',\n",
    "           'P', '\\\\nabla', '\\\\tau', '1', '\\\\uplus', '\\\\otimes', '\\\\cup', 'G', '\\\\oplus', '\\\\%', '\\\\Psi',\n",
    "           '\\\\blacktriangleright', 'W', '\\\\mathcal{U}', '\\\\mathscr{L}', '\\\\psi', '\\\\top', '\\\\oint',\n",
    "           '\\\\rightharpoonup', '\\\\|', '\\\\subsetneq', '\\\\beta', '\\\\varrho', '\\\\mars', '\\\\fint', '6', '\\\\}', '\\\\in',\n",
    "           '\\\\boxplus', '\\\\ast', '\\\\mathcal{G}', '\\\\$', '\\\\preccurlyeq', '\\\\varoiint', '\\\\iddots', '-', '\\\\vee',\n",
    "           '\\\\rightleftarrows', '\\\\square', '\\\\mathfrak{X}', '\\\\mp', '\\\\twoheadrightarrow', '\\\\equiv', '\\\\searrow',\n",
    "           '\\\\sqcap', '\\\\fullmoon', '\\\\supset', '\\\\prod', '\\\\not\\\\equiv', 'F', '\\\\Gamma', '\\\\sqsubseteq',\n",
    "           '\\\\langle', '\\\\supseteq', '\\\\sim', '\\\\clubsuit', '\\\\mapsto', '8', '\\\\multimap', '\\\\circledcirc',\n",
    "           '\\\\mathcal{F}', '\\\\mathfrak{S}', '\\\\mathds{Z}', '\\\\leadsto', '\\\\amalg', '\\\\zeta', '\\\\cap', '\\\\mathds{R}',\n",
    "           'Q', '[', '\\\\mathds{N}', 'J', '\\\\therefore', '\\\\mathscr{S}', '0', '\\\\varepsilon', '\\\\hookrightarrow',\n",
    "           '\\\\mathcal{R}', '\\\\ltimes', '\\\\diamond', '\\\\triangleleft', ']', '\\\\checkmark', '\\\\dots', '\\\\rho',\n",
    "           '\\\\circledR', '\\\\times', '\\\\mathcal{E}', '\\\\leftarrow', '\\\\upharpoonright', '\\\\trianglelefteq',\n",
    "           '\\\\nearrow', '\\\\mathcal{A}', '\\\\wr', '\\\\prime', '\\\\sqcup', '\\\\succ', '\\\\parallel', '\\\\leqslant',\n",
    "           '\\\\Bowtie', '\\\\partial', '\\\\rceil', 'O', '\\\\forall', '\\\\emptyset', '\\\\circ', '\\\\venus', '\\\\sharp',\n",
    "           '\\\\angle', 'Y', '\\\\boxdot', '2', 'L', '\\\\neg', '\\\\oiint', '\\\\sigma', '\\\\Pi', '\\\\mathds{E}', '\\\\female',\n",
    "           '\\\\leq', '\\\\approx', '\\\\lfloor', '\\\\degree', '\\\\sqrt{}', 'I', '\\\\notin', '\\\\kappa', '\\\\ni',\n",
    "           '\\\\guillemotleft', '\\\\blacksquare', '\\\\gtrless', '>', '\\\\delta', '\\\\Theta', '\\\\doteq', '\\\\nrightarrow',\n",
    "           '\\\\wedge', '/', '|', '7', '\\\\frown', 'U', '\\\\phi', '\\\\lesssim', '\\\\varnothing', '\\\\Im', '\\\\copyright',\n",
    "           'M', '\\\\xi', '\\\\star', '\\\\mathfrak{A}', '\\\\curvearrowright', '\\\\mathcal{X}', '\\\\&', '\\\\vartheta',\n",
    "           '\\\\perp', '\\\\mathcal{Z}', '\\\\eta', '\\\\mapsfrom', '\\\\asymp', '\\\\rtimes', '\\\\O', '\\\\lozenge',\n",
    "           '\\\\Downarrow', '\\\\mathscr{H}', '\\\\Xi', 'K', '9']\n",
    "\n",
    "out: torch.Tensor = model(img)\n",
    "plt.imshow(img[0][0], cmap=\"gray\")\n",
    "_, pred = torch.max(out, 1)\n",
    "\n",
    "print(classes[pred])\n"
   ]
  },
  {
   "cell_type": "code",
   "execution_count": 192,
   "metadata": {},
   "outputs": [
    {
     "name": "stdout",
     "output_type": "stream",
     "text": [
      "H\n"
     ]
    },
    {
     "data": {
      "text/plain": "<matplotlib.image.AxesImage at 0x16b2ef8c6a0>"
     },
     "execution_count": 192,
     "metadata": {},
     "output_type": "execute_result"
    },
    {
     "data": {
      "text/plain": "<Figure size 432x288 with 1 Axes>",
      "image/png": "[encoded data removed]"
     },
     "metadata": {
      "needs_background": "light"
     },
     "output_type": "display_data"
    }
   ],
   "source": [
    "img = cv2.imread(\"./test2.jpg\")\n",
    "img = cv2.cvtColor(img, cv2.COLOR_BGR2GRAY)\n",
    "img = cv2.threshold(img, 128, 1, cv2.THRESH_BINARY)[1]\n",
    "img = cv2.resize(img, (45, 45))\n",
    "# Convert image shape to have 1 channel (standard image format)\n",
    "img = img.reshape(45, 45, 1)\n",
    "img ^= 1\n",
    "img = morphology.skeletonize(img)\n",
    "img ^= 1\n",
    "ts = transforms.ToTensor()\n",
    "img: torch.Tensor = ts(img)\n",
    "img = img.unsqueeze(0)\n",
    "\n",
    "out = model(img)\n",
    "_, pred = torch.max(out, 1)\n",
    "\n",
    "print(classes[pred])\n",
    "plt.imshow(img[0][0], cmap=\"gray\")"
   ]
  }
 ],
 "metadata": {
  "kernelspec": {
   "display_name": "Python 3 (ipykernel)",
   "language": "python",
   "name": "python3"
  },
  "language_info": {
   "codemirror_mode": {
    "name": "ipython",
    "version": 3
   },
   "file_extension": ".py",
   "mimetype": "text/x-python",
   "name": "python",
   "nbconvert_exporter": "python",
   "pygments_lexer": "ipython3",
   "version": "3.9.7"
  }
 },
 "nbformat": 4,
 "nbformat_minor": 1
}
