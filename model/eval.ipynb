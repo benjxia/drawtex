{
 "cells": [
  {
   "cell_type": "code",
   "execution_count": 3,
   "metadata": {
    "collapsed": true
   },
   "outputs": [],
   "source": [
    "import torch\n",
    "from torch.utils.data import Dataset, DataLoader\n",
    "import cv2\n",
    "import numpy as np\n",
    "import matplotlib.pyplot as plt\n",
    "import torchvision.transforms as transforms\n",
    "from DrawtexDataset import DrawtexDataset\n",
    "from DrawtexModel import DrawtexModel\n",
    "from skimage import morphology"
   ]
  },
  {
   "cell_type": "code",
   "execution_count": 9,
   "metadata": {},
   "outputs": [],
   "source": [
    "model: DrawtexModel = DrawtexModel()\n",
    "model.load_state_dict(torch.load(\"DrawtexModel2.pth\"))\n",
    "\n",
    "model.eval()\n",
    "\n",
    "ds: DrawtexDataset = DrawtexDataset(transforms.ToTensor())\n",
    "\n",
    "dl = DataLoader(\n",
    "    dataset=ds,\n",
    "    batch_size=1,\n",
    "    shuffle=True,\n",
    "    num_workers=1\n",
    ")\n"
   ]
  },
  {
   "cell_type": "code",
   "execution_count": 11,
   "metadata": {},
   "outputs": [
    {
     "name": "stdout",
     "output_type": "stream",
     "text": [
      "\\geq\n"
     ]
    },
    {
     "data": {
      "image/png": "[encoded data removed]",
      "text/plain": [
       "<Figure size 640x480 with 1 Axes>"
      ]
     },
     "metadata": {},
     "output_type": "display_data"
    }
   ],
   "source": [
    "iter = enumerate(dl)\n",
    "idx, (img, label) = next(iter)\n",
    "\n",
    "classes = ['\\\\Leftarrow', '\\\\theta', '\\\\mathcal{M}', '\\\\mathcal{L}', '\\\\chi', '\\\\heartsuit', '\\\\propto',\n",
    "            '\\\\diameter', '\\\\L', '\\\\dashv', '\\\\dag', 'B', '\\\\Vdash', '\\\\barwedge', '\\\\hbar', '\\\\ell', '\\\\o', '\\\\div',\n",
    "            '\\\\prec', '\\\\succeq', 'D', '\\\\iota', '\\\\AA', '\\\\odot', '\\\\varpi', '+', '\\\\mathds{Q}', '\\\\varsubsetneq',\n",
    "            '\\\\mathcal{O}', '\\\\lambda', '\\\\circlearrowright', '4', '\\\\sum', '\\\\ohm', '\\\\mathds{C}', '3', 'N',\n",
    "            '\\\\Leftrightarrow', '\\\\lceil', '\\\\diamondsuit', '\\\\alpha', '\\\\Phi', '\\\\mathds{P}', '\\\\aleph', '\\\\mu',\n",
    "            '\\\\geq', '\\\\nmid', '\\\\geqslant', '\\\\vdots', '\\\\epsilon', '\\\\flat', '\\\\mathcal{S}', '\\\\downarrow', '\\\\ae',\n",
    "            '\\\\simeq', '\\\\rangle', '\\\\nRightarrow', '\\\\bot', '\\\\#', '\\\\backsim', '\\\\rightrightarrows', '\\\\aa',\n",
    "            '\\\\astrosun', '5', '\\\\ss', 'A', '\\\\rightsquigarrow', '\\\\bowtie', 'E', 'T', '\\\\{', '<', '\\\\exists',\n",
    "            '\\\\mathcal{D}', '\\\\parr', '\\\\pitchfork', '\\\\rightleftharpoons', '\\\\AE', '\\\\gamma', '\\\\mathcal{T}',\n",
    "            '\\\\wp', '\\\\sphericalangle', '\\\\because', '\\\\ominus', 'X', '\\\\llbracket', '\\\\Re', '\\\\Omega', '\\\\models',\n",
    "            '\\\\Longleftrightarrow', '\\\\int', 'R', '\\\\mathfrak{M}', '\\\\mathbb{H}', '\\\\neq', '\\\\circledast',\n",
    "            '\\\\varphi', '\\\\mathscr{P}', 'S', '\\\\pi', '\\\\S', '\\\\triangleq', '\\\\preceq', '\\\\mathscr{F}',\n",
    "            '\\\\mathscr{C}', '\\\\triangleright', '\\\\varkappa', 'V', '\\\\mathcal{B}', '\\\\circlearrowleft', '\\\\Delta',\n",
    "            '\\\\mathscr{D}', 'H', '\\\\nvDash', '\\\\nu', '\\\\rfloor', '\\\\cdot', '\\\\mathcal{C}', '\\\\coprod',\n",
    "            '\\\\mathcal{H}', '\\\\vdash', '\\\\uparrow', '\\\\leftrightarrow', '\\\\gtrsim', 'C', '\\\\Sigma', '\\\\backslash',\n",
    "            '\\\\pounds', '\\\\mathbb{1}', '\\\\bullet', '\\\\Lambda', '\\\\pm', '\\\\lightning', '\\\\nexists', '\\\\cong',\n",
    "            '\\\\mathcal{P}', '\\\\male', '\\\\vDash', '\\\\boxtimes', '\\\\mathscr{E}', '\\\\mathcal{N}', '\\\\leftmoon',\n",
    "            '\\\\rrbracket', '\\\\between', '\\\\Rightarrow', 'Z', '\\\\ddots', '\\\\lhd', '\\\\subset', '\\\\subseteq',\n",
    "            '\\\\rightarrow', '\\\\sun', '\\\\infty', '\\\\mathscr{A}', '\\\\celsius', '\\\\omega', '\\\\nsubseteq', '\\\\mathds{1}',\n",
    "            'P', '\\\\nabla', '\\\\tau', '1', '\\\\uplus', '\\\\otimes', '\\\\cup', 'G', '\\\\oplus', '\\\\%', '\\\\Psi',\n",
    "            '\\\\blacktriangleright', 'W', '\\\\mathcal{U}', '\\\\mathscr{L}', '\\\\psi', '\\\\top', '\\\\oint',\n",
    "            '\\\\rightharpoonup', '\\\\|', '\\\\subsetneq', '\\\\beta', '\\\\varrho', '\\\\mars', '\\\\fint', '6', '\\\\}', '\\\\in',\n",
    "            '\\\\boxplus', '\\\\ast', '\\\\mathcal{G}', '\\\\$', '\\\\preccurlyeq', '\\\\varoiint', '\\\\iddots', '-', '\\\\vee',\n",
    "            '\\\\rightleftarrows', '\\\\square', '\\\\mathfrak{X}', '\\\\mp', '\\\\twoheadrightarrow', '\\\\equiv', '\\\\searrow',\n",
    "            '\\\\sqcap', '\\\\fullmoon', '\\\\supset', '\\\\prod', '\\\\not\\\\equiv', 'F', '\\\\Gamma', '\\\\sqsubseteq',\n",
    "            '\\\\langle', '\\\\supseteq', '\\\\sim', '\\\\clubsuit', '\\\\mapsto', '8', '\\\\multimap', '\\\\circledcirc',\n",
    "            '\\\\mathcal{F}', '\\\\mathfrak{S}', '\\\\mathds{Z}', '\\\\leadsto', '\\\\amalg', '\\\\zeta', '\\\\cap', '\\\\mathds{R}',\n",
    "            'Q', '[', '\\\\mathds{N}', 'J', '\\\\therefore', '\\\\mathscr{S}', '0', '\\\\varepsilon', '\\\\hookrightarrow',\n",
    "            '\\\\mathcal{R}', '\\\\ltimes', '\\\\diamond', '\\\\triangleleft', ']', '\\\\checkmark', '\\\\dots', '\\\\rho',\n",
    "            '\\\\circledR', '\\\\times', '\\\\mathcal{E}', '\\\\leftarrow', '\\\\upharpoonright', '\\\\trianglelefteq',\n",
    "            '\\\\nearrow', '\\\\mathcal{A}', '\\\\wr', '\\\\prime', '\\\\sqcup', '\\\\succ', '\\\\parallel', '\\\\leqslant',\n",
    "            '\\\\Bowtie', '\\\\partial', '\\\\rceil', 'O', '\\\\forall', '\\\\emptyset', '\\\\circ', '\\\\venus', '\\\\sharp',\n",
    "            '\\\\angle', 'Y', '\\\\boxdot', '2', 'L', '\\\\neg', '\\\\oiint', '\\\\sigma', '\\\\Pi', '\\\\mathds{E}', '\\\\female',\n",
    "            '\\\\leq', '\\\\approx', '\\\\lfloor', '\\\\degree', '\\\\sqrt{}', 'I', '\\\\notin', '\\\\kappa', '\\\\ni',\n",
    "            '\\\\guillemotleft', '\\\\blacksquare', '\\\\gtrless', '>', '\\\\delta', '\\\\Theta', '\\\\doteq', '\\\\nrightarrow',\n",
    "            '\\\\wedge', '/', '|', '7', '\\\\frown', 'U', '\\\\phi', '\\\\lesssim', '\\\\varnothing', '\\\\Im', '\\\\copyright',\n",
    "            'M', '\\\\xi', '\\\\star', '\\\\mathfrak{A}', '\\\\curvearrowright', '\\\\mathcal{X}', '\\\\&', '\\\\vartheta',\n",
    "            '\\\\perp', '\\\\mathcal{Z}', '\\\\eta', '\\\\mapsfrom', '\\\\asymp', '\\\\rtimes', '\\\\O', '\\\\lozenge',\n",
    "            '\\\\Downarrow', '\\\\mathscr{H}', '\\\\Xi', 'K', '9']\n",
    "\n",
    "lab_map = {'\\\\Leftarrow': 0, '\\\\theta': 1, '\\\\mathcal{M}': 2, '\\\\mathcal{L}': 3, '\\\\chi': 4, '\\\\heartsuit': 5,\n",
    "            '\\\\propto': 6, '\\\\diameter': 7, '\\\\L': 8, '\\\\dashv': 9, '\\\\dag': 10, 'B': 11, '\\\\Vdash': 12,\n",
    "            '\\\\barwedge': 13, '\\\\hbar': 14, '\\\\ell': 15, '\\\\o': 16, '\\\\div': 17, '\\\\prec': 18, '\\\\succeq': 19,\n",
    "            'D': 20, '\\\\iota': 21, '\\\\AA': 22, '\\\\odot': 23, '\\\\varpi': 24, '+': 25, '\\\\mathds{Q}': 26,\n",
    "            '\\\\varsubsetneq': 27, '\\\\mathcal{O}': 28, '\\\\lambda': 29, '\\\\circlearrowright': 30, '4': 31, '\\\\sum': 32,\n",
    "            '\\\\ohm': 33, '\\\\mathds{C}': 34, '3': 35, 'N': 36, '\\\\Leftrightarrow': 37, '\\\\lceil': 38,\n",
    "            '\\\\diamondsuit': 39, '\\\\alpha': 40, '\\\\Phi': 41, '\\\\mathds{P}': 42, '\\\\aleph': 43, '\\\\mu': 44,\n",
    "            '\\\\geq': 45, '\\\\nmid': 46, '\\\\geqslant': 47, '\\\\vdots': 48, '\\\\epsilon': 49, '\\\\flat': 50,\n",
    "            '\\\\mathcal{S}': 51, '\\\\downarrow': 52, '\\\\ae': 53, '\\\\simeq': 54, '\\\\rangle': 55, '\\\\nRightarrow': 56,\n",
    "            '\\\\bot': 57, '\\\\#': 58, '\\\\backsim': 59, '\\\\rightrightarrows': 60, '\\\\aa': 61, '\\\\astrosun': 62, '5': 63,\n",
    "            '\\\\ss': 64, 'A': 65, '\\\\rightsquigarrow': 66, '\\\\bowtie': 67, 'E': 68, 'T': 69, '\\\\{': 70, '<': 71,\n",
    "            '\\\\exists': 72, '\\\\mathcal{D}': 73, '\\\\parr': 74, '\\\\pitchfork': 75, '\\\\rightleftharpoons': 76,\n",
    "            '\\\\AE': 77, '\\\\gamma': 78, '\\\\mathcal{T}': 79, '\\\\wp': 80, '\\\\sphericalangle': 81, '\\\\because': 82,\n",
    "            '\\\\ominus': 83, 'X': 84, '\\\\llbracket': 85, '\\\\Re': 86, '\\\\Omega': 87, '\\\\models': 88,\n",
    "            '\\\\Longleftrightarrow': 89, '\\\\int': 90, 'R': 91, '\\\\mathfrak{M}': 92, '\\\\mathbb{H}': 93, '\\\\neq': 94,\n",
    "            '\\\\circledast': 95, '\\\\varphi': 96, '\\\\mathscr{P}': 97, 'S': 98, '\\\\pi': 99, '\\\\S': 100,\n",
    "            '\\\\triangleq': 101, '\\\\preceq': 102, '\\\\mathscr{F}': 103, '\\\\mathscr{C}': 104, '\\\\triangleright': 105,\n",
    "            '\\\\varkappa': 106, 'V': 107, '\\\\mathcal{B}': 108, '\\\\circlearrowleft': 109, '\\\\Delta': 110,\n",
    "            '\\\\mathscr{D}': 111, 'H': 112, '\\\\nvDash': 113, '\\\\nu': 114, '\\\\rfloor': 115, '\\\\cdot': 116,\n",
    "            '\\\\mathcal{C}': 117, '\\\\coprod': 118, '\\\\mathcal{H}': 119, '\\\\vdash': 120, '\\\\uparrow': 121,\n",
    "            '\\\\leftrightarrow': 122, '\\\\gtrsim': 123, 'C': 124, '\\\\Sigma': 125, '\\\\backslash': 126, '\\\\pounds': 127,\n",
    "            '\\\\mathbb{1}': 128, '\\\\bullet': 129, '\\\\Lambda': 130, '\\\\pm': 131, '\\\\lightning': 132, '\\\\nexists': 133,\n",
    "            '\\\\cong': 134, '\\\\mathcal{P}': 135, '\\\\male': 136, '\\\\vDash': 137, '\\\\boxtimes': 138,\n",
    "            '\\\\mathscr{E}': 139, '\\\\mathcal{N}': 140, '\\\\leftmoon': 141, '\\\\rrbracket': 142, '\\\\between': 143,\n",
    "            '\\\\Rightarrow': 144, 'Z': 145, '\\\\ddots': 146, '\\\\lhd': 147, '\\\\subset': 148, '\\\\subseteq': 149,\n",
    "            '\\\\rightarrow': 150, '\\\\sun': 151, '\\\\infty': 152, '\\\\mathscr{A}': 153, '\\\\celsius': 154, '\\\\omega': 155,\n",
    "            '\\\\nsubseteq': 156, '\\\\mathds{1}': 157, 'P': 158, '\\\\nabla': 159, '\\\\tau': 160, '1': 161, '\\\\uplus': 162,\n",
    "            '\\\\otimes': 163, '\\\\cup': 164, 'G': 165, '\\\\oplus': 166, '\\\\%': 167, '\\\\Psi': 168,\n",
    "            '\\\\blacktriangleright': 169, 'W': 170, '\\\\mathcal{U}': 171, '\\\\mathscr{L}': 172, '\\\\psi': 173,\n",
    "            '\\\\top': 174, '\\\\oint': 175, '\\\\rightharpoonup': 176, '\\\\|': 177, '\\\\subsetneq': 178, '\\\\beta': 179,\n",
    "            '\\\\varrho': 180, '\\\\mars': 181, '\\\\fint': 182, '6': 183, '\\\\}': 184, '\\\\in': 185, '\\\\boxplus': 186,\n",
    "            '\\\\ast': 187, '\\\\mathcal{G}': 188, '\\\\$': 189, '\\\\preccurlyeq': 190, '\\\\varoiint': 191, '\\\\iddots': 192,\n",
    "            '-': 193, '\\\\vee': 194, '\\\\rightleftarrows': 195, '\\\\square': 196, '\\\\mathfrak{X}': 197, '\\\\mp': 198,\n",
    "            '\\\\twoheadrightarrow': 199, '\\\\equiv': 200, '\\\\searrow': 201, '\\\\sqcap': 202, '\\\\fullmoon': 203,\n",
    "            '\\\\supset': 204, '\\\\prod': 205, '\\\\not\\\\equiv': 206, 'F': 207, '\\\\Gamma': 208, '\\\\sqsubseteq': 209,\n",
    "            '\\\\langle': 210, '\\\\supseteq': 211, '\\\\sim': 212, '\\\\clubsuit': 213, '\\\\mapsto': 214, '8': 215,\n",
    "            '\\\\multimap': 216, '\\\\circledcirc': 217, '\\\\mathcal{F}': 218, '\\\\mathfrak{S}': 219, '\\\\mathds{Z}': 220,\n",
    "            '\\\\leadsto': 221, '\\\\amalg': 222, '\\\\zeta': 223, '\\\\cap': 224, '\\\\mathds{R}': 225, 'Q': 226, '[': 227,\n",
    "            '\\\\mathds{N}': 228, 'J': 229, '\\\\therefore': 230, '\\\\mathscr{S}': 231, '0': 232, '\\\\varepsilon': 233,\n",
    "            '\\\\hookrightarrow': 234, '\\\\mathcal{R}': 235, '\\\\ltimes': 236, '\\\\diamond': 237, '\\\\triangleleft': 238,\n",
    "            ']': 239, '\\\\checkmark': 240, '\\\\dots': 241, '\\\\rho': 242, '\\\\circledR': 243, '\\\\times': 244,\n",
    "            '\\\\mathcal{E}': 245, '\\\\leftarrow': 246, '\\\\upharpoonright': 247, '\\\\trianglelefteq': 248,\n",
    "            '\\\\nearrow': 249, '\\\\mathcal{A}': 250, '\\\\wr': 251, '\\\\prime': 252, '\\\\sqcup': 253, '\\\\succ': 254,\n",
    "            '\\\\parallel': 255, '\\\\leqslant': 256, '\\\\Bowtie': 257, '\\\\partial': 258, '\\\\rceil': 259, 'O': 260,\n",
    "            '\\\\forall': 261, '\\\\emptyset': 262, '\\\\circ': 263, '\\\\venus': 264, '\\\\sharp': 265, '\\\\angle': 266,\n",
    "            'Y': 267, '\\\\boxdot': 268, '2': 269, 'L': 270, '\\\\neg': 271, '\\\\oiint': 272, '\\\\sigma': 273, '\\\\Pi': 274,\n",
    "            '\\\\mathds{E}': 275, '\\\\female': 276, '\\\\leq': 277, '\\\\approx': 278, '\\\\lfloor': 279, '\\\\degree': 280,\n",
    "            '\\\\sqrt{}': 281, 'I': 282, '\\\\notin': 283, '\\\\kappa': 284, '\\\\ni': 285, '\\\\guillemotleft': 286,\n",
    "            '\\\\blacksquare': 287, '\\\\gtrless': 288, '>': 289, '\\\\delta': 290, '\\\\Theta': 291, '\\\\doteq': 292,\n",
    "            '\\\\nrightarrow': 293, '\\\\wedge': 294, '/': 295, '|': 296, '7': 297, '\\\\frown': 298, 'U': 299,\n",
    "            '\\\\phi': 300, '\\\\lesssim': 301, '\\\\varnothing': 302, '\\\\Im': 303, '\\\\copyright': 304, 'M': 305,\n",
    "            '\\\\xi': 306, '\\\\star': 307, '\\\\mathfrak{A}': 308, '\\\\curvearrowright': 309, '\\\\mathcal{X}': 310,\n",
    "            '\\\\&': 311, '\\\\vartheta': 312, '\\\\perp': 313, '\\\\mathcal{Z}': 314, '\\\\eta': 315, '\\\\mapsfrom': 316,\n",
    "            '\\\\asymp': 317, '\\\\rtimes': 318, '\\\\O': 319, '\\\\lozenge': 320, '\\\\Downarrow': 321, '\\\\mathscr{H}': 322,\n",
    "            '\\\\Xi': 323, 'K': 324, '9': 325}\n",
    "\n",
    "out: torch.Tensor = model(img)\n",
    "plt.imshow(img[0][0], cmap=\"gray\")\n",
    "_, pred = torch.max(out, 1)\n",
    "\n",
    "print(classes[pred])\n"
   ]
  },
  {
   "cell_type": "code",
   "execution_count": null,
   "metadata": {},
   "outputs": [],
   "source": [
    "img = cv2.imread(\"../data/HASYv2/hasy-data/v2-00023.png\")\n",
    "img = cv2.cvtColor(img, cv2.COLOR_BGR2GRAY)\n",
    "img = cv2.threshold(img, 128, 1, cv2.THRESH_BINARY)[1]\n",
    "img = cv2.resize(img, (45, 45))\n",
    "# Convert image shape to have 1 channel (standard image format)\n",
    "img = img.reshape(45, 45, 1)\n",
    "img ^= 1\n",
    "img = morphology.skeletonize(img)\n",
    "img ^= 1\n",
    "ts = transforms.ToTensor()\n",
    "img: torch.Tensor = ts(img)\n",
    "img = img.unsqueeze(0)\n",
    "\n",
    "out = model(img)\n",
    "_, pred = torch.max(out, 1)\n",
    "print(classes[pred])\n",
    "plt.imshow(img[0][0], cmap=\"gray\")"
   ]
  }
 ],
 "metadata": {
  "kernelspec": {
   "display_name": "Python 3",
   "language": "python",
   "name": "python3"
  },
  "language_info": {
   "codemirror_mode": {
    "name": "ipython",
    "version": 3
   },
   "file_extension": ".py",
   "mimetype": "text/x-python",
   "name": "python",
   "nbconvert_exporter": "python",
   "pygments_lexer": "ipython3",
   "version": "3.9.0"
  },
  "vscode": {
   "interpreter": {
    "hash": "cc82db2dc128658da88fa564359fe123ee9c6914f8c7963941acb47815200485"
   }
  }
 },
 "nbformat": 4,
 "nbformat_minor": 1
}
