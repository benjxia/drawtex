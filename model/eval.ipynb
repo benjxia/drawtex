{
 "cells": [
  {
   "cell_type": "code",
   "execution_count": 6,
   "metadata": {
    "collapsed": true
   },
   "outputs": [],
   "source": [
    "import torch\n",
    "from torch.utils.data import Dataset, DataLoader\n",
    "import cv2\n",
    "import numpy as np\n",
    "import matplotlib.pyplot as plt\n",
    "import torchvision.transforms as transforms\n",
    "from DrawtexDataset import DrawtexDataset\n",
    "from DrawtexModel import DrawtexModel\n",
    "from skimage import morphology"
   ]
  },
  {
   "cell_type": "code",
   "execution_count": 7,
   "outputs": [],
   "source": [
    "model: DrawtexModel = torch.load(\"DrawtexModel.pth\")\n",
    "model.eval()\n",
    "\n",
    "ds: DrawtexDataset = DrawtexDataset(transforms.ToTensor())\n",
    "\n",
    "dl = DataLoader(\n",
    "    dataset=ds,\n",
    "    batch_size=1,\n",
    "    shuffle=True,\n",
    "    num_workers=1\n",
    ")\n"
   ],
   "metadata": {
    "collapsed": false
   }
  },
  {
   "cell_type": "code",
   "execution_count": 19,
   "outputs": [
    {
     "name": "stdout",
     "output_type": "stream",
     "text": [
      "1\n"
     ]
    },
    {
     "data": {
      "text/plain": "<Figure size 432x288 with 1 Axes>",
      "image/png": "[encoded data removed]"
     },
     "metadata": {
      "needs_background": "light"
     },
     "output_type": "display_data"
    }
   ],
   "source": [
    "iter = enumerate(dl)\n",
    "idx, (img, label) = next(iter)\n",
    "\n",
    "classes: list[str] = ['!', '(', ')', '+', '-', '0', '1', '2', '3', '4', '5', '6', '7', '8', '9', '=', 'A', 'alpha', 'b', 'beta', 'C', 'cos', 'd', 'Delta', 'div', 'e', 'exists', 'f', 'forall', 'forward_slash', 'G', 'gamma', 'geq', 'gt', 'H', 'i', 'in', 'infty', 'int', 'j', 'k', 'l', 'lambda', 'leq', 'lim', 'log', 'lt', 'M', 'mu', 'N', 'neq', 'o', 'p', 'phi', 'pi', 'pm', 'q', 'R', 'rightarrow', 'S', 'sigma', 'sin', 'sqrt', 'sum', 'T', 'tan', 'theta', 'times', 'u', 'v', 'w', 'X', 'y', 'z', '[', ']', '{', '}']\n",
    "\n",
    "out: torch.Tensor = model(img)\n",
    "plt.imshow(img[0][0], cmap=\"gray\")\n",
    "_, pred = torch.max(out, 1)\n",
    "\n",
    "print(classes[pred])\n"
   ],
   "metadata": {
    "collapsed": false
   }
  },
  {
   "cell_type": "code",
   "execution_count": 25,
   "outputs": [
    {
     "name": "stdout",
     "output_type": "stream",
     "text": [
      "4\n"
     ]
    },
    {
     "data": {
      "text/plain": "<matplotlib.image.AxesImage at 0x1a7ad85e160>"
     },
     "execution_count": 25,
     "metadata": {},
     "output_type": "execute_result"
    },
    {
     "data": {
      "text/plain": "<Figure size 432x288 with 1 Axes>",
      "image/png": "[encoded data removed]"
     },
     "metadata": {
      "needs_background": "light"
     },
     "output_type": "display_data"
    }
   ],
   "source": [
    "img = cv2.imread(\"../data/HASYv2/hasy-data/v2-00005.png\")\n",
    "img = cv2.cvtColor(img, cv2.COLOR_BGR2GRAY)\n",
    "img = cv2.threshold(img, 128, 1, cv2.THRESH_BINARY)[1]\n",
    "img = cv2.resize(img, (45, 45))\n",
    "# Convert image shape to have 1 channel (standard image format)\n",
    "img = img.reshape(45, 45, 1)\n",
    "img ^= 1\n",
    "img = morphology.skeletonize(img)\n",
    "img ^= 1\n",
    "ts = transforms.ToTensor()\n",
    "img: torch.Tensor = ts(img)\n",
    "img = img.unsqueeze(0)\n",
    "\n",
    "out = model(img)\n",
    "_, pred = torch.max(out, 1)\n",
    "print(classes[pred])\n",
    "plt.imshow(img[0][0], cmap=\"gray\")"
   ],
   "metadata": {
    "collapsed": false
   }
  }
 ],
 "metadata": {
  "kernelspec": {
   "display_name": "Python 3",
   "language": "python",
   "name": "python3"
  },
  "language_info": {
   "codemirror_mode": {
    "name": "ipython",
    "version": 2
   },
   "file_extension": ".py",
   "mimetype": "text/x-python",
   "name": "python",
   "nbconvert_exporter": "python",
   "pygments_lexer": "ipython2",
   "version": "2.7.6"
  }
 },
 "nbformat": 4,
 "nbformat_minor": 0
}
