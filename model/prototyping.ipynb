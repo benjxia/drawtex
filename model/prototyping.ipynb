{
 "cells": [
  {
   "cell_type": "code",
   "execution_count": 16,
   "outputs": [],
   "source": [
    "import pandas as pd\n",
    "import torch\n",
    "from torch.utils.data import Dataset, DataLoader\n",
    "from torch import nn\n",
    "import torchvision\n",
    "from torchvision import transforms\n",
    "\n",
    "\n",
    "from I2L_140K import I2L_140K"
   ],
   "metadata": {
    "collapsed": false
   }
  },
  {
   "cell_type": "code",
   "execution_count": 17,
   "outputs": [],
   "source": [
    "train_set = I2L_140K(\"../data/dataset5\")\n",
    "\n",
    "train_load = DataLoader(dataset=train_set,\n",
    "                        batch_size=1,\n",
    "                        num_workers=4,\n",
    "                        shuffle=True)\n",
    "\n",
    "idx, (img, label) = next(enumerate(train_load))\n",
    "\n",
    "device = \"cuda\" if torch.cuda.is_available() else \"cpu\""
   ],
   "metadata": {
    "collapsed": false
   }
  },
  {
   "cell_type": "code",
   "execution_count": 18,
   "outputs": [],
   "source": [
    "class I2L_Encoder(nn.Module):\n",
    "    def __init__(self):\n",
    "        super().__init__()\n",
    "        # Activation type stuff\n",
    "        self.unfold = nn.Unfold(1)\n",
    "        self.relu = nn.ReLU()\n",
    "        self.max_pool1 = nn.MaxPool2d(kernel_size=(2, 2), stride=1)\n",
    "\n",
    "        self.conv1 = nn.Conv2d(in_channels=1, out_channels=64, kernel_size=13, bias=False)\n",
    "        self.norm1 = nn.BatchNorm2d(64)\n",
    "\n",
    "        self.conv2 = nn.Conv2d(in_channels=64, out_channels=128, kernel_size=9, bias=False)\n",
    "        self.norm2 = nn.BatchNorm2d(128)\n",
    "\n",
    "        self.conv3 = nn.Conv2d(in_channels=128, out_channels=256, kernel_size=7, bias=False)\n",
    "        self.norm3 = nn.BatchNorm2d(256)\n",
    "\n",
    "        self.conv4 = nn.Conv2d(in_channels=256, out_channels=512, kernel_size=5, bias=False)\n",
    "        self.norm4 = nn.BatchNorm2d(512)\n",
    "\n",
    "        self.lin1 = nn.Linear(512, 338)\n",
    "\n",
    "\n",
    "    def forward(self, x: torch.Tensor) -> torch.Tensor:\n",
    "        x = self.conv1(x)\n",
    "        x = self.relu(x)\n",
    "        x = self.norm1(x)\n",
    "        x = self.max_pool1(x)\n",
    "\n",
    "        x = self.conv2(x)\n",
    "        x = self.relu(x)\n",
    "        x = self.norm2(x)\n",
    "        x = self.max_pool1(x)\n",
    "\n",
    "        x = self.conv3(x)\n",
    "        x = self.relu(x)\n",
    "        x = self.norm3(x)\n",
    "        x = self.max_pool1(x)\n",
    "\n",
    "        x = self.conv4(x)\n",
    "        x = self.relu(x)\n",
    "        x = self.norm4(x)\n",
    "        x = self.max_pool1(x)\n",
    "\n",
    "        x = self.unfold(x).permute(0, 2, 1)\n",
    "        x = self.lin1(x)\n",
    "\n",
    "        return x"
   ],
   "metadata": {
    "collapsed": false
   }
  },
  {
   "cell_type": "code",
   "execution_count": 19,
   "outputs": [
    {
     "name": "stdout",
     "output_type": "stream",
     "text": [
      "torch.Size([1, 1, 128, 1088])\n",
      "torch.Size([1, 1, 139264])\n",
      "torch.Size([1, 99076, 338])\n"
     ]
    }
   ],
   "source": [
    "model2 = I2L_Encoder().to(device)\n",
    "tmp_tgt = torch.cat((torch.ones(len(label), 1).to(device), label), dim=1).to(device)\n",
    "print(img.shape)\n",
    "x = torch.flatten(img, start_dim=2)\n",
    "print(x.shape)\n",
    "out = model2(img)\n",
    "print(out.shape)"
   ],
   "metadata": {
    "collapsed": false
   }
  },
  {
   "cell_type": "code",
   "execution_count": 19,
   "outputs": [],
   "source": [],
   "metadata": {
    "collapsed": false
   }
  }
 ],
 "metadata": {
  "kernelspec": {
   "display_name": "Python 3",
   "language": "python",
   "name": "python3"
  },
  "language_info": {
   "codemirror_mode": {
    "name": "ipython",
    "version": 2
   },
   "file_extension": ".py",
   "mimetype": "text/x-python",
   "name": "python",
   "nbconvert_exporter": "python",
   "pygments_lexer": "ipython2",
   "version": "2.7.6"
  }
 },
 "nbformat": 4,
 "nbformat_minor": 0
}
