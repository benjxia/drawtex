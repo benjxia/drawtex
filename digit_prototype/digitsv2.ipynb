{
 "cells": [
  {
   "cell_type": "markdown",
   "metadata": {
    "collapsed": true,
    "pycharm": {
     "name": "#%% md\n"
    }
   },
   "source": [
    "## Identify hand-drawn digits prototype v2"
   ]
  },
  {
   "cell_type": "markdown",
   "metadata": {
    "collapsed": false,
    "pycharm": {
     "name": "#%% md\n"
    }
   },
   "source": [
    "### Imports"
   ]
  },
  {
   "cell_type": "code",
   "execution_count": 8,
   "metadata": {
    "collapsed": false,
    "pycharm": {
     "name": "#%%\n"
    }
   },
   "outputs": [],
   "source": [
    "import torch\n",
    "import torchvision.transforms as transforms\n",
    "from torch import nn\n",
    "from torch.utils.data import DataLoader\n",
    "from torchvision import datasets\n",
    "from torchvision.transforms import ToTensor\n",
    "import matplotlib.pyplot as plt"
   ]
  },
  {
   "cell_type": "markdown",
   "metadata": {
    "collapsed": false,
    "pycharm": {
     "name": "#%% md\n"
    }
   },
   "source": [
    "### Hyperparameters and datasets"
   ]
  },
  {
   "cell_type": "code",
   "execution_count": 9,
   "metadata": {
    "collapsed": false,
    "pycharm": {
     "name": "#%%\n"
    }
   },
   "outputs": [
    {
     "name": "stdout",
     "output_type": "stream",
     "text": [
      "Using cpu device\n"
     ]
    }
   ],
   "source": [
    "INPUT_SIZE: int = 28 * 28\n",
    "CLASS_CNT: int = 10\n",
    "TRAIN_BATCH_SZ: int = 16\n",
    "TEST_BATCH_SZ: int = 1000\n",
    "EPOCHS: int = 1\n",
    "LEARN_RATE = 0.01\n",
    "\n",
    "torch.manual_seed(0x10f2c)\n",
    "\n",
    "transformation = transforms.Compose(\n",
    "    [transforms.ToTensor(), transforms.Normalize((0.5), (0.5))]\n",
    ")\n",
    "\n",
    "training_set: datasets.MNIST = datasets.MNIST(\n",
    "    root= \"./data\",\n",
    "    train= True,\n",
    "    download= True,\n",
    "    transform= transformation\n",
    ")\n",
    "\n",
    "test_set: datasets.MNIST = datasets.MNIST(\n",
    "    root= \"./data\",\n",
    "    train= False,\n",
    "    download= True,\n",
    "    transform= transformation\n",
    ")\n",
    "\n",
    "train_load: DataLoader = DataLoader(\n",
    "    dataset= training_set,\n",
    "    batch_size= TRAIN_BATCH_SZ,\n",
    "    shuffle= True\n",
    ")\n",
    "\n",
    "test_load: DataLoader = DataLoader(\n",
    "    dataset= test_set,\n",
    "    batch_size= TEST_BATCH_SZ,\n",
    "    shuffle= False\n",
    ")\n",
    "\n",
    "device: str = \"cuda\" if torch.cuda.is_available() else \"cpu\"\n",
    "print(f\"Using {device} device\")"
   ]
  },
  {
   "cell_type": "markdown",
   "metadata": {
    "collapsed": false,
    "pycharm": {
     "name": "#%% md\n"
    }
   },
   "source": [
    "### Demo Training Data"
   ]
  },
  {
   "cell_type": "code",
   "execution_count": 10,
   "metadata": {
    "collapsed": false,
    "pycharm": {
     "name": "#%%\n"
    }
   },
   "outputs": [
    {
     "data": {
      "text/plain": "<Figure size 432x288 with 16 Axes>",
      "image/png": "[encoded data removed]"
     },
     "metadata": {},
     "output_type": "display_data"
    }
   ],
   "source": [
    "load_enumerate = enumerate(train_load)\n",
    "idx, (demo_data, demo_target) = next(load_enumerate)\n",
    "\n",
    "fig: plt.figure = plt.figure()\n",
    "\n",
    "for i in range(16):\n",
    "    plt.subplot(4, 4, i + 1)\n",
    "    plt.tight_layout()\n",
    "    plt.imshow(demo_data[i][0], cmap= \"gray\", interpolation= \"none\")\n",
    "    plt.title(f\"Actual: {demo_target[i]}\")\n",
    "    plt.xticks([])\n",
    "    plt.yticks([])\n"
   ]
  },
  {
   "cell_type": "markdown",
   "metadata": {
    "collapsed": false
   },
   "source": [
    "### Model Definition"
   ]
  },
  {
   "cell_type": "code",
   "execution_count": 11,
   "metadata": {
    "collapsed": false,
    "pycharm": {
     "name": "#%%\n"
    }
   },
   "outputs": [
    {
     "name": "stdout",
     "output_type": "stream",
     "text": [
      "Digitv2Network(\n",
      "  (relu): ReLU()\n",
      "  (conv1): Conv2d(1, 5, kernel_size=(3, 3), stride=(1, 1), padding=same)\n",
      "  (pool1): MaxPool2d(kernel_size=2, stride=2, padding=0, dilation=1, ceil_mode=False)\n",
      "  (conv2): Conv2d(5, 10, kernel_size=(3, 3), stride=(1, 1), padding=same)\n",
      "  (pool2): MaxPool2d(kernel_size=2, stride=2, padding=0, dilation=1, ceil_mode=False)\n",
      "  (l1): Linear(in_features=490, out_features=30, bias=True)\n",
      "  (l2): Linear(in_features=30, out_features=10, bias=True)\n",
      ")\n"
     ]
    }
   ],
   "source": [
    "class Digitv2Network(nn.Module):\n",
    "    def __init__(self):\n",
    "        super().__init__()\n",
    "        self.relu = nn.ReLU()\n",
    "        self.conv1 = nn.Conv2d(\n",
    "            in_channels= 1,\n",
    "            out_channels= 5,\n",
    "            kernel_size= 3,\n",
    "            padding= \"same\",\n",
    "            padding_mode= \"zeros\",\n",
    "        )\n",
    "        self.pool1 = nn.MaxPool2d(\n",
    "            kernel_size= 2,\n",
    "            stride= 2,\n",
    "        )\n",
    "        self.conv2 = nn.Conv2d(\n",
    "            in_channels= 5,\n",
    "            out_channels= 10,\n",
    "            kernel_size= 3,\n",
    "            padding= \"same\",\n",
    "            padding_mode= \"zeros\",\n",
    "        )\n",
    "        self.pool2 = nn.MaxPool2d(\n",
    "            kernel_size= 2,\n",
    "            stride= 2,\n",
    "        )\n",
    "        self.l1 = nn.Linear(10 * 7 * 7, 30)\n",
    "        self.l2 = nn.Linear(30, 10)\n",
    "\n",
    "    def forward(self, x: torch.Tensor):\n",
    "        x = self.conv1(x)\n",
    "        x = self.relu(x)\n",
    "        x = self.pool1(x)\n",
    "        x = self.conv2(x)\n",
    "        x = self.relu(x)\n",
    "        x = self.pool2(x)\n",
    "        x = x.view(-1, 490)\n",
    "        x = self.l1(x)\n",
    "        x = self.relu(x)\n",
    "        x = self.l2(x)\n",
    "        return x\n",
    "\n",
    "model = Digitv2Network().to(device)\n",
    "print(model)"
   ]
  },
  {
   "cell_type": "markdown",
   "metadata": {
    "collapsed": false
   },
   "source": [
    "### Training the model"
   ]
  },
  {
   "cell_type": "code",
   "execution_count": 12,
   "metadata": {
    "collapsed": false,
    "pycharm": {
     "name": "#%%\n"
    }
   },
   "outputs": [
    {
     "name": "stdout",
     "output_type": "stream",
     "text": [
      "Epoch 1/1, step 16/3750, loss = 2.2915\n",
      "Epoch 1/1, step 32/3750, loss = 2.3141\n",
      "Epoch 1/1, step 48/3750, loss = 2.3293\n",
      "Epoch 1/1, step 64/3750, loss = 2.2668\n",
      "Epoch 1/1, step 80/3750, loss = 2.2585\n",
      "Epoch 1/1, step 96/3750, loss = 2.3266\n",
      "Epoch 1/1, step 112/3750, loss = 2.2865\n",
      "Epoch 1/1, step 128/3750, loss = 2.3172\n",
      "Epoch 1/1, step 144/3750, loss = 2.2394\n",
      "Epoch 1/1, step 160/3750, loss = 2.2759\n",
      "Epoch 1/1, step 176/3750, loss = 2.3022\n",
      "Epoch 1/1, step 192/3750, loss = 2.2649\n",
      "Epoch 1/1, step 208/3750, loss = 2.2834\n",
      "Epoch 1/1, step 224/3750, loss = 2.2795\n",
      "Epoch 1/1, step 240/3750, loss = 2.2674\n",
      "Epoch 1/1, step 256/3750, loss = 2.2928\n",
      "Epoch 1/1, step 272/3750, loss = 2.2737\n",
      "Epoch 1/1, step 288/3750, loss = 2.2833\n",
      "Epoch 1/1, step 304/3750, loss = 2.2521\n",
      "Epoch 1/1, step 320/3750, loss = 2.2387\n",
      "Epoch 1/1, step 336/3750, loss = 2.2513\n",
      "Epoch 1/1, step 352/3750, loss = 2.2185\n",
      "Epoch 1/1, step 368/3750, loss = 2.2293\n",
      "Epoch 1/1, step 384/3750, loss = 2.2216\n",
      "Epoch 1/1, step 400/3750, loss = 2.1950\n",
      "Epoch 1/1, step 416/3750, loss = 2.2077\n",
      "Epoch 1/1, step 432/3750, loss = 2.1793\n",
      "Epoch 1/1, step 448/3750, loss = 2.0994\n",
      "Epoch 1/1, step 464/3750, loss = 2.1398\n",
      "Epoch 1/1, step 480/3750, loss = 2.0468\n",
      "Epoch 1/1, step 496/3750, loss = 2.0859\n",
      "Epoch 1/1, step 512/3750, loss = 2.0470\n",
      "Epoch 1/1, step 528/3750, loss = 1.9963\n",
      "Epoch 1/1, step 544/3750, loss = 1.8768\n",
      "Epoch 1/1, step 560/3750, loss = 1.8820\n",
      "Epoch 1/1, step 576/3750, loss = 1.7553\n",
      "Epoch 1/1, step 592/3750, loss = 1.5963\n",
      "Epoch 1/1, step 608/3750, loss = 1.6839\n",
      "Epoch 1/1, step 624/3750, loss = 1.3080\n",
      "Epoch 1/1, step 640/3750, loss = 1.2645\n",
      "Epoch 1/1, step 656/3750, loss = 1.1968\n",
      "Epoch 1/1, step 672/3750, loss = 1.3794\n",
      "Epoch 1/1, step 688/3750, loss = 0.8292\n",
      "Epoch 1/1, step 704/3750, loss = 0.9342\n",
      "Epoch 1/1, step 720/3750, loss = 0.5506\n",
      "Epoch 1/1, step 736/3750, loss = 0.6846\n",
      "Epoch 1/1, step 752/3750, loss = 0.8167\n",
      "Epoch 1/1, step 768/3750, loss = 0.4065\n",
      "Epoch 1/1, step 784/3750, loss = 0.4554\n",
      "Epoch 1/1, step 800/3750, loss = 0.4343\n",
      "Epoch 1/1, step 816/3750, loss = 0.9276\n",
      "Epoch 1/1, step 832/3750, loss = 0.9911\n",
      "Epoch 1/1, step 848/3750, loss = 0.9408\n",
      "Epoch 1/1, step 864/3750, loss = 0.3991\n",
      "Epoch 1/1, step 880/3750, loss = 0.2922\n",
      "Epoch 1/1, step 896/3750, loss = 0.9262\n",
      "Epoch 1/1, step 912/3750, loss = 0.5013\n",
      "Epoch 1/1, step 928/3750, loss = 0.1570\n",
      "Epoch 1/1, step 944/3750, loss = 0.7046\n",
      "Epoch 1/1, step 960/3750, loss = 0.2209\n",
      "Epoch 1/1, step 976/3750, loss = 0.2364\n",
      "Epoch 1/1, step 992/3750, loss = 0.6146\n",
      "Epoch 1/1, step 1008/3750, loss = 0.3487\n",
      "Epoch 1/1, step 1024/3750, loss = 0.7820\n",
      "Epoch 1/1, step 1040/3750, loss = 0.5990\n",
      "Epoch 1/1, step 1056/3750, loss = 0.2344\n",
      "Epoch 1/1, step 1072/3750, loss = 0.2861\n",
      "Epoch 1/1, step 1088/3750, loss = 0.4242\n",
      "Epoch 1/1, step 1104/3750, loss = 0.2825\n",
      "Epoch 1/1, step 1120/3750, loss = 0.5027\n",
      "Epoch 1/1, step 1136/3750, loss = 0.1541\n",
      "Epoch 1/1, step 1152/3750, loss = 0.3284\n",
      "Epoch 1/1, step 1168/3750, loss = 0.2500\n",
      "Epoch 1/1, step 1184/3750, loss = 0.1331\n",
      "Epoch 1/1, step 1200/3750, loss = 0.4452\n",
      "Epoch 1/1, step 1216/3750, loss = 0.2675\n",
      "Epoch 1/1, step 1232/3750, loss = 0.8422\n",
      "Epoch 1/1, step 1248/3750, loss = 0.3666\n",
      "Epoch 1/1, step 1264/3750, loss = 0.3206\n",
      "Epoch 1/1, step 1280/3750, loss = 0.5499\n",
      "Epoch 1/1, step 1296/3750, loss = 0.2667\n",
      "Epoch 1/1, step 1312/3750, loss = 0.4825\n",
      "Epoch 1/1, step 1328/3750, loss = 0.2989\n",
      "Epoch 1/1, step 1344/3750, loss = 0.2442\n",
      "Epoch 1/1, step 1360/3750, loss = 0.2182\n",
      "Epoch 1/1, step 1376/3750, loss = 0.1315\n",
      "Epoch 1/1, step 1392/3750, loss = 0.2321\n",
      "Epoch 1/1, step 1408/3750, loss = 0.2938\n",
      "Epoch 1/1, step 1424/3750, loss = 0.5579\n",
      "Epoch 1/1, step 1440/3750, loss = 0.5647\n",
      "Epoch 1/1, step 1456/3750, loss = 0.0351\n",
      "Epoch 1/1, step 1472/3750, loss = 0.2975\n",
      "Epoch 1/1, step 1488/3750, loss = 0.6542\n",
      "Epoch 1/1, step 1504/3750, loss = 0.1125\n",
      "Epoch 1/1, step 1520/3750, loss = 0.1789\n",
      "Epoch 1/1, step 1536/3750, loss = 0.2631\n",
      "Epoch 1/1, step 1552/3750, loss = 0.9317\n",
      "Epoch 1/1, step 1568/3750, loss = 0.3995\n",
      "Epoch 1/1, step 1584/3750, loss = 0.1502\n",
      "Epoch 1/1, step 1600/3750, loss = 0.2616\n",
      "Epoch 1/1, step 1616/3750, loss = 0.2292\n",
      "Epoch 1/1, step 1632/3750, loss = 0.7598\n",
      "Epoch 1/1, step 1648/3750, loss = 0.5640\n",
      "Epoch 1/1, step 1664/3750, loss = 0.2337\n",
      "Epoch 1/1, step 1680/3750, loss = 0.2150\n",
      "Epoch 1/1, step 1696/3750, loss = 0.1312\n",
      "Epoch 1/1, step 1712/3750, loss = 0.4207\n",
      "Epoch 1/1, step 1728/3750, loss = 0.0368\n",
      "Epoch 1/1, step 1744/3750, loss = 0.3429\n",
      "Epoch 1/1, step 1760/3750, loss = 0.3098\n",
      "Epoch 1/1, step 1776/3750, loss = 0.2912\n",
      "Epoch 1/1, step 1792/3750, loss = 0.1357\n",
      "Epoch 1/1, step 1808/3750, loss = 0.1820\n",
      "Epoch 1/1, step 1824/3750, loss = 0.4158\n",
      "Epoch 1/1, step 1840/3750, loss = 0.2252\n",
      "Epoch 1/1, step 1856/3750, loss = 0.5831\n",
      "Epoch 1/1, step 1872/3750, loss = 0.0753\n",
      "Epoch 1/1, step 1888/3750, loss = 0.3498\n",
      "Epoch 1/1, step 1904/3750, loss = 0.4293\n",
      "Epoch 1/1, step 1920/3750, loss = 0.5264\n",
      "Epoch 1/1, step 1936/3750, loss = 0.1668\n",
      "Epoch 1/1, step 1952/3750, loss = 0.2231\n",
      "Epoch 1/1, step 1968/3750, loss = 0.8883\n",
      "Epoch 1/1, step 1984/3750, loss = 0.0407\n",
      "Epoch 1/1, step 2000/3750, loss = 0.8888\n",
      "Epoch 1/1, step 2016/3750, loss = 0.2403\n",
      "Epoch 1/1, step 2032/3750, loss = 0.1833\n",
      "Epoch 1/1, step 2048/3750, loss = 0.1649\n",
      "Epoch 1/1, step 2064/3750, loss = 0.2576\n",
      "Epoch 1/1, step 2080/3750, loss = 0.0911\n",
      "Epoch 1/1, step 2096/3750, loss = 0.1013\n",
      "Epoch 1/1, step 2112/3750, loss = 0.0562\n",
      "Epoch 1/1, step 2128/3750, loss = 0.1189\n",
      "Epoch 1/1, step 2144/3750, loss = 0.1055\n",
      "Epoch 1/1, step 2160/3750, loss = 0.2792\n",
      "Epoch 1/1, step 2176/3750, loss = 0.8118\n",
      "Epoch 1/1, step 2192/3750, loss = 0.0726\n",
      "Epoch 1/1, step 2208/3750, loss = 0.0587\n",
      "Epoch 1/1, step 2224/3750, loss = 0.1155\n",
      "Epoch 1/1, step 2240/3750, loss = 0.0950\n",
      "Epoch 1/1, step 2256/3750, loss = 0.3251\n",
      "Epoch 1/1, step 2272/3750, loss = 0.0599\n",
      "Epoch 1/1, step 2288/3750, loss = 0.4454\n",
      "Epoch 1/1, step 2304/3750, loss = 0.2110\n",
      "Epoch 1/1, step 2320/3750, loss = 0.7805\n",
      "Epoch 1/1, step 2336/3750, loss = 0.5296\n",
      "Epoch 1/1, step 2352/3750, loss = 0.1023\n",
      "Epoch 1/1, step 2368/3750, loss = 0.0985\n",
      "Epoch 1/1, step 2384/3750, loss = 0.3382\n",
      "Epoch 1/1, step 2400/3750, loss = 0.3843\n",
      "Epoch 1/1, step 2416/3750, loss = 0.1510\n",
      "Epoch 1/1, step 2432/3750, loss = 0.1245\n",
      "Epoch 1/1, step 2448/3750, loss = 0.3469\n",
      "Epoch 1/1, step 2464/3750, loss = 0.5288\n",
      "Epoch 1/1, step 2480/3750, loss = 0.1132\n",
      "Epoch 1/1, step 2496/3750, loss = 0.0534\n",
      "Epoch 1/1, step 2512/3750, loss = 0.1752\n",
      "Epoch 1/1, step 2528/3750, loss = 0.1168\n",
      "Epoch 1/1, step 2544/3750, loss = 0.2244\n",
      "Epoch 1/1, step 2560/3750, loss = 0.0830\n",
      "Epoch 1/1, step 2576/3750, loss = 0.0623\n",
      "Epoch 1/1, step 2592/3750, loss = 0.0782\n",
      "Epoch 1/1, step 2608/3750, loss = 0.7235\n",
      "Epoch 1/1, step 2624/3750, loss = 0.3113\n",
      "Epoch 1/1, step 2640/3750, loss = 0.0377\n",
      "Epoch 1/1, step 2656/3750, loss = 0.2175\n",
      "Epoch 1/1, step 2672/3750, loss = 0.1708\n",
      "Epoch 1/1, step 2688/3750, loss = 0.1056\n",
      "Epoch 1/1, step 2704/3750, loss = 0.2500\n",
      "Epoch 1/1, step 2720/3750, loss = 0.1858\n",
      "Epoch 1/1, step 2736/3750, loss = 0.0449\n",
      "Epoch 1/1, step 2752/3750, loss = 0.0476\n",
      "Epoch 1/1, step 2768/3750, loss = 0.1678\n",
      "Epoch 1/1, step 2784/3750, loss = 0.0713\n",
      "Epoch 1/1, step 2800/3750, loss = 0.0667\n",
      "Epoch 1/1, step 2816/3750, loss = 0.1217\n",
      "Epoch 1/1, step 2832/3750, loss = 0.1603\n",
      "Epoch 1/1, step 2848/3750, loss = 0.0503\n",
      "Epoch 1/1, step 2864/3750, loss = 0.0802\n",
      "Epoch 1/1, step 2880/3750, loss = 0.2887\n",
      "Epoch 1/1, step 2896/3750, loss = 0.3020\n",
      "Epoch 1/1, step 2912/3750, loss = 0.0565\n",
      "Epoch 1/1, step 2928/3750, loss = 0.7586\n",
      "Epoch 1/1, step 2944/3750, loss = 0.1250\n",
      "Epoch 1/1, step 2960/3750, loss = 0.1216\n",
      "Epoch 1/1, step 2976/3750, loss = 0.0333\n",
      "Epoch 1/1, step 2992/3750, loss = 0.4089\n",
      "Epoch 1/1, step 3008/3750, loss = 0.0679\n",
      "Epoch 1/1, step 3024/3750, loss = 0.0630\n",
      "Epoch 1/1, step 3040/3750, loss = 0.4170\n",
      "Epoch 1/1, step 3056/3750, loss = 0.5223\n",
      "Epoch 1/1, step 3072/3750, loss = 0.0734\n",
      "Epoch 1/1, step 3088/3750, loss = 0.2993\n",
      "Epoch 1/1, step 3104/3750, loss = 0.1927\n",
      "Epoch 1/1, step 3120/3750, loss = 0.3818\n",
      "Epoch 1/1, step 3136/3750, loss = 0.1864\n",
      "Epoch 1/1, step 3152/3750, loss = 0.0731\n",
      "Epoch 1/1, step 3168/3750, loss = 0.1508\n",
      "Epoch 1/1, step 3184/3750, loss = 0.1930\n",
      "Epoch 1/1, step 3200/3750, loss = 0.1739\n",
      "Epoch 1/1, step 3216/3750, loss = 0.1191\n",
      "Epoch 1/1, step 3232/3750, loss = 0.0785\n",
      "Epoch 1/1, step 3248/3750, loss = 0.2243\n",
      "Epoch 1/1, step 3264/3750, loss = 0.0172\n",
      "Epoch 1/1, step 3280/3750, loss = 0.1677\n",
      "Epoch 1/1, step 3296/3750, loss = 0.3450\n",
      "Epoch 1/1, step 3312/3750, loss = 0.1200\n",
      "Epoch 1/1, step 3328/3750, loss = 0.1258\n",
      "Epoch 1/1, step 3344/3750, loss = 0.0443\n",
      "Epoch 1/1, step 3360/3750, loss = 0.0285\n",
      "Epoch 1/1, step 3376/3750, loss = 0.1035\n",
      "Epoch 1/1, step 3392/3750, loss = 0.1212\n",
      "Epoch 1/1, step 3408/3750, loss = 0.1022\n",
      "Epoch 1/1, step 3424/3750, loss = 0.3926\n",
      "Epoch 1/1, step 3440/3750, loss = 0.0398\n",
      "Epoch 1/1, step 3456/3750, loss = 0.2410\n",
      "Epoch 1/1, step 3472/3750, loss = 0.1216\n",
      "Epoch 1/1, step 3488/3750, loss = 0.1250\n",
      "Epoch 1/1, step 3504/3750, loss = 0.0200\n",
      "Epoch 1/1, step 3520/3750, loss = 0.1043\n",
      "Epoch 1/1, step 3536/3750, loss = 0.2398\n",
      "Epoch 1/1, step 3552/3750, loss = 0.1760\n",
      "Epoch 1/1, step 3568/3750, loss = 0.2339\n",
      "Epoch 1/1, step 3584/3750, loss = 0.3308\n",
      "Epoch 1/1, step 3600/3750, loss = 0.0144\n",
      "Epoch 1/1, step 3616/3750, loss = 0.0779\n",
      "Epoch 1/1, step 3632/3750, loss = 0.0354\n",
      "Epoch 1/1, step 3648/3750, loss = 0.4488\n",
      "Epoch 1/1, step 3664/3750, loss = 0.3230\n",
      "Epoch 1/1, step 3680/3750, loss = 0.2389\n",
      "Epoch 1/1, step 3696/3750, loss = 0.0996\n",
      "Epoch 1/1, step 3712/3750, loss = 0.0388\n",
      "Epoch 1/1, step 3728/3750, loss = 0.2292\n",
      "Epoch 1/1, step 3744/3750, loss = 0.1438\n"
     ]
    }
   ],
   "source": [
    "criterion: nn.CrossEntropyLoss = nn.CrossEntropyLoss()\n",
    "optimizer: torch.optim.SGD = torch.optim.SGD(model.parameters(), lr= LEARN_RATE)\n",
    "\n",
    "n_steps = len(train_load)\n",
    "\n",
    "for epoch in range(EPOCHS):\n",
    "    for i, (img, label) in enumerate(train_load):\n",
    "        img = img.to(device)\n",
    "        label = label.to(device)\n",
    "\n",
    "        # forward pass\n",
    "        output = model(img)\n",
    "        loss: torch.Tensor = criterion(output, label)\n",
    "\n",
    "        # backpropagation\n",
    "        optimizer.zero_grad()\n",
    "        loss.backward()\n",
    "        optimizer.step()\n",
    "\n",
    "        if (i + 1) % TRAIN_BATCH_SZ == 0:\n",
    "            print(f\"Epoch {epoch + 1}/{EPOCHS}, step {i + 1}/{n_steps}, loss = {loss.item():.4f}\")"
   ]
  },
  {
   "cell_type": "markdown",
   "metadata": {
    "collapsed": false
   },
   "source": [
    "### Testing the model"
   ]
  },
  {
   "cell_type": "code",
   "execution_count": 13,
   "metadata": {
    "collapsed": false,
    "pycharm": {
     "name": "#%%\n"
    }
   },
   "outputs": [
    {
     "name": "stdout",
     "output_type": "stream",
     "text": [
      "Accuracy: 95.79%\n"
     ]
    }
   ],
   "source": [
    "with torch.no_grad():\n",
    "    correct = 0\n",
    "    total = 0\n",
    "    for img, label in test_load:\n",
    "        img = img.to(device)\n",
    "        label = label.to(device)\n",
    "        output = model(img)\n",
    "        _, prediction = torch.max(output, 1)\n",
    "        total += label.size(0)\n",
    "        correct += (prediction == label).sum().item()\n",
    "\n",
    "    acc = 100.0 * correct / total\n",
    "    print(f\"Accuracy: {acc}%\")"
   ]
  },
  {
   "cell_type": "markdown",
   "metadata": {
    "collapsed": false
   },
   "source": [
    "### Save"
   ]
  },
  {
   "cell_type": "code",
   "execution_count": 14,
   "metadata": {
    "collapsed": false,
    "pycharm": {
     "name": "#%%\n"
    }
   },
   "outputs": [],
   "source": [
    "torch.save(model.state_dict, \"./digitsv2.pth\")"
   ]
  }
 ],
 "metadata": {
  "kernelspec": {
   "display_name": "Python 3",
   "language": "python",
   "name": "python3"
  },
  "language_info": {
   "codemirror_mode": {
    "name": "ipython",
    "version": 3
   },
   "file_extension": ".py",
   "mimetype": "text/x-python",
   "name": "python",
   "nbconvert_exporter": "python",
   "pygments_lexer": "ipython3",
   "version": "3.9.6"
  },
  "vscode": {
   "interpreter": {
    "hash": "11938c6bc6919ae2720b4d5011047913343b08a43b18698fd82dedb0d4417594"
   }
  }
 },
 "nbformat": 4,
 "nbformat_minor": 0
}