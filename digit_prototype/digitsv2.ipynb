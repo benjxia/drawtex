{
 "cells": [
  {
   "cell_type": "markdown",
   "metadata": {
    "collapsed": true,
    "pycharm": {
     "name": "#%% md\n"
    }
   },
   "source": [
    "## Identify hand-drawn digits prototype v2"
   ]
  },
  {
   "cell_type": "markdown",
   "source": [
    "### Imports"
   ],
   "metadata": {
    "collapsed": false,
    "pycharm": {
     "name": "#%% md\n"
    }
   }
  },
  {
   "cell_type": "code",
   "execution_count": 163,
   "outputs": [],
   "source": [
    "import torch\n",
    "import torchvision.transforms as transforms\n",
    "from torch import nn\n",
    "from torch.utils.data import DataLoader\n",
    "from torchvision import datasets\n",
    "from torchvision.transforms import ToTensor\n",
    "import matplotlib.pyplot as plt"
   ],
   "metadata": {
    "collapsed": false,
    "pycharm": {
     "name": "#%%\n"
    }
   }
  },
  {
   "cell_type": "markdown",
   "source": [
    "### Hyperparameters and datasets"
   ],
   "metadata": {
    "collapsed": false,
    "pycharm": {
     "name": "#%% md\n"
    }
   }
  },
  {
   "cell_type": "code",
   "execution_count": 164,
   "outputs": [
    {
     "name": "stdout",
     "output_type": "stream",
     "text": [
      "Using cpu device\n"
     ]
    }
   ],
   "source": [
    "INPUT_SIZE: int = 28 * 28\n",
    "CLASS_CNT: int = 10\n",
    "TRAIN_BATCH_SZ: int = 100\n",
    "TEST_BATCH_SZ: int = 1000\n",
    "EPOCHS: int = 20\n",
    "LEARN_RATE = 0.01\n",
    "\n",
    "torch.manual_seed(0x10f2c)\n",
    "\n",
    "transformation = transforms.Compose(\n",
    "    [transforms.ToTensor(), transforms.Normalize((0.5), (0.5))]\n",
    ")\n",
    "\n",
    "training_set: datasets.MNIST = datasets.MNIST(\n",
    "    root= \"./data\",\n",
    "    train= True,\n",
    "    download= True,\n",
    "    transform= transformation\n",
    ")\n",
    "\n",
    "test_set: datasets.MNIST = datasets.MNIST(\n",
    "    root= \"./data\",\n",
    "    train= False,\n",
    "    download= True,\n",
    "    transform= transformation\n",
    ")\n",
    "\n",
    "train_load: DataLoader = DataLoader(\n",
    "    dataset= training_set,\n",
    "    batch_size= TRAIN_BATCH_SZ,\n",
    "    shuffle= True\n",
    ")\n",
    "\n",
    "test_load: DataLoader = DataLoader(\n",
    "    dataset= test_set,\n",
    "    batch_size= TEST_BATCH_SZ,\n",
    "    shuffle= False\n",
    ")\n",
    "\n",
    "device: str = \"cuda\" if torch.cuda.is_available() else \"cpu\"\n",
    "print(f\"Using {device} device\")"
   ],
   "metadata": {
    "collapsed": false,
    "pycharm": {
     "name": "#%%\n"
    }
   }
  },
  {
   "cell_type": "markdown",
   "source": [
    "### Demo Training Data"
   ],
   "metadata": {
    "collapsed": false,
    "pycharm": {
     "name": "#%% md\n"
    }
   }
  },
  {
   "cell_type": "code",
   "execution_count": 181,
   "outputs": [
    {
     "data": {
      "text/plain": "<Figure size 432x288 with 16 Axes>",
      "image/png": "[encoded data removed]"
     },
     "metadata": {},
     "output_type": "display_data"
    }
   ],
   "source": [
    "load_enumerate = enumerate(train_load)\n",
    "idx, (demo_data, demo_target) = next(load_enumerate)\n",
    "\n",
    "fig: plt.figure = plt.figure()\n",
    "\n",
    "for i in range(16):\n",
    "    plt.subplot(4, 4, i + 1)\n",
    "    plt.tight_layout()\n",
    "    plt.imshow(demo_data[i][0], cmap= \"gray\", interpolation= \"none\")\n",
    "    plt.title(f\"Actual: {demo_target[i]}\")\n",
    "    plt.xticks([])\n",
    "    plt.yticks([])\n"
   ],
   "metadata": {
    "collapsed": false,
    "pycharm": {
     "name": "#%%\n"
    }
   }
  },
  {
   "cell_type": "markdown",
   "source": [
    "### Model Definition"
   ],
   "metadata": {
    "collapsed": false
   }
  },
  {
   "cell_type": "code",
   "execution_count": 166,
   "outputs": [
    {
     "name": "stdout",
     "output_type": "stream",
     "text": [
      "Digitv2Network(\n",
      "  (relu): ReLU()\n",
      "  (conv1): Conv2d(1, 5, kernel_size=(3, 3), stride=(1, 1), padding=same)\n",
      "  (pool1): MaxPool2d(kernel_size=2, stride=2, padding=0, dilation=1, ceil_mode=False)\n",
      "  (conv2): Conv2d(5, 10, kernel_size=(3, 3), stride=(1, 1), padding=same)\n",
      "  (pool2): MaxPool2d(kernel_size=2, stride=2, padding=0, dilation=1, ceil_mode=False)\n",
      "  (l1): Linear(in_features=490, out_features=30, bias=True)\n",
      "  (l2): Linear(in_features=30, out_features=10, bias=True)\n",
      ")\n"
     ]
    }
   ],
   "source": [
    "class Digitv2Network(nn.Module):\n",
    "    def __init__(self):\n",
    "        super().__init__()\n",
    "        self.relu = nn.ReLU()\n",
    "        self.conv1 = nn.Conv2d(\n",
    "            in_channels= 1,\n",
    "            out_channels= 5,\n",
    "            kernel_size= 3,\n",
    "            padding= \"same\",\n",
    "            padding_mode= \"zeros\",\n",
    "        )\n",
    "        self.pool1 = nn.MaxPool2d(\n",
    "            kernel_size= 2,\n",
    "            stride= 2,\n",
    "        )\n",
    "        self.conv2 = nn.Conv2d(\n",
    "            in_channels= 5,\n",
    "            out_channels= 10,\n",
    "            kernel_size= 3,\n",
    "            padding= \"same\",\n",
    "            padding_mode= \"zeros\",\n",
    "        )\n",
    "        self.pool2 = nn.MaxPool2d(\n",
    "            kernel_size= 2,\n",
    "            stride= 2,\n",
    "        )\n",
    "        self.l1 = nn.Linear(10 * 7 * 7, 30)\n",
    "        self.l2 = nn.Linear(30, 10)\n",
    "\n",
    "    def forward(self, x: torch.Tensor):\n",
    "        x = self.conv1(x)\n",
    "        x = self.relu(x)\n",
    "        x = self.pool1(x)\n",
    "        x = self.conv2(x)\n",
    "        x = self.relu(x)\n",
    "        x = self.pool2(x)\n",
    "        x = x.view(-1, 490)\n",
    "        x = self.l1(x)\n",
    "        x = self.relu(x)\n",
    "        x = self.l2(x)\n",
    "        return x\n",
    "\n",
    "model = Digitv2Network().to(device)\n",
    "print(model)"
   ],
   "metadata": {
    "collapsed": false,
    "pycharm": {
     "name": "#%%\n"
    }
   }
  },
  {
   "cell_type": "markdown",
   "source": [
    "### Training the model"
   ],
   "metadata": {
    "collapsed": false
   }
  },
  {
   "cell_type": "code",
   "execution_count": 167,
   "outputs": [
    {
     "name": "stdout",
     "output_type": "stream",
     "text": [
      "Epoch 1/20, step 100/600, loss = 2.2802\n",
      "Epoch 1/20, step 200/600, loss = 2.2776\n",
      "Epoch 1/20, step 300/600, loss = 2.2629\n",
      "Epoch 1/20, step 400/600, loss = 2.2388\n",
      "Epoch 1/20, step 500/600, loss = 2.1055\n",
      "Epoch 1/20, step 600/600, loss = 1.7813\n",
      "Epoch 2/20, step 100/600, loss = 1.0763\n",
      "Epoch 2/20, step 200/600, loss = 0.7333\n",
      "Epoch 2/20, step 300/600, loss = 0.3851\n",
      "Epoch 2/20, step 400/600, loss = 0.4885\n",
      "Epoch 2/20, step 500/600, loss = 0.4251\n",
      "Epoch 2/20, step 600/600, loss = 0.3438\n",
      "Epoch 3/20, step 100/600, loss = 0.3301\n",
      "Epoch 3/20, step 200/600, loss = 0.2302\n",
      "Epoch 3/20, step 300/600, loss = 0.2599\n",
      "Epoch 3/20, step 400/600, loss = 0.2696\n",
      "Epoch 3/20, step 500/600, loss = 0.2330\n",
      "Epoch 3/20, step 600/600, loss = 0.3097\n",
      "Epoch 4/20, step 100/600, loss = 0.2968\n",
      "Epoch 4/20, step 200/600, loss = 0.1772\n",
      "Epoch 4/20, step 300/600, loss = 0.3141\n",
      "Epoch 4/20, step 400/600, loss = 0.1536\n",
      "Epoch 4/20, step 500/600, loss = 0.1718\n",
      "Epoch 4/20, step 600/600, loss = 0.1696\n",
      "Epoch 5/20, step 100/600, loss = 0.2281\n",
      "Epoch 5/20, step 200/600, loss = 0.2014\n",
      "Epoch 5/20, step 300/600, loss = 0.0894\n",
      "Epoch 5/20, step 400/600, loss = 0.2750\n",
      "Epoch 5/20, step 500/600, loss = 0.2895\n",
      "Epoch 5/20, step 600/600, loss = 0.1434\n",
      "Epoch 6/20, step 100/600, loss = 0.0605\n",
      "Epoch 6/20, step 200/600, loss = 0.0423\n",
      "Epoch 6/20, step 300/600, loss = 0.1548\n",
      "Epoch 6/20, step 400/600, loss = 0.1583\n",
      "Epoch 6/20, step 500/600, loss = 0.1059\n",
      "Epoch 6/20, step 600/600, loss = 0.0820\n",
      "Epoch 7/20, step 100/600, loss = 0.0897\n",
      "Epoch 7/20, step 200/600, loss = 0.1295\n",
      "Epoch 7/20, step 300/600, loss = 0.1201\n",
      "Epoch 7/20, step 400/600, loss = 0.1318\n",
      "Epoch 7/20, step 500/600, loss = 0.0920\n",
      "Epoch 7/20, step 600/600, loss = 0.0832\n",
      "Epoch 8/20, step 100/600, loss = 0.1714\n",
      "Epoch 8/20, step 200/600, loss = 0.0799\n",
      "Epoch 8/20, step 300/600, loss = 0.1088\n",
      "Epoch 8/20, step 400/600, loss = 0.0479\n",
      "Epoch 8/20, step 500/600, loss = 0.1411\n",
      "Epoch 8/20, step 600/600, loss = 0.1361\n",
      "Epoch 9/20, step 100/600, loss = 0.0510\n",
      "Epoch 9/20, step 200/600, loss = 0.0563\n",
      "Epoch 9/20, step 300/600, loss = 0.1439\n",
      "Epoch 9/20, step 400/600, loss = 0.0835\n",
      "Epoch 9/20, step 500/600, loss = 0.1211\n",
      "Epoch 9/20, step 600/600, loss = 0.0872\n",
      "Epoch 10/20, step 100/600, loss = 0.1335\n",
      "Epoch 10/20, step 200/600, loss = 0.0764\n",
      "Epoch 10/20, step 300/600, loss = 0.0749\n",
      "Epoch 10/20, step 400/600, loss = 0.1558\n",
      "Epoch 10/20, step 500/600, loss = 0.1300\n",
      "Epoch 10/20, step 600/600, loss = 0.0221\n",
      "Epoch 11/20, step 100/600, loss = 0.1344\n",
      "Epoch 11/20, step 200/600, loss = 0.0637\n",
      "Epoch 11/20, step 300/600, loss = 0.0563\n",
      "Epoch 11/20, step 400/600, loss = 0.0920\n",
      "Epoch 11/20, step 500/600, loss = 0.1205\n",
      "Epoch 11/20, step 600/600, loss = 0.0575\n",
      "Epoch 12/20, step 100/600, loss = 0.1435\n",
      "Epoch 12/20, step 200/600, loss = 0.0593\n",
      "Epoch 12/20, step 300/600, loss = 0.1598\n",
      "Epoch 12/20, step 400/600, loss = 0.0418\n",
      "Epoch 12/20, step 500/600, loss = 0.1324\n",
      "Epoch 12/20, step 600/600, loss = 0.0407\n",
      "Epoch 13/20, step 100/600, loss = 0.0523\n",
      "Epoch 13/20, step 200/600, loss = 0.0724\n",
      "Epoch 13/20, step 300/600, loss = 0.1160\n",
      "Epoch 13/20, step 400/600, loss = 0.1196\n",
      "Epoch 13/20, step 500/600, loss = 0.0966\n",
      "Epoch 13/20, step 600/600, loss = 0.0516\n",
      "Epoch 14/20, step 100/600, loss = 0.0327\n",
      "Epoch 14/20, step 200/600, loss = 0.1082\n",
      "Epoch 14/20, step 300/600, loss = 0.0262\n",
      "Epoch 14/20, step 400/600, loss = 0.1100\n",
      "Epoch 14/20, step 500/600, loss = 0.0607\n",
      "Epoch 14/20, step 600/600, loss = 0.0170\n",
      "Epoch 15/20, step 100/600, loss = 0.0593\n",
      "Epoch 15/20, step 200/600, loss = 0.1633\n",
      "Epoch 15/20, step 300/600, loss = 0.0746\n",
      "Epoch 15/20, step 400/600, loss = 0.0841\n",
      "Epoch 15/20, step 500/600, loss = 0.1248\n",
      "Epoch 15/20, step 600/600, loss = 0.0635\n",
      "Epoch 16/20, step 100/600, loss = 0.1303\n",
      "Epoch 16/20, step 200/600, loss = 0.0648\n",
      "Epoch 16/20, step 300/600, loss = 0.0403\n",
      "Epoch 16/20, step 400/600, loss = 0.1193\n",
      "Epoch 16/20, step 500/600, loss = 0.0317\n",
      "Epoch 16/20, step 600/600, loss = 0.0650\n",
      "Epoch 17/20, step 100/600, loss = 0.0515\n",
      "Epoch 17/20, step 200/600, loss = 0.0593\n",
      "Epoch 17/20, step 300/600, loss = 0.0760\n",
      "Epoch 17/20, step 400/600, loss = 0.0491\n",
      "Epoch 17/20, step 500/600, loss = 0.0324\n",
      "Epoch 17/20, step 600/600, loss = 0.1060\n",
      "Epoch 18/20, step 100/600, loss = 0.2591\n",
      "Epoch 18/20, step 200/600, loss = 0.0197\n",
      "Epoch 18/20, step 300/600, loss = 0.1339\n",
      "Epoch 18/20, step 400/600, loss = 0.0294\n",
      "Epoch 18/20, step 500/600, loss = 0.0792\n",
      "Epoch 18/20, step 600/600, loss = 0.1458\n",
      "Epoch 19/20, step 100/600, loss = 0.0833\n",
      "Epoch 19/20, step 200/600, loss = 0.0653\n",
      "Epoch 19/20, step 300/600, loss = 0.0621\n",
      "Epoch 19/20, step 400/600, loss = 0.0465\n",
      "Epoch 19/20, step 500/600, loss = 0.0518\n",
      "Epoch 19/20, step 600/600, loss = 0.1126\n",
      "Epoch 20/20, step 100/600, loss = 0.0483\n",
      "Epoch 20/20, step 200/600, loss = 0.0850\n",
      "Epoch 20/20, step 300/600, loss = 0.0807\n",
      "Epoch 20/20, step 400/600, loss = 0.1192\n",
      "Epoch 20/20, step 500/600, loss = 0.0298\n",
      "Epoch 20/20, step 600/600, loss = 0.0751\n"
     ]
    }
   ],
   "source": [
    "criterion: nn.CrossEntropyLoss = nn.CrossEntropyLoss()\n",
    "optimizer: torch.optim.SGD = torch.optim.SGD(model.parameters(), lr= LEARN_RATE)\n",
    "\n",
    "n_steps = len(train_load)\n",
    "\n",
    "for epoch in range(EPOCHS):\n",
    "    for i, (img, label) in enumerate(train_load):\n",
    "\n",
    "        # forward pass\n",
    "        output = model(img)\n",
    "        loss: torch.Tensor = criterion(output, label)\n",
    "\n",
    "        # backpropagation\n",
    "        optimizer.zero_grad()\n",
    "        loss.backward()\n",
    "        optimizer.step()\n",
    "\n",
    "        if (i + 1) % TRAIN_BATCH_SZ == 0:\n",
    "            print(f\"Epoch {epoch + 1}/{EPOCHS}, step {i + 1}/{n_steps}, loss = {loss.item():.4f}\")"
   ],
   "metadata": {
    "collapsed": false,
    "pycharm": {
     "name": "#%%\n"
    }
   }
  },
  {
   "cell_type": "markdown",
   "source": [
    "### Testing the model"
   ],
   "metadata": {
    "collapsed": false
   }
  },
  {
   "cell_type": "code",
   "execution_count": 176,
   "outputs": [
    {
     "name": "stdout",
     "output_type": "stream",
     "text": [
      "Accuracy: 97.82%\n"
     ]
    }
   ],
   "source": [
    "with torch.no_grad():\n",
    "    correct = 0\n",
    "    total = 0\n",
    "    for img, labels in test_load:\n",
    "        output = model(img)\n",
    "        _, prediction = torch.max(output, 1)\n",
    "        total += labels.size(0)\n",
    "        correct += (prediction == labels).sum().item()\n",
    "\n",
    "    acc = 100.0 * correct / total\n",
    "    print(f\"Accuracy: {acc}%\")"
   ],
   "metadata": {
    "collapsed": false,
    "pycharm": {
     "name": "#%%\n"
    }
   }
  },
  {
   "cell_type": "markdown",
   "source": [
    "### Save"
   ],
   "metadata": {
    "collapsed": false
   }
  },
  {
   "cell_type": "code",
   "execution_count": 175,
   "outputs": [],
   "source": [
    "torch.save(model.state_dict, \"./digitsv2.pth\")"
   ],
   "metadata": {
    "collapsed": false,
    "pycharm": {
     "name": "#%%\n"
    }
   }
  }
 ],
 "metadata": {
  "kernelspec": {
   "display_name": "Python 3",
   "language": "python",
   "name": "python3"
  },
  "language_info": {
   "codemirror_mode": {
    "name": "ipython",
    "version": 2
   },
   "file_extension": ".py",
   "mimetype": "text/x-python",
   "name": "python",
   "nbconvert_exporter": "python",
   "pygments_lexer": "ipython2",
   "version": "2.7.6"
  }
 },
 "nbformat": 4,
 "nbformat_minor": 0
}