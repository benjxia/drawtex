{
 "cells": [
  {
   "cell_type": "markdown",
   "metadata": {
    "collapsed": true,
    "pycharm": {
     "name": "#%% md\n"
    }
   },
   "source": [
    "## Identify hand-drawn digits prototype v2"
   ]
  },
  {
   "cell_type": "markdown",
   "metadata": {
    "collapsed": false,
    "pycharm": {
     "name": "#%% md\n"
    }
   },
   "source": [
    "### Imports"
   ]
  },
  {
   "cell_type": "code",
   "execution_count": 98,
   "metadata": {
    "collapsed": false,
    "pycharm": {
     "name": "#%%\n"
    }
   },
   "outputs": [],
   "source": [
    "import torch\n",
    "import torchvision.transforms as transforms\n",
    "from torch import nn\n",
    "from torch.utils.data import DataLoader\n",
    "from torchvision import datasets\n",
    "from torchvision.transforms import ToTensor\n",
    "import matplotlib.pyplot as plt"
   ]
  },
  {
   "cell_type": "markdown",
   "metadata": {
    "collapsed": false,
    "pycharm": {
     "name": "#%% md\n"
    }
   },
   "source": [
    "### Hyperparameters and datasets"
   ]
  },
  {
   "cell_type": "code",
   "execution_count": 99,
   "metadata": {
    "collapsed": false,
    "pycharm": {
     "name": "#%%\n"
    }
   },
   "outputs": [
    {
     "name": "stdout",
     "output_type": "stream",
     "text": [
      "Using cuda device\n"
     ]
    }
   ],
   "source": [
    "INPUT_SIZE: int = 28 * 28\n",
    "CLASS_CNT: int = 10\n",
    "TRAIN_BATCH_SZ: int = 128\n",
    "TEST_BATCH_SZ: int = 1000\n",
    "EPOCHS: int = 40\n",
    "LEARN_RATE = 0.01\n",
    "\n",
    "torch.manual_seed(0x10f2c)\n",
    "\n",
    "transformation = transforms.Compose(\n",
    "    [transforms.ToTensor(), transforms.Normalize((0.5), (0.5))]\n",
    ")\n",
    "\n",
    "training_set: datasets.MNIST = datasets.MNIST(\n",
    "    root= \"./data\",\n",
    "    train= True,\n",
    "    download= True,\n",
    "    transform= transformation\n",
    ")\n",
    "\n",
    "test_set: datasets.MNIST = datasets.MNIST(\n",
    "    root= \"./data\",\n",
    "    train= False,\n",
    "    download= True,\n",
    "    transform= transformation\n",
    ")\n",
    "\n",
    "train_load: DataLoader = DataLoader(\n",
    "    dataset= training_set,\n",
    "    batch_size= TRAIN_BATCH_SZ,\n",
    "    shuffle= True,\n",
    "    pin_memory= True,\n",
    "    num_workers= 4\n",
    ")\n",
    "\n",
    "test_load: DataLoader = DataLoader(\n",
    "    dataset= test_set,\n",
    "    batch_size= TEST_BATCH_SZ,\n",
    "    shuffle= False,\n",
    "    pin_memory= True,\n",
    "    num_workers= 4\n",
    ")\n",
    "\n",
    "device: str = \"cuda\" if torch.cuda.is_available() else \"cpu\"\n",
    "print(f\"Using {device} device\")"
   ]
  },
  {
   "cell_type": "markdown",
   "metadata": {
    "collapsed": false,
    "pycharm": {
     "name": "#%% md\n"
    }
   },
   "source": [
    "### Demo Training Data"
   ]
  },
  {
   "cell_type": "code",
   "execution_count": 100,
   "metadata": {
    "collapsed": false,
    "pycharm": {
     "name": "#%%\n"
    }
   },
   "outputs": [
    {
     "data": {
      "image/png": "[encoded data removed]",
      "text/plain": [
       "<Figure size 640x480 with 16 Axes>"
      ]
     },
     "metadata": {},
     "output_type": "display_data"
    }
   ],
   "source": [
    "load_enumerate = enumerate(train_load)\n",
    "idx, (demo_data, demo_target) = next(load_enumerate)\n",
    "\n",
    "fig: plt.figure = plt.figure()\n",
    "\n",
    "for i in range(16):\n",
    "    plt.subplot(4, 4, i + 1)\n",
    "    plt.tight_layout()\n",
    "    plt.imshow(demo_data[i][0], cmap= \"gray\", interpolation= \"none\")\n",
    "    plt.title(f\"Actual: {demo_target[i]}\")\n",
    "    plt.xticks([])\n",
    "    plt.yticks([])\n"
   ]
  },
  {
   "cell_type": "markdown",
   "metadata": {
    "collapsed": false
   },
   "source": [
    "### Model Definition"
   ]
  },
  {
   "cell_type": "code",
   "execution_count": 101,
   "metadata": {
    "collapsed": false,
    "pycharm": {
     "name": "#%%\n"
    }
   },
   "outputs": [
    {
     "name": "stdout",
     "output_type": "stream",
     "text": [
      "Digitv2Network(\n",
      "  (relu): ReLU()\n",
      "  (conv1): Conv2d(1, 5, kernel_size=(3, 3), stride=(1, 1), padding=same)\n",
      "  (pool1): MaxPool2d(kernel_size=2, stride=2, padding=0, dilation=1, ceil_mode=False)\n",
      "  (conv2): Conv2d(5, 10, kernel_size=(3, 3), stride=(1, 1), padding=same)\n",
      "  (pool2): MaxPool2d(kernel_size=2, stride=2, padding=0, dilation=1, ceil_mode=False)\n",
      "  (l1): Linear(in_features=490, out_features=30, bias=True)\n",
      "  (l2): Linear(in_features=30, out_features=10, bias=True)\n",
      ")\n"
     ]
    }
   ],
   "source": [
    "class Digitv2Network(nn.Module):\n",
    "    def __init__(self):\n",
    "        super().__init__()\n",
    "        self.relu = nn.ReLU()\n",
    "        self.conv1 = nn.Conv2d(\n",
    "            in_channels= 1,\n",
    "            out_channels= 5,\n",
    "            kernel_size= 3,\n",
    "            padding= \"same\",\n",
    "            padding_mode= \"zeros\",\n",
    "        )\n",
    "        self.pool1 = nn.MaxPool2d(\n",
    "            kernel_size= 2,\n",
    "            stride= 2,\n",
    "        )\n",
    "        self.conv2 = nn.Conv2d(\n",
    "            in_channels= 5,\n",
    "            out_channels= 10,\n",
    "            kernel_size= 3,\n",
    "            padding= \"same\",\n",
    "            padding_mode= \"zeros\",\n",
    "        )\n",
    "        self.pool2 = nn.MaxPool2d(\n",
    "            kernel_size= 2,\n",
    "            stride= 2,\n",
    "        )\n",
    "        self.l1 = nn.Linear(10 * 7 * 7, 30)\n",
    "        self.l2 = nn.Linear(30, 10)\n",
    "\n",
    "    def forward(self, x: torch.Tensor):\n",
    "        x = self.conv1(x)\n",
    "        x = self.relu(x)\n",
    "        x = self.pool1(x)\n",
    "        x = self.conv2(x)\n",
    "        x = self.relu(x)\n",
    "        x = self.pool2(x)\n",
    "        x = x.view(-1, 490)\n",
    "        x = self.l1(x)\n",
    "        x = self.relu(x)\n",
    "        x = self.l2(x)\n",
    "        return x\n",
    "\n",
    "model = Digitv2Network().to(device)\n",
    "print(model)"
   ]
  },
  {
   "cell_type": "markdown",
   "metadata": {
    "collapsed": false
   },
   "source": [
    "### Training the model"
   ]
  },
  {
   "cell_type": "code",
   "execution_count": 102,
   "metadata": {
    "collapsed": false,
    "pycharm": {
     "name": "#%%\n"
    }
   },
   "outputs": [
    {
     "name": "stdout",
     "output_type": "stream",
     "text": [
      "Epoch 1/40, step 128/469, loss = 2.2868\n",
      "Epoch 1/40, step 256/469, loss = 2.2622\n",
      "Epoch 1/40, step 384/469, loss = 2.2145\n",
      "Epoch 2/40, step 128/469, loss = 1.6401\n",
      "Epoch 2/40, step 256/469, loss = 0.7356\n",
      "Epoch 2/40, step 384/469, loss = 0.5133\n",
      "Epoch 3/40, step 128/469, loss = 0.2056\n",
      "Epoch 3/40, step 256/469, loss = 0.5028\n",
      "Epoch 3/40, step 384/469, loss = 0.3244\n",
      "Epoch 4/40, step 128/469, loss = 0.4385\n",
      "Epoch 4/40, step 256/469, loss = 0.2077\n",
      "Epoch 4/40, step 384/469, loss = 0.2453\n",
      "Epoch 5/40, step 128/469, loss = 0.1896\n",
      "Epoch 5/40, step 256/469, loss = 0.2273\n",
      "Epoch 5/40, step 384/469, loss = 0.2662\n",
      "Epoch 6/40, step 128/469, loss = 0.1726\n",
      "Epoch 6/40, step 256/469, loss = 0.1878\n",
      "Epoch 6/40, step 384/469, loss = 0.1326\n",
      "Epoch 7/40, step 128/469, loss = 0.1411\n",
      "Epoch 7/40, step 256/469, loss = 0.1956\n",
      "Epoch 7/40, step 384/469, loss = 0.0540\n",
      "Epoch 8/40, step 128/469, loss = 0.1889\n",
      "Epoch 8/40, step 256/469, loss = 0.1255\n",
      "Epoch 8/40, step 384/469, loss = 0.1834\n",
      "Epoch 9/40, step 128/469, loss = 0.1394\n",
      "Epoch 9/40, step 256/469, loss = 0.1034\n",
      "Epoch 9/40, step 384/469, loss = 0.1008\n",
      "Epoch 10/40, step 128/469, loss = 0.1344\n",
      "Epoch 10/40, step 256/469, loss = 0.0599\n",
      "Epoch 10/40, step 384/469, loss = 0.0532\n",
      "Epoch 11/40, step 128/469, loss = 0.1098\n",
      "Epoch 11/40, step 256/469, loss = 0.0455\n",
      "Epoch 11/40, step 384/469, loss = 0.0935\n",
      "Epoch 12/40, step 128/469, loss = 0.1440\n",
      "Epoch 12/40, step 256/469, loss = 0.0987\n",
      "Epoch 12/40, step 384/469, loss = 0.0684\n",
      "Epoch 13/40, step 128/469, loss = 0.0800\n",
      "Epoch 13/40, step 256/469, loss = 0.0589\n",
      "Epoch 13/40, step 384/469, loss = 0.0661\n",
      "Epoch 14/40, step 128/469, loss = 0.0701\n",
      "Epoch 14/40, step 256/469, loss = 0.0483\n",
      "Epoch 14/40, step 384/469, loss = 0.0619\n",
      "Epoch 15/40, step 128/469, loss = 0.0525\n",
      "Epoch 15/40, step 256/469, loss = 0.1042\n",
      "Epoch 15/40, step 384/469, loss = 0.0455\n",
      "Epoch 16/40, step 128/469, loss = 0.0506\n",
      "Epoch 16/40, step 256/469, loss = 0.0973\n",
      "Epoch 16/40, step 384/469, loss = 0.0283\n",
      "Epoch 17/40, step 128/469, loss = 0.0957\n",
      "Epoch 17/40, step 256/469, loss = 0.0344\n",
      "Epoch 17/40, step 384/469, loss = 0.0717\n",
      "Epoch 18/40, step 128/469, loss = 0.1160\n",
      "Epoch 18/40, step 256/469, loss = 0.0546\n",
      "Epoch 18/40, step 384/469, loss = 0.0944\n",
      "Epoch 19/40, step 128/469, loss = 0.0952\n",
      "Epoch 19/40, step 256/469, loss = 0.0845\n",
      "Epoch 19/40, step 384/469, loss = 0.1033\n",
      "Epoch 20/40, step 128/469, loss = 0.0430\n",
      "Epoch 20/40, step 256/469, loss = 0.0434\n",
      "Epoch 20/40, step 384/469, loss = 0.0884\n",
      "Epoch 21/40, step 128/469, loss = 0.0943\n",
      "Epoch 21/40, step 256/469, loss = 0.0551\n",
      "Epoch 21/40, step 384/469, loss = 0.1090\n",
      "Epoch 22/40, step 128/469, loss = 0.0471\n",
      "Epoch 22/40, step 256/469, loss = 0.0667\n",
      "Epoch 22/40, step 384/469, loss = 0.0448\n",
      "Epoch 23/40, step 128/469, loss = 0.0930\n",
      "Epoch 23/40, step 256/469, loss = 0.0486\n",
      "Epoch 23/40, step 384/469, loss = 0.0324\n",
      "Epoch 24/40, step 128/469, loss = 0.0795\n",
      "Epoch 24/40, step 256/469, loss = 0.0352\n",
      "Epoch 24/40, step 384/469, loss = 0.0678\n",
      "Epoch 25/40, step 128/469, loss = 0.0639\n",
      "Epoch 25/40, step 256/469, loss = 0.0382\n",
      "Epoch 25/40, step 384/469, loss = 0.0278\n",
      "Epoch 26/40, step 128/469, loss = 0.0573\n",
      "Epoch 26/40, step 256/469, loss = 0.0431\n",
      "Epoch 26/40, step 384/469, loss = 0.0453\n",
      "Epoch 27/40, step 128/469, loss = 0.0555\n",
      "Epoch 27/40, step 256/469, loss = 0.1115\n",
      "Epoch 27/40, step 384/469, loss = 0.0769\n",
      "Epoch 28/40, step 128/469, loss = 0.0492\n",
      "Epoch 28/40, step 256/469, loss = 0.0473\n",
      "Epoch 28/40, step 384/469, loss = 0.0448\n",
      "Epoch 29/40, step 128/469, loss = 0.0428\n",
      "Epoch 29/40, step 256/469, loss = 0.0978\n",
      "Epoch 29/40, step 384/469, loss = 0.0921\n",
      "Epoch 30/40, step 128/469, loss = 0.0580\n",
      "Epoch 30/40, step 256/469, loss = 0.0577\n",
      "Epoch 30/40, step 384/469, loss = 0.0379\n",
      "Epoch 31/40, step 128/469, loss = 0.1070\n",
      "Epoch 31/40, step 256/469, loss = 0.0658\n",
      "Epoch 31/40, step 384/469, loss = 0.0528\n",
      "Epoch 32/40, step 128/469, loss = 0.0149\n",
      "Epoch 32/40, step 256/469, loss = 0.0498\n",
      "Epoch 32/40, step 384/469, loss = 0.0444\n",
      "Epoch 33/40, step 128/469, loss = 0.0486\n",
      "Epoch 33/40, step 256/469, loss = 0.0388\n",
      "Epoch 33/40, step 384/469, loss = 0.0424\n",
      "Epoch 34/40, step 128/469, loss = 0.0795\n",
      "Epoch 34/40, step 256/469, loss = 0.0406\n",
      "Epoch 34/40, step 384/469, loss = 0.0445\n",
      "Epoch 35/40, step 128/469, loss = 0.0584\n",
      "Epoch 35/40, step 256/469, loss = 0.0177\n",
      "Epoch 35/40, step 384/469, loss = 0.0636\n",
      "Epoch 36/40, step 128/469, loss = 0.0179\n",
      "Epoch 36/40, step 256/469, loss = 0.0528\n",
      "Epoch 36/40, step 384/469, loss = 0.0592\n",
      "Epoch 37/40, step 128/469, loss = 0.0896\n",
      "Epoch 37/40, step 256/469, loss = 0.0158\n",
      "Epoch 37/40, step 384/469, loss = 0.0340\n",
      "Epoch 38/40, step 128/469, loss = 0.0869\n",
      "Epoch 38/40, step 256/469, loss = 0.0317\n",
      "Epoch 38/40, step 384/469, loss = 0.0312\n",
      "Epoch 39/40, step 128/469, loss = 0.1114\n",
      "Epoch 39/40, step 256/469, loss = 0.0251\n",
      "Epoch 39/40, step 384/469, loss = 0.0096\n",
      "Epoch 40/40, step 128/469, loss = 0.0345\n",
      "Epoch 40/40, step 256/469, loss = 0.0277\n",
      "Epoch 40/40, step 384/469, loss = 0.0409\n"
     ]
    }
   ],
   "source": [
    "criterion: nn.CrossEntropyLoss = nn.CrossEntropyLoss()\n",
    "optimizer: torch.optim.SGD = torch.optim.SGD(model.parameters(), lr= LEARN_RATE)\n",
    "\n",
    "n_steps = len(train_load)\n",
    "\n",
    "for epoch in range(EPOCHS):\n",
    "    for i, (img, label) in enumerate(train_load):\n",
    "        img = img.to(device, non_blocking= True)\n",
    "        label = label.to(device, non_blocking= True)\n",
    "        # forward pass\n",
    "        output = model(img)\n",
    "        loss: torch.Tensor = criterion(output, label).to(device)\n",
    "\n",
    "        # backpropagation\n",
    "        optimizer.zero_grad()\n",
    "        loss.backward()\n",
    "        optimizer.step()\n",
    "\n",
    "        if (i + 1) % TRAIN_BATCH_SZ == 0:\n",
    "            print(f\"Epoch {epoch + 1}/{EPOCHS}, step {i + 1}/{n_steps}, loss = {loss.item():.4f}\")"
   ]
  },
  {
   "cell_type": "markdown",
   "metadata": {
    "collapsed": false
   },
   "source": [
    "### Testing the model"
   ]
  },
  {
   "cell_type": "code",
   "execution_count": 103,
   "metadata": {
    "collapsed": false,
    "pycharm": {
     "name": "#%%\n"
    }
   },
   "outputs": [
    {
     "name": "stdout",
     "output_type": "stream",
     "text": [
      "Accuracy: 98.32%\n"
     ]
    }
   ],
   "source": [
    "with torch.no_grad():\n",
    "    correct = 0\n",
    "    total = 0\n",
    "    for img, labels in test_load:\n",
    "        img = img.to(device, non_blocking= True)\n",
    "        labels = labels.to(device, non_blocking= True)\n",
    "        \n",
    "        output = model(img)\n",
    "        _, prediction = torch.max(output, 1)\n",
    "        total += labels.size(0)\n",
    "        correct += (prediction == labels).sum().item()\n",
    "\n",
    "    acc = 100.0 * correct / total\n",
    "    print(f\"Accuracy: {acc}%\")"
   ]
  },
  {
   "cell_type": "markdown",
   "metadata": {
    "collapsed": false
   },
   "source": [
    "### Save"
   ]
  },
  {
   "cell_type": "code",
   "execution_count": 104,
   "metadata": {
    "collapsed": false,
    "pycharm": {
     "name": "#%%\n"
    }
   },
   "outputs": [
    {
     "name": "stdout",
     "output_type": "stream",
     "text": [
      "NVIDIA GeForce GTX 1080\n"
     ]
    }
   ],
   "source": [
    "torch.save(model.state_dict, \"./digitsv2.pth\")\n",
    "print(torch.cuda.get_device_name())"
   ]
  }
 ],
 "metadata": {
  "kernelspec": {
   "display_name": "Python 3.9.0 64-bit",
   "language": "python",
   "name": "python3"
  },
  "language_info": {
   "codemirror_mode": {
    "name": "ipython",
    "version": 3
   },
   "file_extension": ".py",
   "mimetype": "text/x-python",
   "name": "python",
   "nbconvert_exporter": "python",
   "pygments_lexer": "ipython3",
   "version": "3.9.0"
  },
  "vscode": {
   "interpreter": {
    "hash": "cc82db2dc128658da88fa564359fe123ee9c6914f8c7963941acb47815200485"
   }
  }
 },
 "nbformat": 4,
 "nbformat_minor": 0
}
