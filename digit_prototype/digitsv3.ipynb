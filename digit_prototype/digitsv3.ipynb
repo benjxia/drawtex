{
 "cells": [
  {
   "cell_type": "markdown",
   "metadata": {
    "collapsed": true,
    "pycharm": {
     "name": "#%% md\n"
    }
   },
   "source": [
    "## Identify hand-drawn digits prototype v3"
   ]
  },
  {
   "cell_type": "markdown",
   "metadata": {
    "collapsed": false,
    "pycharm": {
     "name": "#%% md\n"
    }
   },
   "source": [
    "### Imports"
   ]
  },
  {
   "cell_type": "code",
   "execution_count": 7,
   "metadata": {
    "collapsed": false,
    "pycharm": {
     "name": "#%%\n"
    }
   },
   "outputs": [],
   "source": [
    "import torch\n",
    "import torchvision.transforms as transforms\n",
    "from torch import nn\n",
    "from torch.utils.data import DataLoader\n",
    "from torchvision import datasets\n",
    "from torchvision.transforms import ToTensor\n",
    "import matplotlib.pyplot as plt\n",
    "import numpy as np"
   ]
  },
  {
   "cell_type": "markdown",
   "metadata": {
    "collapsed": false,
    "pycharm": {
     "name": "#%% md\n"
    }
   },
   "source": [
    "### Hyperparameters and datasets"
   ]
  },
  {
   "cell_type": "code",
   "execution_count": 8,
   "metadata": {
    "collapsed": false,
    "pycharm": {
     "name": "#%%\n"
    }
   },
   "outputs": [
    {
     "name": "stdout",
     "output_type": "stream",
     "text": [
      "Using cpu device\n"
     ]
    }
   ],
   "source": [
    "INPUT_SIZE: int = 28 * 28\n",
    "CLASS_CNT: int = 10\n",
    "TRAIN_BATCH_SZ: int = 100\n",
    "TEST_BATCH_SZ: int = 1000\n",
    "EPOCHS: int = 100\n",
    "LEARN_RATE = 0.001\n",
    "\n",
    "torch.manual_seed(42)\n",
    "\n",
    "transformation = transforms.Compose(\n",
    "    [transforms.ToTensor(), transforms.Normalize((0.5), (0.5))]\n",
    ")\n",
    "\n",
    "training_set: datasets.MNIST = datasets.MNIST(\n",
    "    root= \"./data\",\n",
    "    train= True,\n",
    "    download= True,\n",
    "    transform= transformation\n",
    ")\n",
    "\n",
    "test_set: datasets.MNIST = datasets.MNIST(\n",
    "    root= \"./data\",\n",
    "    train= False,\n",
    "    download= True,\n",
    "    transform= transformation\n",
    ")\n",
    "\n",
    "train_load: DataLoader = DataLoader(\n",
    "    dataset= training_set,\n",
    "    batch_size= TRAIN_BATCH_SZ,\n",
    "    shuffle= True,\n",
    "    pin_memory= True,\n",
    "    num_workers= 4\n",
    ")\n",
    "\n",
    "test_load: DataLoader = DataLoader(\n",
    "    dataset= test_set,\n",
    "    batch_size= TEST_BATCH_SZ,\n",
    "    shuffle= False,\n",
    "    pin_memory= True,\n",
    "    num_workers= 4\n",
    ")\n",
    "\n",
    "device: str = \"cuda\" if torch.cuda.is_available() else \"cpu\"\n",
    "print(f\"Using {device} device\")"
   ]
  },
  {
   "cell_type": "markdown",
   "metadata": {
    "collapsed": false,
    "pycharm": {
     "name": "#%% md\n"
    }
   },
   "source": [
    "### Demo Training Data"
   ]
  },
  {
   "cell_type": "code",
   "execution_count": 9,
   "metadata": {
    "collapsed": false,
    "pycharm": {
     "name": "#%%\n"
    }
   },
   "outputs": [
    {
     "data": {
      "text/plain": "<Figure size 432x288 with 16 Axes>",
      "image/png": "[encoded data removed]"
     },
     "metadata": {},
     "output_type": "display_data"
    }
   ],
   "source": [
    "load_enumerate = enumerate(train_load)\n",
    "idx, (demo_data, demo_target) = next(load_enumerate)\n",
    "\n",
    "fig: plt.figure = plt.figure()\n",
    "\n",
    "for i in range(16):\n",
    "    plt.subplot(4, 4, i + 1)\n",
    "    plt.tight_layout()\n",
    "    plt.imshow(demo_data[i][0], cmap= \"gray\", interpolation= \"none\")\n",
    "    plt.title(f\"Actual: {demo_target[i]}\")\n",
    "    plt.xticks([])\n",
    "    plt.yticks([])\n"
   ]
  },
  {
   "cell_type": "markdown",
   "metadata": {
    "collapsed": false
   },
   "source": [
    "### Model Definition"
   ]
  },
  {
   "cell_type": "code",
   "execution_count": 10,
   "metadata": {
    "collapsed": false,
    "pycharm": {
     "name": "#%%\n"
    }
   },
   "outputs": [
    {
     "name": "stdout",
     "output_type": "stream",
     "text": [
      "Digitv2Network(\n",
      "  (relu): ReLU()\n",
      "  (pool): MaxPool2d(kernel_size=2, stride=2, padding=0, dilation=1, ceil_mode=False)\n",
      "  (conv1): Conv2d(1, 5, kernel_size=(2, 2), stride=(1, 1), padding=same)\n",
      "  (conv2): Conv2d(5, 10, kernel_size=(3, 3), stride=(1, 1), padding=same)\n",
      "  (conv3): Conv2d(10, 20, kernel_size=(2, 2), stride=(1, 1), padding=same)\n",
      "  (conv4): Conv2d(20, 40, kernel_size=(2, 2), stride=(1, 1), padding=same)\n",
      "  (l1): Linear(in_features=1960, out_features=980, bias=True)\n",
      "  (l2): Linear(in_features=980, out_features=500, bias=True)\n",
      "  (l3): Linear(in_features=500, out_features=100, bias=True)\n",
      "  (l4): Linear(in_features=100, out_features=10, bias=True)\n",
      ")\n"
     ]
    }
   ],
   "source": [
    "class Digitv2Network(nn.Module):\n",
    "    def __init__(self):\n",
    "        super().__init__()\n",
    "        self.relu = nn.ReLU()\n",
    "        self.pool = nn.MaxPool2d(\n",
    "            kernel_size= 2,\n",
    "            stride= 2,\n",
    "        )\n",
    "        self.conv1 = nn.Conv2d(\n",
    "            in_channels= 1,\n",
    "            out_channels= 5,\n",
    "            kernel_size= 2,\n",
    "            padding= \"same\",\n",
    "            padding_mode= \"zeros\",\n",
    "        )\n",
    "        self.conv2 = nn.Conv2d(\n",
    "            in_channels= 5,\n",
    "            out_channels= 10,\n",
    "            kernel_size= 3,\n",
    "            padding= \"same\",\n",
    "            padding_mode= \"zeros\",\n",
    "        )\n",
    "        self.conv3 = nn.Conv2d(\n",
    "            in_channels= 10,\n",
    "            out_channels= 20,\n",
    "            kernel_size= 2,\n",
    "            padding= \"same\",\n",
    "            padding_mode= \"zeros\",\n",
    "        )\n",
    "        self.conv4 = nn.Conv2d(\n",
    "            in_channels= 20,\n",
    "            out_channels= 40,\n",
    "            kernel_size= 2,\n",
    "            padding= \"same\",\n",
    "            padding_mode= \"zeros\"\n",
    "        )\n",
    "        self.l1 = nn.Linear(int(40 * INPUT_SIZE / 16), 980)\n",
    "        self.l2 = nn.Linear(980, 500)\n",
    "        self.l3 = nn.Linear(500, 100)\n",
    "        self.l4 = nn.Linear(100, CLASS_CNT)\n",
    "\n",
    "    def forward(self, x: torch.Tensor):\n",
    "        x = self.conv1(x)\n",
    "        x = self.relu(x)\n",
    "        x = self.conv2(x)\n",
    "        x = self.relu(x)\n",
    "        x = self.pool(x)\n",
    "        x = self.conv3(x)\n",
    "        x = self.relu(x)\n",
    "        x = self.conv4(x)\n",
    "        x = self.pool(x)\n",
    "        x = x.view(-1, int(40 * INPUT_SIZE / 16))\n",
    "        x = self.l1(x)\n",
    "        x = self.relu(x)\n",
    "        x = self.l2(x)\n",
    "        x = self.relu(x)\n",
    "        x = self.l3(x)\n",
    "        x = self.relu(x)\n",
    "        x = self.l4(x)\n",
    "        return x\n",
    "\n",
    "model = Digitv2Network().to(device)\n",
    "print(model)"
   ]
  },
  {
   "cell_type": "markdown",
   "metadata": {
    "collapsed": false
   },
   "source": [
    "### Training the model"
   ]
  },
  {
   "cell_type": "code",
   "execution_count": 11,
   "metadata": {
    "collapsed": false,
    "pycharm": {
     "name": "#%%\n"
    }
   },
   "outputs": [
    {
     "name": "stdout",
     "output_type": "stream",
     "text": [
      "Epoch 1/100, step 100/600, loss = 2.3041\n",
      "Epoch 1/100, step 200/600, loss = 2.2996\n",
      "Epoch 1/100, step 300/600, loss = 2.3000\n",
      "Epoch 1/100, step 400/600, loss = 2.3002\n",
      "Epoch 1/100, step 500/600, loss = 2.3007\n",
      "Epoch 1/100, step 600/600, loss = 2.3019\n",
      "Epoch 2/100, step 100/600, loss = 2.3035\n",
      "Epoch 2/100, step 200/600, loss = 2.3057\n"
     ]
    },
    {
     "ename": "KeyboardInterrupt",
     "evalue": "",
     "output_type": "error",
     "traceback": [
      "\u001B[1;31m---------------------------------------------------------------------------\u001B[0m",
      "\u001B[1;31mKeyboardInterrupt\u001B[0m                         Traceback (most recent call last)",
      "\u001B[1;32m~\\AppData\\Local\\Temp/ipykernel_17060/4031659070.py\u001B[0m in \u001B[0;36m<module>\u001B[1;34m\u001B[0m\n\u001B[0;32m     13\u001B[0m \u001B[1;33m\u001B[0m\u001B[0m\n\u001B[0;32m     14\u001B[0m         \u001B[1;31m# backpropagation\u001B[0m\u001B[1;33m\u001B[0m\u001B[1;33m\u001B[0m\u001B[1;33m\u001B[0m\u001B[0m\n\u001B[1;32m---> 15\u001B[1;33m         \u001B[0moptimizer\u001B[0m\u001B[1;33m.\u001B[0m\u001B[0mzero_grad\u001B[0m\u001B[1;33m(\u001B[0m\u001B[1;33m)\u001B[0m\u001B[1;33m\u001B[0m\u001B[1;33m\u001B[0m\u001B[0m\n\u001B[0m\u001B[0;32m     16\u001B[0m         \u001B[0mloss\u001B[0m\u001B[1;33m.\u001B[0m\u001B[0mbackward\u001B[0m\u001B[1;33m(\u001B[0m\u001B[1;33m)\u001B[0m\u001B[1;33m\u001B[0m\u001B[1;33m\u001B[0m\u001B[0m\n\u001B[0;32m     17\u001B[0m         \u001B[0moptimizer\u001B[0m\u001B[1;33m.\u001B[0m\u001B[0mstep\u001B[0m\u001B[1;33m(\u001B[0m\u001B[1;33m)\u001B[0m\u001B[1;33m\u001B[0m\u001B[1;33m\u001B[0m\u001B[0m\n",
      "\u001B[1;32mc:\\program files\\python39\\lib\\site-packages\\torch\\optim\\optimizer.py\u001B[0m in \u001B[0;36mzero_grad\u001B[1;34m(self, set_to_none)\u001B[0m\n\u001B[0;32m    220\u001B[0m                                 \u001B[0mp\u001B[0m\u001B[1;33m.\u001B[0m\u001B[0mgrad\u001B[0m\u001B[1;33m.\u001B[0m\u001B[0mrequires_grad_\u001B[0m\u001B[1;33m(\u001B[0m\u001B[1;32mFalse\u001B[0m\u001B[1;33m)\u001B[0m\u001B[1;33m\u001B[0m\u001B[1;33m\u001B[0m\u001B[0m\n\u001B[0;32m    221\u001B[0m                             \u001B[1;32mif\u001B[0m \u001B[1;33m(\u001B[0m\u001B[1;32mnot\u001B[0m \u001B[0mforeach\u001B[0m \u001B[1;32mor\u001B[0m \u001B[0mp\u001B[0m\u001B[1;33m.\u001B[0m\u001B[0mgrad\u001B[0m\u001B[1;33m.\u001B[0m\u001B[0mis_sparse\u001B[0m\u001B[1;33m)\u001B[0m\u001B[1;33m:\u001B[0m\u001B[1;33m\u001B[0m\u001B[1;33m\u001B[0m\u001B[0m\n\u001B[1;32m--> 222\u001B[1;33m                                 \u001B[0mp\u001B[0m\u001B[1;33m.\u001B[0m\u001B[0mgrad\u001B[0m\u001B[1;33m.\u001B[0m\u001B[0mzero_\u001B[0m\u001B[1;33m(\u001B[0m\u001B[1;33m)\u001B[0m\u001B[1;33m\u001B[0m\u001B[1;33m\u001B[0m\u001B[0m\n\u001B[0m\u001B[0;32m    223\u001B[0m                             \u001B[1;32melse\u001B[0m\u001B[1;33m:\u001B[0m\u001B[1;33m\u001B[0m\u001B[1;33m\u001B[0m\u001B[0m\n\u001B[0;32m    224\u001B[0m                                 \u001B[0mper_device_and_dtype_grads\u001B[0m\u001B[1;33m[\u001B[0m\u001B[0mp\u001B[0m\u001B[1;33m.\u001B[0m\u001B[0mgrad\u001B[0m\u001B[1;33m.\u001B[0m\u001B[0mdevice\u001B[0m\u001B[1;33m]\u001B[0m\u001B[1;33m[\u001B[0m\u001B[0mp\u001B[0m\u001B[1;33m.\u001B[0m\u001B[0mgrad\u001B[0m\u001B[1;33m.\u001B[0m\u001B[0mdtype\u001B[0m\u001B[1;33m]\u001B[0m\u001B[1;33m.\u001B[0m\u001B[0mappend\u001B[0m\u001B[1;33m(\u001B[0m\u001B[0mp\u001B[0m\u001B[1;33m.\u001B[0m\u001B[0mgrad\u001B[0m\u001B[1;33m)\u001B[0m\u001B[1;33m\u001B[0m\u001B[1;33m\u001B[0m\u001B[0m\n",
      "\u001B[1;31mKeyboardInterrupt\u001B[0m: "
     ]
    }
   ],
   "source": [
    "criterion: nn.CrossEntropyLoss = nn.CrossEntropyLoss()\n",
    "optimizer: torch.optim.SGD = torch.optim.SGD(model.parameters(), lr= LEARN_RATE)\n",
    "\n",
    "n_steps = len(train_load)\n",
    "\n",
    "for epoch in range(EPOCHS):\n",
    "    for i, (img, label) in enumerate(train_load):\n",
    "        img = img.to(device, non_blocking= True)\n",
    "        label = label.to(device, non_blocking= True)\n",
    "        # forward pass\n",
    "        output = model(img)\n",
    "        loss: torch.Tensor = criterion(output, label).to(device)\n",
    "\n",
    "        # backpropagation\n",
    "        optimizer.zero_grad()\n",
    "        loss.backward()\n",
    "        optimizer.step()\n",
    "\n",
    "        if (i + 1) % TRAIN_BATCH_SZ == 0:\n",
    "            print(f\"Epoch {epoch + 1}/{EPOCHS}, step {i + 1}/{n_steps}, loss = {loss.item():.4f}\")"
   ]
  },
  {
   "cell_type": "markdown",
   "metadata": {
    "collapsed": false
   },
   "source": [
    "### Testing the model"
   ]
  },
  {
   "cell_type": "code",
   "execution_count": null,
   "metadata": {
    "collapsed": false,
    "pycharm": {
     "name": "#%%\n"
    }
   },
   "outputs": [],
   "source": [
    "with torch.no_grad():\n",
    "    correct = 0\n",
    "    total = 0\n",
    "    for img, labels in test_load:\n",
    "        img = img.to(device, non_blocking= True)\n",
    "        labels = labels.to(device, non_blocking= True)\n",
    "        \n",
    "        output = model(img)\n",
    "        _, prediction = torch.max(output, 1)\n",
    "        total += labels.size(0)\n",
    "        correct += (prediction == labels).sum().item()\n",
    "\n",
    "    acc = 100.0 * correct / total\n",
    "    print(f\"Accuracy: {acc}%\")"
   ]
  },
  {
   "cell_type": "markdown",
   "metadata": {
    "collapsed": false
   },
   "source": [
    "### Save"
   ]
  },
  {
   "cell_type": "code",
   "execution_count": null,
   "metadata": {
    "collapsed": false,
    "pycharm": {
     "name": "#%%\n"
    }
   },
   "outputs": [],
   "source": [
    "torch.save(model.state_dict(), \"./digitsv2.pth\")"
   ]
  },
  {
   "cell_type": "markdown",
   "source": [
    "### Model Demo"
   ],
   "metadata": {
    "collapsed": false
   }
  },
  {
   "cell_type": "code",
   "execution_count": null,
   "outputs": [],
   "source": [
    "with torch.no_grad():\n",
    "    i, (img, label) = next(enumerate(test_load))\n",
    "    idx = int(np.random.rand() * TEST_BATCH_SZ)\n",
    "    output: torch.Tensor = model(img[idx])\n",
    "\n",
    "    outlist = [i.item() for i in list(output[0])]\n",
    "    print(f\"Predicted: {outlist.index(max(outlist))}\")\n",
    "    print(f\"Actual: {label[idx]}\")\n",
    "    plt.imshow(img[idx][0], cmap= \"gray\", interpolation= \"none\")\n"
   ],
   "metadata": {
    "collapsed": false,
    "pycharm": {
     "name": "#%%\n"
    }
   }
  }
 ],
 "metadata": {
  "kernelspec": {
   "display_name": "Python 3.9.0 64-bit",
   "language": "python",
   "name": "python3"
  },
  "language_info": {
   "codemirror_mode": {
    "name": "ipython",
    "version": 3
   },
   "file_extension": ".py",
   "mimetype": "text/x-python",
   "name": "python",
   "nbconvert_exporter": "python",
   "pygments_lexer": "ipython3",
   "version": "3.9.0"
  },
  "vscode": {
   "interpreter": {
    "hash": "cc82db2dc128658da88fa564359fe123ee9c6914f8c7963941acb47815200485"
   }
  }
 },
 "nbformat": 4,
 "nbformat_minor": 0
}