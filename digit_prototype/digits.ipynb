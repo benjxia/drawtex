{
 "cells": [
  {
   "cell_type": "markdown",
   "metadata": {},
   "source": [
    "## Identify hand-drawn digits prototype"
   ]
  },
  {
   "cell_type": "markdown",
   "metadata": {},
   "source": [
    "### Imports"
   ]
  },
  {
   "cell_type": "code",
   "execution_count": 87,
   "metadata": {
    "pycharm": {
     "name": "#%%\n"
    }
   },
   "outputs": [],
   "source": [
    "import torch\n",
    "import torchvision.transforms\n",
    "from torch import nn\n",
    "from torch.utils.data import DataLoader\n",
    "from torchvision import datasets\n",
    "from torchvision.transforms import ToTensor\n",
    "import torch.nn.functional as f\n",
    "import numpy as np\n",
    "import pandas as pd\n",
    "import matplotlib.pyplot as plt"
   ]
  },
  {
   "cell_type": "markdown",
   "metadata": {
    "pycharm": {
     "name": "#%% md\n"
    }
   },
   "source": [
    "### Defining datasets/dataloaders and hyperparameters"
   ]
  },
  {
   "cell_type": "code",
   "execution_count": 88,
   "metadata": {
    "pycharm": {
     "name": "#%%\n"
    }
   },
   "outputs": [
    {
     "name": "stdout",
     "output_type": "stream",
     "text": [
      "Using cpu device\n"
     ]
    }
   ],
   "source": [
    "INPUT_SIZE: int = 28 * 28\n",
    "OUTPUT_CLS: int = 10\n",
    "TRAIN_BATCH_SZ: int = 64\n",
    "TEST_BATCH_SZ: int = 1000\n",
    "TRAIN_EPOCH: int = 10\n",
    "LEARNING_RATE: float = 0.01\n",
    "MOMENTUM: float = 0.5\n",
    "LOG_INTERVAL: int = 10\n",
    "\n",
    "RANDOM_SEED: int = 0x10f2c\n",
    "torch.manual_seed(RANDOM_SEED)\n",
    "\n",
    "training_set: datasets.MNIST = datasets.MNIST(\n",
    "    root= \"./data\",\n",
    "    train= True,\n",
    "    download= True,\n",
    "    transform= ToTensor()\n",
    ")\n",
    "\n",
    "test_set: datasets.MNIST = datasets.MNIST(\n",
    "    root = \"./data\",\n",
    "    train= False,\n",
    "    download= True,\n",
    "    transform= ToTensor()\n",
    ")\n",
    "\n",
    "train_dl: DataLoader = DataLoader(training_set, batch_size= TRAIN_BATCH_SZ, shuffle= True)\n",
    "test_dl: DataLoader = DataLoader(test_set, batch_size= TEST_BATCH_SZ, shuffle= False)\n",
    "\n",
    "device: str = \"cuda\" if torch.cuda.is_available() else \"cpu\"\n",
    "print(f\"Using {device} device\")"
   ]
  },
  {
   "cell_type": "markdown",
   "metadata": {
    "pycharm": {
     "name": "#%% md\n"
    }
   },
   "source": [
    "### Data Demo"
   ]
  },
  {
   "cell_type": "code",
   "execution_count": 89,
   "metadata": {
    "pycharm": {
     "name": "#%%\n"
    }
   },
   "outputs": [
    {
     "name": "stdout",
     "output_type": "stream",
     "text": [
      "torch.Size([64, 1, 28, 28])\n"
     ]
    },
    {
     "data": {
      "text/plain": "<Figure size 432x288 with 6 Axes>",
      "image/png": "[encoded data removed]"
     },
     "metadata": {},
     "output_type": "display_data"
    }
   ],
   "source": [
    "demo = enumerate(train_dl)\n",
    "demo_idx, (demo_data, demo_target) = next(demo)\n",
    "print(demo_data.shape)\n",
    "\n",
    "fig: plt.figure = plt.figure()\n",
    "for i in range(6):\n",
    "    plt.subplot(2,3,i+1)\n",
    "    plt.tight_layout()\n",
    "    plt.imshow(demo_data[i][0], cmap='gray', interpolation='none')\n",
    "    plt.title(f\"Ground Truth: {demo_target[i]}\")\n",
    "    plt.xticks([])\n",
    "    plt.yticks([])\n"
   ]
  },
  {
   "cell_type": "markdown",
   "metadata": {},
   "source": [
    "### Model Definition"
   ]
  },
  {
   "cell_type": "code",
   "execution_count": 90,
   "metadata": {
    "pycharm": {
     "name": "#%%\n"
    }
   },
   "outputs": [
    {
     "name": "stdout",
     "output_type": "stream",
     "text": [
      "DigitNetwork(\n",
      "  (l1): Linear(in_features=784, out_features=100, bias=True)\n",
      "  (relu): ReLU()\n",
      "  (l2): Linear(in_features=100, out_features=10, bias=True)\n",
      ")\n"
     ]
    }
   ],
   "source": [
    "class DigitNetwork(nn.Module):\n",
    "    def __init__(self):\n",
    "        super().__init__()\n",
    "        self.l1 = nn.Linear(INPUT_SIZE, 100)\n",
    "        self.relu = nn.ReLU()\n",
    "        self.l2 = nn.Linear(100, 10)\n",
    "\n",
    "    def forward(self, x):\n",
    "        out = self.l1(x)\n",
    "        out = self.relu(out)\n",
    "        out = self.l2(out)\n",
    "        return out\n",
    "\n",
    "model = DigitNetwork().to(device)\n",
    "print(model)"
   ]
  },
  {
   "cell_type": "markdown",
   "source": [
    "### Training"
   ],
   "metadata": {
    "collapsed": false
   }
  },
  {
   "cell_type": "code",
   "execution_count": 103,
   "outputs": [
    {
     "name": "stdout",
     "output_type": "stream",
     "text": [
      "Epoch 1/10, step 64/938, loss = 0.0000\n",
      "Epoch 1/10, step 128/938, loss = 0.0011\n",
      "Epoch 1/10, step 192/938, loss = 0.0242\n",
      "Epoch 1/10, step 256/938, loss = 0.0383\n",
      "Epoch 1/10, step 320/938, loss = 0.0060\n",
      "Epoch 1/10, step 384/938, loss = 0.0212\n",
      "Epoch 1/10, step 448/938, loss = 0.0001\n",
      "Epoch 1/10, step 512/938, loss = 0.0000\n",
      "Epoch 1/10, step 576/938, loss = 0.0154\n",
      "Epoch 1/10, step 640/938, loss = 0.0002\n",
      "Epoch 1/10, step 704/938, loss = 0.0092\n",
      "Epoch 1/10, step 768/938, loss = 0.1890\n",
      "Epoch 1/10, step 832/938, loss = 0.0093\n",
      "Epoch 1/10, step 896/938, loss = 0.0361\n",
      "Epoch 2/10, step 64/938, loss = 0.0683\n",
      "Epoch 2/10, step 128/938, loss = 0.2710\n",
      "Epoch 2/10, step 192/938, loss = 0.0000\n",
      "Epoch 2/10, step 256/938, loss = 0.0000\n",
      "Epoch 2/10, step 320/938, loss = 0.0152\n",
      "Epoch 2/10, step 384/938, loss = 0.0961\n",
      "Epoch 2/10, step 448/938, loss = 0.0915\n",
      "Epoch 2/10, step 512/938, loss = 0.0098\n",
      "Epoch 2/10, step 576/938, loss = 0.0030\n",
      "Epoch 2/10, step 640/938, loss = 0.1039\n",
      "Epoch 2/10, step 704/938, loss = 0.0576\n",
      "Epoch 2/10, step 768/938, loss = 0.0248\n",
      "Epoch 2/10, step 832/938, loss = 0.0041\n",
      "Epoch 2/10, step 896/938, loss = 0.0080\n",
      "Epoch 3/10, step 64/938, loss = 0.1023\n",
      "Epoch 3/10, step 128/938, loss = 0.0000\n",
      "Epoch 3/10, step 192/938, loss = 0.0029\n",
      "Epoch 3/10, step 256/938, loss = 0.0226\n",
      "Epoch 3/10, step 320/938, loss = 0.0244\n",
      "Epoch 3/10, step 384/938, loss = 0.0000\n",
      "Epoch 3/10, step 448/938, loss = 0.0937\n",
      "Epoch 3/10, step 512/938, loss = 0.0085\n",
      "Epoch 3/10, step 576/938, loss = 0.0001\n",
      "Epoch 3/10, step 640/938, loss = 0.1227\n",
      "Epoch 3/10, step 704/938, loss = 0.2215\n",
      "Epoch 3/10, step 768/938, loss = 0.3560\n",
      "Epoch 3/10, step 832/938, loss = 0.0511\n",
      "Epoch 3/10, step 896/938, loss = 0.1350\n",
      "Epoch 4/10, step 64/938, loss = 0.0134\n",
      "Epoch 4/10, step 128/938, loss = 0.0000\n",
      "Epoch 4/10, step 192/938, loss = 0.0056\n",
      "Epoch 4/10, step 256/938, loss = 0.0017\n",
      "Epoch 4/10, step 320/938, loss = 0.0333\n",
      "Epoch 4/10, step 384/938, loss = 0.0000\n",
      "Epoch 4/10, step 448/938, loss = 0.0623\n",
      "Epoch 4/10, step 512/938, loss = 0.0001\n",
      "Epoch 4/10, step 576/938, loss = 0.0777\n",
      "Epoch 4/10, step 640/938, loss = 0.0008\n",
      "Epoch 4/10, step 704/938, loss = 0.0000\n",
      "Epoch 4/10, step 768/938, loss = 0.0049\n",
      "Epoch 4/10, step 832/938, loss = 0.1020\n",
      "Epoch 4/10, step 896/938, loss = 0.0067\n",
      "Epoch 5/10, step 64/938, loss = 0.2209\n",
      "Epoch 5/10, step 128/938, loss = 0.0001\n",
      "Epoch 5/10, step 192/938, loss = 0.0000\n",
      "Epoch 5/10, step 256/938, loss = 0.2306\n",
      "Epoch 5/10, step 320/938, loss = 0.0298\n",
      "Epoch 5/10, step 384/938, loss = 0.0000\n",
      "Epoch 5/10, step 448/938, loss = 0.0001\n",
      "Epoch 5/10, step 512/938, loss = 0.0149\n",
      "Epoch 5/10, step 576/938, loss = 0.1204\n",
      "Epoch 5/10, step 640/938, loss = 0.0000\n",
      "Epoch 5/10, step 704/938, loss = 0.1034\n",
      "Epoch 5/10, step 768/938, loss = 0.0713\n",
      "Epoch 5/10, step 832/938, loss = 0.0000\n",
      "Epoch 5/10, step 896/938, loss = 0.0029\n",
      "Epoch 6/10, step 64/938, loss = 0.1501\n",
      "Epoch 6/10, step 128/938, loss = 0.0531\n",
      "Epoch 6/10, step 192/938, loss = 0.0391\n",
      "Epoch 6/10, step 256/938, loss = 0.0126\n",
      "Epoch 6/10, step 320/938, loss = 0.0283\n",
      "Epoch 6/10, step 384/938, loss = 0.1617\n",
      "Epoch 6/10, step 448/938, loss = 0.1730\n",
      "Epoch 6/10, step 512/938, loss = 0.0000\n",
      "Epoch 6/10, step 576/938, loss = 0.0008\n",
      "Epoch 6/10, step 640/938, loss = 0.0000\n",
      "Epoch 6/10, step 704/938, loss = 0.0000\n",
      "Epoch 6/10, step 768/938, loss = 0.0006\n",
      "Epoch 6/10, step 832/938, loss = 0.2142\n",
      "Epoch 6/10, step 896/938, loss = 0.0020\n",
      "Epoch 7/10, step 64/938, loss = 0.0003\n",
      "Epoch 7/10, step 128/938, loss = 0.1119\n",
      "Epoch 7/10, step 192/938, loss = 0.0020\n",
      "Epoch 7/10, step 256/938, loss = 0.1545\n",
      "Epoch 7/10, step 320/938, loss = 0.0575\n",
      "Epoch 7/10, step 384/938, loss = 0.0012\n",
      "Epoch 7/10, step 448/938, loss = 0.0926\n",
      "Epoch 7/10, step 512/938, loss = 0.0100\n",
      "Epoch 7/10, step 576/938, loss = 0.1093\n",
      "Epoch 7/10, step 640/938, loss = 0.1364\n",
      "Epoch 7/10, step 704/938, loss = 0.0000\n",
      "Epoch 7/10, step 768/938, loss = 0.0252\n",
      "Epoch 7/10, step 832/938, loss = 0.0000\n",
      "Epoch 7/10, step 896/938, loss = 0.0000\n",
      "Epoch 8/10, step 64/938, loss = 0.1278\n",
      "Epoch 8/10, step 128/938, loss = 0.0150\n",
      "Epoch 8/10, step 192/938, loss = 0.0519\n",
      "Epoch 8/10, step 256/938, loss = 0.0012\n",
      "Epoch 8/10, step 320/938, loss = 0.0001\n",
      "Epoch 8/10, step 384/938, loss = 0.0000\n",
      "Epoch 8/10, step 448/938, loss = 0.0000\n",
      "Epoch 8/10, step 512/938, loss = 0.0913\n",
      "Epoch 8/10, step 576/938, loss = 0.0007\n",
      "Epoch 8/10, step 640/938, loss = 0.0006\n",
      "Epoch 8/10, step 704/938, loss = 0.0000\n",
      "Epoch 8/10, step 768/938, loss = 0.0230\n",
      "Epoch 8/10, step 832/938, loss = 0.0001\n",
      "Epoch 8/10, step 896/938, loss = 0.1493\n",
      "Epoch 9/10, step 64/938, loss = 0.0071\n",
      "Epoch 9/10, step 128/938, loss = 0.0000\n",
      "Epoch 9/10, step 192/938, loss = 0.0428\n",
      "Epoch 9/10, step 256/938, loss = 0.1071\n",
      "Epoch 9/10, step 320/938, loss = 0.1335\n",
      "Epoch 9/10, step 384/938, loss = 0.0013\n",
      "Epoch 9/10, step 448/938, loss = 0.2950\n",
      "Epoch 9/10, step 512/938, loss = 0.0053\n",
      "Epoch 9/10, step 576/938, loss = 0.0042\n",
      "Epoch 9/10, step 640/938, loss = 0.0035\n",
      "Epoch 9/10, step 704/938, loss = 0.0000\n",
      "Epoch 9/10, step 768/938, loss = 0.0205\n",
      "Epoch 9/10, step 832/938, loss = 0.0398\n",
      "Epoch 9/10, step 896/938, loss = 0.0023\n",
      "Epoch 10/10, step 64/938, loss = 0.1038\n",
      "Epoch 10/10, step 128/938, loss = 0.0002\n",
      "Epoch 10/10, step 192/938, loss = 0.0004\n",
      "Epoch 10/10, step 256/938, loss = 0.0002\n",
      "Epoch 10/10, step 320/938, loss = 0.0009\n",
      "Epoch 10/10, step 384/938, loss = 0.0092\n",
      "Epoch 10/10, step 448/938, loss = 0.0018\n",
      "Epoch 10/10, step 512/938, loss = 0.0010\n",
      "Epoch 10/10, step 576/938, loss = 0.0000\n",
      "Epoch 10/10, step 640/938, loss = 0.0000\n",
      "Epoch 10/10, step 704/938, loss = 0.0027\n",
      "Epoch 10/10, step 768/938, loss = 0.0098\n",
      "Epoch 10/10, step 832/938, loss = 0.0001\n",
      "Epoch 10/10, step 896/938, loss = 0.0000\n"
     ]
    }
   ],
   "source": [
    "criterion: nn.CrossEntropyLoss = nn.CrossEntropyLoss()\n",
    "optimizer: torch.optim.Adam = torch.optim.Adam(model.parameters(), lr= LEARNING_RATE)\n",
    "\n",
    "n_steps = len(train_dl)\n",
    "\n",
    "for epoch in range(TRAIN_EPOCH):\n",
    "    for i, (img, label) in enumerate(train_dl):\n",
    "        img = img.reshape(-1, 28 * 28)\n",
    "\n",
    "        # forward pass\n",
    "        output = model(img)\n",
    "        loss: torch.Tensor = criterion(output, label)\n",
    "\n",
    "        # backpropagation\n",
    "        optimizer.zero_grad()\n",
    "        loss.backward()\n",
    "        optimizer.step()\n",
    "\n",
    "        if (i + 1) % TRAIN_BATCH_SZ == 0:\n",
    "            print(f\"Epoch {epoch + 1}/{TRAIN_EPOCH}, step {i + 1}/{n_steps}, loss = {loss.item():.4f}\")"
   ],
   "metadata": {
    "collapsed": false,
    "pycharm": {
     "name": "#%%\n"
    }
   }
  },
  {
   "cell_type": "markdown",
   "source": [
    "### Testing"
   ],
   "metadata": {
    "collapsed": false
   }
  },
  {
   "cell_type": "code",
   "execution_count": 104,
   "outputs": [
    {
     "name": "stdout",
     "output_type": "stream",
     "text": [
      "Accuracy: 97.25\n"
     ]
    }
   ],
   "source": [
    "with torch.no_grad():\n",
    "    correct = 0\n",
    "    samples = 0\n",
    "    for img, labels in test_dl:\n",
    "        img = img.reshape(-1, 28 * 28)\n",
    "        output = model(img)\n",
    "\n",
    "        _, predictions = torch.max(output, 1)\n",
    "        samples += labels.shape[0]\n",
    "        correct += (predictions == labels).sum().item()\n",
    "\n",
    "    acc = 100 * correct / samples\n",
    "    print(f\"Accuracy: {acc}\")"
   ],
   "metadata": {
    "collapsed": false,
    "pycharm": {
     "name": "#%%\n"
    }
   }
  },
  {
   "cell_type": "markdown",
   "source": [
    "### Save model\n"
   ],
   "metadata": {
    "collapsed": false
   }
  },
  {
   "cell_type": "code",
   "execution_count": 106,
   "outputs": [],
   "source": [
    "torch.save(model.state_dict, \"./digits.pth\")"
   ],
   "metadata": {
    "collapsed": false,
    "pycharm": {
     "name": "#%%\n"
    }
   }
  }
 ],
 "metadata": {
  "kernelspec": {
   "display_name": "Python 3 (ipykernel)",
   "language": "python",
   "name": "python3"
  },
  "language_info": {
   "codemirror_mode": {
    "name": "ipython",
    "version": 3
   },
   "file_extension": ".py",
   "mimetype": "text/x-python",
   "name": "python",
   "nbconvert_exporter": "python",
   "pygments_lexer": "ipython3",
   "version": "3.9.6"
  }
 },
 "nbformat": 4,
 "nbformat_minor": 1
}