{
 "cells": [
  {
   "cell_type": "markdown",
   "metadata": {},
   "source": [
    "## Identify hand-drawn digits prototype"
   ]
  },
  {
   "cell_type": "markdown",
   "metadata": {},
   "source": [
    "### Imports"
   ]
  },
  {
   "cell_type": "code",
   "execution_count": 2,
   "metadata": {
    "pycharm": {
     "name": "#%%\n"
    }
   },
   "outputs": [],
   "source": [
    "import torch\n",
    "import torchvision.transforms\n",
    "from torch import nn\n",
    "from torch.utils.data import DataLoader\n",
    "from torchvision import datasets\n",
    "from torchvision.transforms import ToTensor\n",
    "import torch.nn.functional as f\n",
    "import numpy as np\n",
    "import matplotlib.pyplot as plt"
   ]
  },
  {
   "cell_type": "markdown",
   "metadata": {
    "pycharm": {
     "name": "#%% md\n"
    }
   },
   "source": [
    "### Defining datasets/dataloaders and hyperparameters"
   ]
  },
  {
   "cell_type": "code",
   "execution_count": 3,
   "metadata": {
    "pycharm": {
     "name": "#%%\n"
    }
   },
   "outputs": [
    {
     "name": "stdout",
     "output_type": "stream",
     "text": [
      "Using cuda device\n"
     ]
    }
   ],
   "source": [
    "INPUT_SIZE: int = 28 * 28\n",
    "OUTPUT_CLS: int = 10\n",
    "TRAIN_BATCH_SZ: int = 64\n",
    "TEST_BATCH_SZ: int = 1000\n",
    "TRAIN_EPOCH: int = 10\n",
    "LEARNING_RATE: float = 0.01\n",
    "MOMENTUM: float = 0.5\n",
    "LOG_INTERVAL: int = 10\n",
    "\n",
    "RANDOM_SEED: int = 0x10f2c\n",
    "torch.manual_seed(RANDOM_SEED)\n",
    "\n",
    "training_set: datasets.MNIST = datasets.MNIST(\n",
    "    root= \"./data\",\n",
    "    train= True,\n",
    "    download= True,\n",
    "    transform= ToTensor()\n",
    ")\n",
    "\n",
    "test_set: datasets.MNIST = datasets.MNIST(\n",
    "    root = \"./data\",\n",
    "    train= False,\n",
    "    download= True,\n",
    "    transform= ToTensor()\n",
    ")\n",
    "\n",
    "train_dl: DataLoader = DataLoader(training_set, batch_size= TRAIN_BATCH_SZ, shuffle= True)\n",
    "test_dl: DataLoader = DataLoader(test_set, batch_size= TEST_BATCH_SZ, shuffle= False)\n",
    "\n",
    "device: str = \"cuda\" if torch.cuda.is_available() else \"cpu\"\n",
    "print(f\"Using {device} device\")"
   ]
  },
  {
   "cell_type": "markdown",
   "metadata": {
    "pycharm": {
     "name": "#%% md\n"
    }
   },
   "source": [
    "### Data Demo"
   ]
  },
  {
   "cell_type": "code",
   "execution_count": 4,
   "metadata": {
    "pycharm": {
     "name": "#%%\n"
    }
   },
   "outputs": [
    {
     "name": "stdout",
     "output_type": "stream",
     "text": [
      "torch.Size([64, 1, 28, 28])\n"
     ]
    },
    {
     "data": {
      "image/png": "[encoded data removed]",
      "text/plain": [
       "<Figure size 640x480 with 6 Axes>"
      ]
     },
     "metadata": {},
     "output_type": "display_data"
    }
   ],
   "source": [
    "demo = enumerate(train_dl)\n",
    "demo_idx, (demo_data, demo_target) = next(demo)\n",
    "print(demo_data.shape)\n",
    "\n",
    "fig: plt.figure = plt.figure()\n",
    "for i in range(6):\n",
    "    plt.subplot(2,3,i+1)\n",
    "    plt.tight_layout()\n",
    "    plt.imshow(demo_data[i][0], cmap='gray', interpolation='none')\n",
    "    plt.title(f\"Ground Truth: {demo_target[i]}\")\n",
    "    plt.xticks([])\n",
    "    plt.yticks([])\n"
   ]
  },
  {
   "cell_type": "markdown",
   "metadata": {},
   "source": [
    "### Model Definition"
   ]
  },
  {
   "cell_type": "code",
   "execution_count": 5,
   "metadata": {
    "pycharm": {
     "name": "#%%\n"
    }
   },
   "outputs": [
    {
     "name": "stdout",
     "output_type": "stream",
     "text": [
      "DigitNetwork(\n",
      "  (l1): Linear(in_features=784, out_features=100, bias=True)\n",
      "  (relu): ReLU()\n",
      "  (l2): Linear(in_features=100, out_features=10, bias=True)\n",
      ")\n"
     ]
    }
   ],
   "source": [
    "class DigitNetwork(nn.Module):\n",
    "    def __init__(self):\n",
    "        super().__init__()\n",
    "        self.l1 = nn.Linear(INPUT_SIZE, 100)\n",
    "        self.relu = nn.ReLU()\n",
    "        self.l2 = nn.Linear(100, 10)\n",
    "\n",
    "    def forward(self, x):\n",
    "        out = self.l1(x)\n",
    "        out = self.relu(out)\n",
    "        out = self.l2(out)\n",
    "        return out\n",
    "\n",
    "model = DigitNetwork().to(device)\n",
    "print(model)"
   ]
  },
  {
   "cell_type": "markdown",
   "metadata": {
    "collapsed": false
   },
   "source": [
    "### Training"
   ]
  },
  {
   "cell_type": "code",
   "execution_count": 7,
   "metadata": {
    "collapsed": false,
    "pycharm": {
     "name": "#%%\n"
    }
   },
   "outputs": [
    {
     "name": "stdout",
     "output_type": "stream",
     "text": [
      "Epoch 1/10, step 64/938, loss = 0.6282\n",
      "Epoch 1/10, step 128/938, loss = 0.3488\n",
      "Epoch 1/10, step 192/938, loss = 0.2656\n",
      "Epoch 1/10, step 256/938, loss = 0.1944\n",
      "Epoch 1/10, step 320/938, loss = 0.2348\n",
      "Epoch 1/10, step 384/938, loss = 0.1136\n",
      "Epoch 1/10, step 448/938, loss = 0.1189\n",
      "Epoch 1/10, step 512/938, loss = 0.0921\n",
      "Epoch 1/10, step 576/938, loss = 0.1899\n",
      "Epoch 1/10, step 640/938, loss = 0.0306\n",
      "Epoch 1/10, step 704/938, loss = 0.1317\n",
      "Epoch 1/10, step 768/938, loss = 0.3676\n",
      "Epoch 1/10, step 832/938, loss = 0.0737\n",
      "Epoch 1/10, step 896/938, loss = 0.2165\n",
      "Epoch 2/10, step 64/938, loss = 0.0568\n",
      "Epoch 2/10, step 128/938, loss = 0.0589\n",
      "Epoch 2/10, step 192/938, loss = 0.0332\n",
      "Epoch 2/10, step 256/938, loss = 0.0421\n",
      "Epoch 2/10, step 320/938, loss = 0.0472\n",
      "Epoch 2/10, step 384/938, loss = 0.2496\n",
      "Epoch 2/10, step 448/938, loss = 0.1551\n",
      "Epoch 2/10, step 512/938, loss = 0.1133\n",
      "Epoch 2/10, step 576/938, loss = 0.0854\n",
      "Epoch 2/10, step 640/938, loss = 0.1296\n",
      "Epoch 2/10, step 704/938, loss = 0.1081\n",
      "Epoch 2/10, step 768/938, loss = 0.0558\n",
      "Epoch 2/10, step 832/938, loss = 0.0814\n",
      "Epoch 2/10, step 896/938, loss = 0.0957\n",
      "Epoch 3/10, step 64/938, loss = 0.1228\n",
      "Epoch 3/10, step 128/938, loss = 0.0549\n",
      "Epoch 3/10, step 192/938, loss = 0.0608\n",
      "Epoch 3/10, step 256/938, loss = 0.0885\n",
      "Epoch 3/10, step 320/938, loss = 0.0521\n",
      "Epoch 3/10, step 384/938, loss = 0.3368\n",
      "Epoch 3/10, step 448/938, loss = 0.0813\n",
      "Epoch 3/10, step 512/938, loss = 0.1597\n",
      "Epoch 3/10, step 576/938, loss = 0.1292\n",
      "Epoch 3/10, step 640/938, loss = 0.2872\n",
      "Epoch 3/10, step 704/938, loss = 0.1174\n",
      "Epoch 3/10, step 768/938, loss = 0.0912\n",
      "Epoch 3/10, step 832/938, loss = 0.0310\n",
      "Epoch 3/10, step 896/938, loss = 0.0684\n",
      "Epoch 4/10, step 64/938, loss = 0.0522\n",
      "Epoch 4/10, step 128/938, loss = 0.2023\n",
      "Epoch 4/10, step 192/938, loss = 0.1590\n",
      "Epoch 4/10, step 256/938, loss = 0.0046\n",
      "Epoch 4/10, step 320/938, loss = 0.0500\n",
      "Epoch 4/10, step 384/938, loss = 0.1266\n",
      "Epoch 4/10, step 448/938, loss = 0.2450\n",
      "Epoch 4/10, step 512/938, loss = 0.0235\n",
      "Epoch 4/10, step 576/938, loss = 0.1673\n",
      "Epoch 4/10, step 640/938, loss = 0.1894\n",
      "Epoch 4/10, step 704/938, loss = 0.2308\n",
      "Epoch 4/10, step 768/938, loss = 0.2647\n",
      "Epoch 4/10, step 832/938, loss = 0.1503\n",
      "Epoch 4/10, step 896/938, loss = 0.1129\n",
      "Epoch 5/10, step 64/938, loss = 0.0278\n",
      "Epoch 5/10, step 128/938, loss = 0.2594\n",
      "Epoch 5/10, step 192/938, loss = 0.3231\n",
      "Epoch 5/10, step 256/938, loss = 0.0192\n",
      "Epoch 5/10, step 320/938, loss = 0.0652\n",
      "Epoch 5/10, step 384/938, loss = 0.0123\n",
      "Epoch 5/10, step 448/938, loss = 0.0232\n",
      "Epoch 5/10, step 512/938, loss = 0.2299\n",
      "Epoch 5/10, step 576/938, loss = 0.1984\n",
      "Epoch 5/10, step 640/938, loss = 0.0390\n",
      "Epoch 5/10, step 704/938, loss = 0.0794\n",
      "Epoch 5/10, step 768/938, loss = 0.1371\n",
      "Epoch 5/10, step 832/938, loss = 0.0140\n",
      "Epoch 5/10, step 896/938, loss = 0.0101\n",
      "Epoch 6/10, step 64/938, loss = 0.0080\n",
      "Epoch 6/10, step 128/938, loss = 0.0105\n",
      "Epoch 6/10, step 192/938, loss = 0.1052\n",
      "Epoch 6/10, step 256/938, loss = 0.2696\n",
      "Epoch 6/10, step 320/938, loss = 0.1233\n",
      "Epoch 6/10, step 384/938, loss = 0.1954\n",
      "Epoch 6/10, step 448/938, loss = 0.0033\n",
      "Epoch 6/10, step 512/938, loss = 0.0285\n",
      "Epoch 6/10, step 576/938, loss = 0.2372\n",
      "Epoch 6/10, step 640/938, loss = 0.0896\n",
      "Epoch 6/10, step 704/938, loss = 0.0099\n",
      "Epoch 6/10, step 768/938, loss = 0.1004\n",
      "Epoch 6/10, step 832/938, loss = 0.0400\n",
      "Epoch 6/10, step 896/938, loss = 0.1278\n",
      "Epoch 7/10, step 64/938, loss = 0.0300\n",
      "Epoch 7/10, step 128/938, loss = 0.1282\n",
      "Epoch 7/10, step 192/938, loss = 0.0795\n",
      "Epoch 7/10, step 256/938, loss = 0.0215\n",
      "Epoch 7/10, step 320/938, loss = 0.0033\n",
      "Epoch 7/10, step 384/938, loss = 0.1812\n",
      "Epoch 7/10, step 448/938, loss = 0.1908\n",
      "Epoch 7/10, step 512/938, loss = 0.0759\n",
      "Epoch 7/10, step 576/938, loss = 0.0761\n",
      "Epoch 7/10, step 640/938, loss = 0.0193\n",
      "Epoch 7/10, step 704/938, loss = 0.0033\n",
      "Epoch 7/10, step 768/938, loss = 0.0449\n",
      "Epoch 7/10, step 832/938, loss = 0.0251\n",
      "Epoch 7/10, step 896/938, loss = 0.0368\n",
      "Epoch 8/10, step 64/938, loss = 0.1457\n",
      "Epoch 8/10, step 128/938, loss = 0.0126\n",
      "Epoch 8/10, step 192/938, loss = 0.0256\n",
      "Epoch 8/10, step 256/938, loss = 0.1917\n",
      "Epoch 8/10, step 320/938, loss = 0.0040\n",
      "Epoch 8/10, step 384/938, loss = 0.4309\n",
      "Epoch 8/10, step 448/938, loss = 0.0374\n",
      "Epoch 8/10, step 512/938, loss = 0.0310\n",
      "Epoch 8/10, step 576/938, loss = 0.0308\n",
      "Epoch 8/10, step 640/938, loss = 0.1387\n",
      "Epoch 8/10, step 704/938, loss = 0.0634\n",
      "Epoch 8/10, step 768/938, loss = 0.0700\n",
      "Epoch 8/10, step 832/938, loss = 0.0020\n",
      "Epoch 8/10, step 896/938, loss = 0.1081\n",
      "Epoch 9/10, step 64/938, loss = 0.0896\n",
      "Epoch 9/10, step 128/938, loss = 0.0057\n",
      "Epoch 9/10, step 192/938, loss = 0.1328\n",
      "Epoch 9/10, step 256/938, loss = 0.0229\n",
      "Epoch 9/10, step 320/938, loss = 0.0986\n",
      "Epoch 9/10, step 384/938, loss = 0.0769\n",
      "Epoch 9/10, step 448/938, loss = 0.0613\n",
      "Epoch 9/10, step 512/938, loss = 0.0025\n",
      "Epoch 9/10, step 576/938, loss = 0.0365\n",
      "Epoch 9/10, step 640/938, loss = 0.0267\n",
      "Epoch 9/10, step 704/938, loss = 0.0528\n",
      "Epoch 9/10, step 768/938, loss = 0.0795\n",
      "Epoch 9/10, step 832/938, loss = 0.1303\n",
      "Epoch 9/10, step 896/938, loss = 0.0194\n",
      "Epoch 10/10, step 64/938, loss = 0.1832\n",
      "Epoch 10/10, step 128/938, loss = 0.1446\n",
      "Epoch 10/10, step 192/938, loss = 0.0078\n",
      "Epoch 10/10, step 256/938, loss = 0.0230\n",
      "Epoch 10/10, step 320/938, loss = 0.1124\n",
      "Epoch 10/10, step 384/938, loss = 0.0061\n",
      "Epoch 10/10, step 448/938, loss = 0.0742\n",
      "Epoch 10/10, step 512/938, loss = 0.0305\n",
      "Epoch 10/10, step 576/938, loss = 0.0640\n",
      "Epoch 10/10, step 640/938, loss = 0.1599\n",
      "Epoch 10/10, step 704/938, loss = 0.1223\n",
      "Epoch 10/10, step 768/938, loss = 0.3462\n",
      "Epoch 10/10, step 832/938, loss = 0.0002\n",
      "Epoch 10/10, step 896/938, loss = 0.1292\n"
     ]
    }
   ],
   "source": [
    "criterion: nn.CrossEntropyLoss = nn.CrossEntropyLoss()\n",
    "optimizer: torch.optim.Adam = torch.optim.Adam(model.parameters(), lr= LEARNING_RATE)\n",
    "\n",
    "n_steps = len(train_dl)\n",
    "\n",
    "for epoch in range(TRAIN_EPOCH):\n",
    "    for i, (img, label) in enumerate(train_dl):\n",
    "        img = img.to(device)\n",
    "        label = label.to(device)\n",
    "        img = img.reshape(-1, 28 * 28)\n",
    "\n",
    "        # forward pass\n",
    "        output = model(img)\n",
    "        loss: torch.Tensor = criterion(output, label)\n",
    "\n",
    "        # backpropagation\n",
    "        optimizer.zero_grad()\n",
    "        loss.backward()\n",
    "        optimizer.step()\n",
    "\n",
    "        if (i + 1) % TRAIN_BATCH_SZ == 0:\n",
    "            print(f\"Epoch {epoch + 1}/{TRAIN_EPOCH}, step {i + 1}/{n_steps}, loss = {loss.item():.4f}\")"
   ]
  },
  {
   "cell_type": "markdown",
   "metadata": {
    "collapsed": false
   },
   "source": [
    "### Testing"
   ]
  },
  {
   "cell_type": "code",
   "execution_count": 13,
   "metadata": {
    "collapsed": false,
    "pycharm": {
     "name": "#%%\n"
    }
   },
   "outputs": [
    {
     "name": "stdout",
     "output_type": "stream",
     "text": [
      "Accuracy: 96.9\n"
     ]
    }
   ],
   "source": [
    "with torch.no_grad():\n",
    "    correct = 0\n",
    "    samples = 0\n",
    "    for img, labels in test_dl:\n",
    "        img = img.to(device)\n",
    "        labels = labels.to(device)\n",
    "        img = img.reshape(-1, 28 * 28)\n",
    "        output = model(img)\n",
    "\n",
    "        _, predictions = torch.max(output, 1)\n",
    "        samples += labels.shape[0]\n",
    "        correct += (predictions == labels).sum().item()\n",
    "\n",
    "    acc = 100 * correct / samples\n",
    "    print(f\"Accuracy: {acc}\")"
   ]
  },
  {
   "cell_type": "markdown",
   "metadata": {
    "collapsed": false
   },
   "source": [
    "### Save model\n"
   ]
  },
  {
   "cell_type": "code",
   "execution_count": 10,
   "metadata": {
    "collapsed": false,
    "pycharm": {
     "name": "#%%\n"
    }
   },
   "outputs": [],
   "source": [
    "torch.save(model.state_dict, \"./digits.pth\")"
   ]
  },
  {
   "cell_type": "code",
   "execution_count": 83,
   "metadata": {},
   "outputs": [
    {
     "name": "stdout",
     "output_type": "stream",
     "text": [
      "Predicted: 3\n",
      "Actual: 3\n"
     ]
    },
    {
     "data": {
      "image/png": "[encoded data removed]",
      "text/plain": [
       "<Figure size 640x480 with 1 Axes>"
      ]
     },
     "metadata": {},
     "output_type": "display_data"
    }
   ],
   "source": [
    "with torch.no_grad():\n",
    "    idx = int(np.random.rand() * TEST_BATCH_SZ)\n",
    "    i, (img, label) = next(enumerate(test_dl))\n",
    "    img = img.to(device)\n",
    "    plt.imshow(img[idx][0].cpu(), cmap= \"gray\", interpolation= \"none\")\n",
    "    img = img.reshape(-1, 28 * 28)\n",
    "    label = label.to(device)\n",
    "    output: torch.Tensor = model(img)\n",
    "\n",
    "    outlist = [i.item() for i in list(output[idx])]\n",
    "    print(f\"Predicted: {outlist.index(max(outlist))}\")\n",
    "    print(f\"Actual: {label[idx]}\")\n"
   ]
  }
 ],
 "metadata": {
  "kernelspec": {
   "display_name": "Python 3",
   "language": "python",
   "name": "python3"
  },
  "language_info": {
   "codemirror_mode": {
    "name": "ipython",
    "version": 3
   },
   "file_extension": ".py",
   "mimetype": "text/x-python",
   "name": "python",
   "nbconvert_exporter": "python",
   "pygments_lexer": "ipython3",
   "version": "3.9.0"
  },
  "vscode": {
   "interpreter": {
    "hash": "cc82db2dc128658da88fa564359fe123ee9c6914f8c7963941acb47815200485"
   }
  }
 },
 "nbformat": 4,
 "nbformat_minor": 1
}
