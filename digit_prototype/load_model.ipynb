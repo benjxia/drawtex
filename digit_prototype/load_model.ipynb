{
 "cells": [
  {
   "cell_type": "markdown",
   "source": [
    "## Loading a serialized model from storage"
   ],
   "metadata": {
    "collapsed": false
   }
  },
  {
   "cell_type": "code",
   "execution_count": 2,
   "outputs": [],
   "source": [
    "import torch\n",
    "import torchvision.transforms as transforms\n",
    "from torch import nn\n",
    "from torch.utils.data import DataLoader\n",
    "from torchvision import datasets\n",
    "import matplotlib.pyplot as plt\n",
    "import numpy as np"
   ],
   "metadata": {
    "collapsed": false,
    "pycharm": {
     "name": "#%%\n"
    }
   }
  },
  {
   "cell_type": "code",
   "execution_count": 3,
   "outputs": [
    {
     "name": "stdout",
     "output_type": "stream",
     "text": [
      "Using cpu device\n"
     ]
    }
   ],
   "source": [
    "INPUT_SIZE: int = 28 * 28\n",
    "CLASS_CNT: int = 10\n",
    "TRAIN_BATCH_SZ: int = 128\n",
    "TEST_BATCH_SZ: int = 1000\n",
    "EPOCHS: int = 50\n",
    "LEARN_RATE = 0.01\n",
    "\n",
    "torch.manual_seed(0x10f2c)\n",
    "\n",
    "transformation = transforms.Compose(\n",
    "    [transforms.ToTensor(), transforms.Normalize((0.5), (0.5))]\n",
    ")\n",
    "\n",
    "training_set: datasets.MNIST = datasets.MNIST(\n",
    "    root= \"./data\",\n",
    "    train= True,\n",
    "    download= True,\n",
    "    transform= transformation\n",
    ")\n",
    "\n",
    "test_set: datasets.MNIST = datasets.MNIST(\n",
    "    root= \"./data\",\n",
    "    train= False,\n",
    "    download= True,\n",
    "    transform= transformation\n",
    ")\n",
    "\n",
    "train_load: DataLoader = DataLoader(\n",
    "    dataset= training_set,\n",
    "    batch_size= TRAIN_BATCH_SZ,\n",
    "    shuffle= True,\n",
    "    pin_memory= True,\n",
    "    num_workers= 4\n",
    ")\n",
    "\n",
    "test_load: DataLoader = DataLoader(\n",
    "    dataset= test_set,\n",
    "    batch_size= TEST_BATCH_SZ,\n",
    "    shuffle= False,\n",
    "    pin_memory= True,\n",
    "    num_workers= 4\n",
    ")\n",
    "\n",
    "device: str = \"cuda\" if torch.cuda.is_available() else \"cpu\"\n",
    "print(f\"Using {device} device\")"
   ],
   "metadata": {
    "collapsed": false,
    "pycharm": {
     "name": "#%%\n"
    }
   }
  },
  {
   "cell_type": "code",
   "execution_count": 4,
   "metadata": {
    "collapsed": true
   },
   "outputs": [
    {
     "name": "stdout",
     "output_type": "stream",
     "text": [
      "Digitv2Network(\n",
      "  (relu): ReLU()\n",
      "  (conv1): Conv2d(1, 5, kernel_size=(3, 3), stride=(1, 1), padding=same)\n",
      "  (pool1): MaxPool2d(kernel_size=2, stride=2, padding=0, dilation=1, ceil_mode=False)\n",
      "  (conv2): Conv2d(5, 10, kernel_size=(3, 3), stride=(1, 1), padding=same)\n",
      "  (pool2): MaxPool2d(kernel_size=2, stride=2, padding=0, dilation=1, ceil_mode=False)\n",
      "  (l1): Linear(in_features=490, out_features=30, bias=True)\n",
      "  (l2): Linear(in_features=30, out_features=10, bias=True)\n",
      ")\n"
     ]
    }
   ],
   "source": [
    "class Digitv2Network(nn.Module):\n",
    "    def __init__(self):\n",
    "        super().__init__()\n",
    "        self.relu = nn.ReLU()\n",
    "        self.conv1 = nn.Conv2d(\n",
    "            in_channels= 1,\n",
    "            out_channels= 5,\n",
    "            kernel_size= 3,\n",
    "            padding= \"same\",\n",
    "            padding_mode= \"zeros\",\n",
    "        )\n",
    "        self.pool1 = nn.MaxPool2d(\n",
    "            kernel_size= 2,\n",
    "            stride= 2,\n",
    "        )\n",
    "        self.conv2 = nn.Conv2d(\n",
    "            in_channels= 5,\n",
    "            out_channels= 10,\n",
    "            kernel_size= 3,\n",
    "            padding= \"same\",\n",
    "            padding_mode= \"zeros\",\n",
    "        )\n",
    "        self.pool2 = nn.MaxPool2d(\n",
    "            kernel_size= 2,\n",
    "            stride= 2,\n",
    "        )\n",
    "        self.l1 = nn.Linear(10 * INPUT_SIZE // 16, 3 * CLASS_CNT)\n",
    "        self.l2 = nn.Linear(3 * CLASS_CNT, CLASS_CNT)\n",
    "\n",
    "    def forward(self, x: torch.Tensor):\n",
    "        x = self.conv1(x)\n",
    "        x = self.relu(x)\n",
    "        x = self.pool1(x)\n",
    "        x = self.conv2(x)\n",
    "        x = self.relu(x)\n",
    "        x = self.pool2(x)\n",
    "        x = x.view(-1, int(10 * INPUT_SIZE / 16))\n",
    "        x = self.l1(x)\n",
    "        x = self.relu(x)\n",
    "        x = self.l2(x)\n",
    "        return x\n",
    "\n",
    "model = Digitv2Network().to(device)\n",
    "print(model)"
   ]
  },
  {
   "cell_type": "code",
   "execution_count": 5,
   "outputs": [
    {
     "data": {
      "text/plain": "Digitv2Network(\n  (relu): ReLU()\n  (conv1): Conv2d(1, 5, kernel_size=(3, 3), stride=(1, 1), padding=same)\n  (pool1): MaxPool2d(kernel_size=2, stride=2, padding=0, dilation=1, ceil_mode=False)\n  (conv2): Conv2d(5, 10, kernel_size=(3, 3), stride=(1, 1), padding=same)\n  (pool2): MaxPool2d(kernel_size=2, stride=2, padding=0, dilation=1, ceil_mode=False)\n  (l1): Linear(in_features=490, out_features=30, bias=True)\n  (l2): Linear(in_features=30, out_features=10, bias=True)\n)"
     },
     "execution_count": 5,
     "metadata": {},
     "output_type": "execute_result"
    }
   ],
   "source": [
    "model.load_state_dict(torch.load(\"./digitsv2.pth\", map_location= torch.device(\"cpu\")))\n",
    "model.eval()"
   ],
   "metadata": {
    "collapsed": false,
    "pycharm": {
     "name": "#%%\n"
    }
   }
  },
  {
   "cell_type": "code",
   "execution_count": 6,
   "outputs": [
    {
     "name": "stdout",
     "output_type": "stream",
     "text": [
      "torch.Size([1000, 1, 28, 28])\n",
      "Predicted: 2\n",
      "Actual: 2\n"
     ]
    },
    {
     "data": {
      "text/plain": "<Figure size 432x288 with 1 Axes>",
      "image/png": "[encoded data removed]"
     },
     "metadata": {
      "needs_background": "light"
     },
     "output_type": "display_data"
    }
   ],
   "source": [
    "with torch.no_grad():\n",
    "    i, (img, label) = next(enumerate(test_load))\n",
    "    print(img.shape)\n",
    "    img = img.to(device)\n",
    "    label = label.to(device)\n",
    "    idx = int(np.random.rand() * TEST_BATCH_SZ)\n",
    "    output: torch.Tensor = model(img)\n",
    "\n",
    "    outlist = [i.item() for i in list(output[idx])]\n",
    "    print(f\"Predicted: {outlist.index(max(outlist))}\")\n",
    "    print(f\"Actual: {label[idx]}\")\n",
    "    plt.imshow(img[idx][0].cpu(), cmap= \"gray\", interpolation= \"none\")"
   ],
   "metadata": {
    "collapsed": false,
    "pycharm": {
     "name": "#%%\n"
    }
   }
  },
  {
   "cell_type": "code",
   "execution_count": 7,
   "outputs": [
    {
     "name": "stdout",
     "output_type": "stream",
     "text": [
      "Accuracy: 98.49%\n"
     ]
    }
   ],
   "source": [
    "with torch.no_grad():\n",
    "    correct = 0\n",
    "    total = 0\n",
    "    for img, labels in test_load:\n",
    "        img = img.to(device, non_blocking= True)\n",
    "        labels = labels.to(device, non_blocking= True)\n",
    "\n",
    "        output = model(img)\n",
    "        _, prediction = torch.max(output, 1)\n",
    "        total += labels.size(0)\n",
    "        correct += (prediction == labels).sum().item()\n",
    "\n",
    "    acc = 100.0 * correct / total\n",
    "    print(f\"Accuracy: {acc}%\")"
   ],
   "metadata": {
    "collapsed": false,
    "pycharm": {
     "name": "#%%\n"
    }
   }
  }
 ],
 "metadata": {
  "kernelspec": {
   "display_name": "Python 3",
   "language": "python",
   "name": "python3"
  },
  "language_info": {
   "codemirror_mode": {
    "name": "ipython",
    "version": 2
   },
   "file_extension": ".py",
   "mimetype": "text/x-python",
   "name": "python",
   "nbconvert_exporter": "python",
   "pygments_lexer": "ipython2",
   "version": "2.7.6"
  }
 },
 "nbformat": 4,
 "nbformat_minor": 0
}