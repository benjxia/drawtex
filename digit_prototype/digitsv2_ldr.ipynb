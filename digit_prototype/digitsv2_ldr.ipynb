{
 "cells": [
  {
   "cell_type": "code",
   "execution_count": 13,
   "metadata": {
    "collapsed": true
   },
   "outputs": [
    {
     "data": {
      "text/plain": "Digitv2Network(\n  (relu): ReLU()\n  (conv1): Conv2d(1, 5, kernel_size=(3, 3), stride=(1, 1), padding=same)\n  (pool1): MaxPool2d(kernel_size=2, stride=2, padding=0, dilation=1, ceil_mode=False)\n  (conv2): Conv2d(5, 10, kernel_size=(3, 3), stride=(1, 1), padding=same)\n  (pool2): MaxPool2d(kernel_size=2, stride=2, padding=0, dilation=1, ceil_mode=False)\n  (l1): Linear(in_features=490, out_features=30, bias=True)\n  (l2): Linear(in_features=30, out_features=10, bias=True)\n)"
     },
     "execution_count": 13,
     "metadata": {},
     "output_type": "execute_result"
    }
   ],
   "source": [
    "import torch\n",
    "import torchvision.transforms as transforms\n",
    "from torch import nn\n",
    "from torch.utils.data import DataLoader\n",
    "from torchvision import datasets\n",
    "from torchvision.transforms import ToTensor\n",
    "import matplotlib.pyplot as plt\n",
    "\n",
    "class Digitv2Network(nn.Module):\n",
    "    def __init__(self):\n",
    "        super().__init__()\n",
    "        self.relu = nn.ReLU()\n",
    "        self.conv1 = nn.Conv2d(\n",
    "            in_channels= 1,\n",
    "            out_channels= 5,\n",
    "            kernel_size= 3,\n",
    "            padding= \"same\",\n",
    "            padding_mode= \"zeros\",\n",
    "        )\n",
    "        self.pool1 = nn.MaxPool2d(\n",
    "            kernel_size= 2,\n",
    "            stride= 2,\n",
    "        )\n",
    "        self.conv2 = nn.Conv2d(\n",
    "            in_channels= 5,\n",
    "            out_channels= 10,\n",
    "            kernel_size= 3,\n",
    "            padding= \"same\",\n",
    "            padding_mode= \"zeros\",\n",
    "        )\n",
    "        self.pool2 = nn.MaxPool2d(\n",
    "            kernel_size= 2,\n",
    "            stride= 2,\n",
    "        )\n",
    "        self.l1 = nn.Linear(10 * 7 * 7, 30)\n",
    "        self.l2 = nn.Linear(30, 10)\n",
    "\n",
    "    def forward(self, x: torch.Tensor):\n",
    "        x = self.conv1(x)\n",
    "        x = self.relu(x)\n",
    "        x = self.pool1(x)\n",
    "        x = self.conv2(x)\n",
    "        x = self.relu(x)\n",
    "        x = self.pool2(x)\n",
    "        x = x.view(-1, 490)\n",
    "        x = self.l1(x)\n",
    "        x = self.relu(x)\n",
    "        x = self.l2(x)\n",
    "        return x\n",
    "\n",
    "# device: str = \"cuda\" if torch.cuda.is_available() else \"cpu\"\n",
    "model = Digitv2Network()\n",
    "model.load_state_dict(torch.load(\"./digitsv2.pth\"))\n",
    "model.eval()\n"
   ]
  }
 ],
 "metadata": {
  "kernelspec": {
   "display_name": "Python 3",
   "language": "python",
   "name": "python3"
  },
  "language_info": {
   "codemirror_mode": {
    "name": "ipython",
    "version": 2
   },
   "file_extension": ".py",
   "mimetype": "text/x-python",
   "name": "python",
   "nbconvert_exporter": "python",
   "pygments_lexer": "ipython2",
   "version": "2.7.6"
  }
 },
 "nbformat": 4,
 "nbformat_minor": 0
}